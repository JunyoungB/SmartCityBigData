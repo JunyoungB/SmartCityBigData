{
  "nbformat": 4,
  "nbformat_minor": 0,
  "metadata": {
    "colab": {
      "provenance": [],
      "authorship_tag": "ABX9TyPkSkCqgmU5lKvchIXJbynj",
      "include_colab_link": true
    },
    "kernelspec": {
      "name": "ir",
      "display_name": "R"
    },
    "language_info": {
      "name": "R"
    }
  },
  "cells": [
    {
      "cell_type": "markdown",
      "metadata": {
        "id": "view-in-github",
        "colab_type": "text"
      },
      "source": [
        "<a href=\"https://colab.research.google.com/github/JunyoungB/SmartCityBigData/blob/main/R4ds_2.ipynb\" target=\"_parent\"><img src=\"https://colab.research.google.com/assets/colab-badge.svg\" alt=\"Open In Colab\"/></a>"
      ]
    },
    {
      "cell_type": "markdown",
      "source": [
        "# R for Data Science 실습 2 - Data wrangling and programing\n",
        "\n",
        "## Data Wrangling (tidyr)"
      ],
      "metadata": {
        "id": "V5CK6Wl4FcH1"
      }
    },
    {
      "cell_type": "code",
      "source": [
        "library(tidyverse)"
      ],
      "metadata": {
        "id": "7TsNxFVRJjjh",
        "outputId": "fc7d0444-6bad-4b93-b24a-3765e5957148",
        "colab": {
          "base_uri": "https://localhost:8080/"
        }
      },
      "execution_count": 1,
      "outputs": [
        {
          "output_type": "stream",
          "name": "stderr",
          "text": [
            "── \u001b[1mAttaching core tidyverse packages\u001b[22m ──────────────────────── tidyverse 2.0.0 ──\n",
            "\u001b[32m✔\u001b[39m \u001b[34mdplyr    \u001b[39m 1.1.4     \u001b[32m✔\u001b[39m \u001b[34mreadr    \u001b[39m 2.1.5\n",
            "\u001b[32m✔\u001b[39m \u001b[34mforcats  \u001b[39m 1.0.0     \u001b[32m✔\u001b[39m \u001b[34mstringr  \u001b[39m 1.5.2\n",
            "\u001b[32m✔\u001b[39m \u001b[34mggplot2  \u001b[39m 4.0.0     \u001b[32m✔\u001b[39m \u001b[34mtibble   \u001b[39m 3.3.0\n",
            "\u001b[32m✔\u001b[39m \u001b[34mlubridate\u001b[39m 1.9.4     \u001b[32m✔\u001b[39m \u001b[34mtidyr    \u001b[39m 1.3.1\n",
            "\u001b[32m✔\u001b[39m \u001b[34mpurrr    \u001b[39m 1.1.0     \n",
            "── \u001b[1mConflicts\u001b[22m ────────────────────────────────────────── tidyverse_conflicts() ──\n",
            "\u001b[31m✖\u001b[39m \u001b[34mdplyr\u001b[39m::\u001b[32mfilter()\u001b[39m masks \u001b[34mstats\u001b[39m::filter()\n",
            "\u001b[31m✖\u001b[39m \u001b[34mdplyr\u001b[39m::\u001b[32mlag()\u001b[39m    masks \u001b[34mstats\u001b[39m::lag()\n",
            "\u001b[36mℹ\u001b[39m Use the conflicted package (\u001b[3m\u001b[34m<http://conflicted.r-lib.org/>\u001b[39m\u001b[23m) to force all conflicts to become errors\n"
          ]
        }
      ]
    },
    {
      "cell_type": "markdown",
      "source": [
        "## Example datasets"
      ],
      "metadata": {
        "id": "g9jsrDPUJkhL"
      }
    },
    {
      "cell_type": "code",
      "source": [
        "table1"
      ],
      "metadata": {
        "id": "iAUKG6_VJoc2",
        "outputId": "eb6f73e7-217d-42af-fa37-df70875f2d11",
        "colab": {
          "base_uri": "https://localhost:8080/",
          "height": 286
        }
      },
      "execution_count": 2,
      "outputs": [
        {
          "output_type": "display_data",
          "data": {
            "text/html": [
              "<table class=\"dataframe\">\n",
              "<caption>A tibble: 6 × 4</caption>\n",
              "<thead>\n",
              "\t<tr><th scope=col>country</th><th scope=col>year</th><th scope=col>cases</th><th scope=col>population</th></tr>\n",
              "\t<tr><th scope=col>&lt;chr&gt;</th><th scope=col>&lt;dbl&gt;</th><th scope=col>&lt;dbl&gt;</th><th scope=col>&lt;dbl&gt;</th></tr>\n",
              "</thead>\n",
              "<tbody>\n",
              "\t<tr><td>Afghanistan</td><td>1999</td><td>   745</td><td>  19987071</td></tr>\n",
              "\t<tr><td>Afghanistan</td><td>2000</td><td>  2666</td><td>  20595360</td></tr>\n",
              "\t<tr><td>Brazil     </td><td>1999</td><td> 37737</td><td> 172006362</td></tr>\n",
              "\t<tr><td>Brazil     </td><td>2000</td><td> 80488</td><td> 174504898</td></tr>\n",
              "\t<tr><td>China      </td><td>1999</td><td>212258</td><td>1272915272</td></tr>\n",
              "\t<tr><td>China      </td><td>2000</td><td>213766</td><td>1280428583</td></tr>\n",
              "</tbody>\n",
              "</table>\n"
            ],
            "text/markdown": "\nA tibble: 6 × 4\n\n| country &lt;chr&gt; | year &lt;dbl&gt; | cases &lt;dbl&gt; | population &lt;dbl&gt; |\n|---|---|---|---|\n| Afghanistan | 1999 |    745 |   19987071 |\n| Afghanistan | 2000 |   2666 |   20595360 |\n| Brazil      | 1999 |  37737 |  172006362 |\n| Brazil      | 2000 |  80488 |  174504898 |\n| China       | 1999 | 212258 | 1272915272 |\n| China       | 2000 | 213766 | 1280428583 |\n\n",
            "text/latex": "A tibble: 6 × 4\n\\begin{tabular}{llll}\n country & year & cases & population\\\\\n <chr> & <dbl> & <dbl> & <dbl>\\\\\n\\hline\n\t Afghanistan & 1999 &    745 &   19987071\\\\\n\t Afghanistan & 2000 &   2666 &   20595360\\\\\n\t Brazil      & 1999 &  37737 &  172006362\\\\\n\t Brazil      & 2000 &  80488 &  174504898\\\\\n\t China       & 1999 & 212258 & 1272915272\\\\\n\t China       & 2000 & 213766 & 1280428583\\\\\n\\end{tabular}\n",
            "text/plain": [
              "  country     year cases  population\n",
              "1 Afghanistan 1999    745   19987071\n",
              "2 Afghanistan 2000   2666   20595360\n",
              "3 Brazil      1999  37737  172006362\n",
              "4 Brazil      2000  80488  174504898\n",
              "5 China       1999 212258 1272915272\n",
              "6 China       2000 213766 1280428583"
            ]
          },
          "metadata": {}
        }
      ]
    },
    {
      "cell_type": "code",
      "source": [
        "table2"
      ],
      "metadata": {
        "id": "ugrC4mqYJpoU",
        "outputId": "841b57ad-60bd-4598-ac0c-0bbcd793e208",
        "colab": {
          "base_uri": "https://localhost:8080/",
          "height": 474
        }
      },
      "execution_count": 3,
      "outputs": [
        {
          "output_type": "display_data",
          "data": {
            "text/html": [
              "<table class=\"dataframe\">\n",
              "<caption>A tibble: 12 × 4</caption>\n",
              "<thead>\n",
              "\t<tr><th scope=col>country</th><th scope=col>year</th><th scope=col>type</th><th scope=col>count</th></tr>\n",
              "\t<tr><th scope=col>&lt;chr&gt;</th><th scope=col>&lt;dbl&gt;</th><th scope=col>&lt;chr&gt;</th><th scope=col>&lt;dbl&gt;</th></tr>\n",
              "</thead>\n",
              "<tbody>\n",
              "\t<tr><td>Afghanistan</td><td>1999</td><td>cases     </td><td>       745</td></tr>\n",
              "\t<tr><td>Afghanistan</td><td>1999</td><td>population</td><td>  19987071</td></tr>\n",
              "\t<tr><td>Afghanistan</td><td>2000</td><td>cases     </td><td>      2666</td></tr>\n",
              "\t<tr><td>Afghanistan</td><td>2000</td><td>population</td><td>  20595360</td></tr>\n",
              "\t<tr><td>Brazil     </td><td>1999</td><td>cases     </td><td>     37737</td></tr>\n",
              "\t<tr><td>Brazil     </td><td>1999</td><td>population</td><td> 172006362</td></tr>\n",
              "\t<tr><td>Brazil     </td><td>2000</td><td>cases     </td><td>     80488</td></tr>\n",
              "\t<tr><td>Brazil     </td><td>2000</td><td>population</td><td> 174504898</td></tr>\n",
              "\t<tr><td>China      </td><td>1999</td><td>cases     </td><td>    212258</td></tr>\n",
              "\t<tr><td>China      </td><td>1999</td><td>population</td><td>1272915272</td></tr>\n",
              "\t<tr><td>China      </td><td>2000</td><td>cases     </td><td>    213766</td></tr>\n",
              "\t<tr><td>China      </td><td>2000</td><td>population</td><td>1280428583</td></tr>\n",
              "</tbody>\n",
              "</table>\n"
            ],
            "text/markdown": "\nA tibble: 12 × 4\n\n| country &lt;chr&gt; | year &lt;dbl&gt; | type &lt;chr&gt; | count &lt;dbl&gt; |\n|---|---|---|---|\n| Afghanistan | 1999 | cases      |        745 |\n| Afghanistan | 1999 | population |   19987071 |\n| Afghanistan | 2000 | cases      |       2666 |\n| Afghanistan | 2000 | population |   20595360 |\n| Brazil      | 1999 | cases      |      37737 |\n| Brazil      | 1999 | population |  172006362 |\n| Brazil      | 2000 | cases      |      80488 |\n| Brazil      | 2000 | population |  174504898 |\n| China       | 1999 | cases      |     212258 |\n| China       | 1999 | population | 1272915272 |\n| China       | 2000 | cases      |     213766 |\n| China       | 2000 | population | 1280428583 |\n\n",
            "text/latex": "A tibble: 12 × 4\n\\begin{tabular}{llll}\n country & year & type & count\\\\\n <chr> & <dbl> & <chr> & <dbl>\\\\\n\\hline\n\t Afghanistan & 1999 & cases      &        745\\\\\n\t Afghanistan & 1999 & population &   19987071\\\\\n\t Afghanistan & 2000 & cases      &       2666\\\\\n\t Afghanistan & 2000 & population &   20595360\\\\\n\t Brazil      & 1999 & cases      &      37737\\\\\n\t Brazil      & 1999 & population &  172006362\\\\\n\t Brazil      & 2000 & cases      &      80488\\\\\n\t Brazil      & 2000 & population &  174504898\\\\\n\t China       & 1999 & cases      &     212258\\\\\n\t China       & 1999 & population & 1272915272\\\\\n\t China       & 2000 & cases      &     213766\\\\\n\t China       & 2000 & population & 1280428583\\\\\n\\end{tabular}\n",
            "text/plain": [
              "   country     year type       count     \n",
              "1  Afghanistan 1999 cases             745\n",
              "2  Afghanistan 1999 population   19987071\n",
              "3  Afghanistan 2000 cases            2666\n",
              "4  Afghanistan 2000 population   20595360\n",
              "5  Brazil      1999 cases           37737\n",
              "6  Brazil      1999 population  172006362\n",
              "7  Brazil      2000 cases           80488\n",
              "8  Brazil      2000 population  174504898\n",
              "9  China       1999 cases          212258\n",
              "10 China       1999 population 1272915272\n",
              "11 China       2000 cases          213766\n",
              "12 China       2000 population 1280428583"
            ]
          },
          "metadata": {}
        }
      ]
    },
    {
      "cell_type": "code",
      "source": [
        "table3"
      ],
      "metadata": {
        "id": "i6VOTcQSJsdh",
        "outputId": "bb13aa76-bf22-4107-f5e8-4b84a591b3f1",
        "colab": {
          "base_uri": "https://localhost:8080/",
          "height": 286
        }
      },
      "execution_count": 4,
      "outputs": [
        {
          "output_type": "display_data",
          "data": {
            "text/html": [
              "<table class=\"dataframe\">\n",
              "<caption>A tibble: 6 × 3</caption>\n",
              "<thead>\n",
              "\t<tr><th scope=col>country</th><th scope=col>year</th><th scope=col>rate</th></tr>\n",
              "\t<tr><th scope=col>&lt;chr&gt;</th><th scope=col>&lt;dbl&gt;</th><th scope=col>&lt;chr&gt;</th></tr>\n",
              "</thead>\n",
              "<tbody>\n",
              "\t<tr><td>Afghanistan</td><td>1999</td><td>745/19987071     </td></tr>\n",
              "\t<tr><td>Afghanistan</td><td>2000</td><td>2666/20595360    </td></tr>\n",
              "\t<tr><td>Brazil     </td><td>1999</td><td>37737/172006362  </td></tr>\n",
              "\t<tr><td>Brazil     </td><td>2000</td><td>80488/174504898  </td></tr>\n",
              "\t<tr><td>China      </td><td>1999</td><td>212258/1272915272</td></tr>\n",
              "\t<tr><td>China      </td><td>2000</td><td>213766/1280428583</td></tr>\n",
              "</tbody>\n",
              "</table>\n"
            ],
            "text/markdown": "\nA tibble: 6 × 3\n\n| country &lt;chr&gt; | year &lt;dbl&gt; | rate &lt;chr&gt; |\n|---|---|---|\n| Afghanistan | 1999 | 745/19987071      |\n| Afghanistan | 2000 | 2666/20595360     |\n| Brazil      | 1999 | 37737/172006362   |\n| Brazil      | 2000 | 80488/174504898   |\n| China       | 1999 | 212258/1272915272 |\n| China       | 2000 | 213766/1280428583 |\n\n",
            "text/latex": "A tibble: 6 × 3\n\\begin{tabular}{lll}\n country & year & rate\\\\\n <chr> & <dbl> & <chr>\\\\\n\\hline\n\t Afghanistan & 1999 & 745/19987071     \\\\\n\t Afghanistan & 2000 & 2666/20595360    \\\\\n\t Brazil      & 1999 & 37737/172006362  \\\\\n\t Brazil      & 2000 & 80488/174504898  \\\\\n\t China       & 1999 & 212258/1272915272\\\\\n\t China       & 2000 & 213766/1280428583\\\\\n\\end{tabular}\n",
            "text/plain": [
              "  country     year rate             \n",
              "1 Afghanistan 1999 745/19987071     \n",
              "2 Afghanistan 2000 2666/20595360    \n",
              "3 Brazil      1999 37737/172006362  \n",
              "4 Brazil      2000 80488/174504898  \n",
              "5 China       1999 212258/1272915272\n",
              "6 China       2000 213766/1280428583"
            ]
          },
          "metadata": {}
        }
      ]
    },
    {
      "cell_type": "code",
      "source": [
        "table4a # N. cases"
      ],
      "metadata": {
        "id": "El6pzYgTJxz6",
        "outputId": "456e59db-f639-4044-9fe5-a69e5b4aa80c",
        "colab": {
          "base_uri": "https://localhost:8080/",
          "height": 192
        }
      },
      "execution_count": 5,
      "outputs": [
        {
          "output_type": "display_data",
          "data": {
            "text/html": [
              "<table class=\"dataframe\">\n",
              "<caption>A tibble: 3 × 3</caption>\n",
              "<thead>\n",
              "\t<tr><th scope=col>country</th><th scope=col>1999</th><th scope=col>2000</th></tr>\n",
              "\t<tr><th scope=col>&lt;chr&gt;</th><th scope=col>&lt;dbl&gt;</th><th scope=col>&lt;dbl&gt;</th></tr>\n",
              "</thead>\n",
              "<tbody>\n",
              "\t<tr><td>Afghanistan</td><td>   745</td><td>  2666</td></tr>\n",
              "\t<tr><td>Brazil     </td><td> 37737</td><td> 80488</td></tr>\n",
              "\t<tr><td>China      </td><td>212258</td><td>213766</td></tr>\n",
              "</tbody>\n",
              "</table>\n"
            ],
            "text/markdown": "\nA tibble: 3 × 3\n\n| country &lt;chr&gt; | 1999 &lt;dbl&gt; | 2000 &lt;dbl&gt; |\n|---|---|---|\n| Afghanistan |    745 |   2666 |\n| Brazil      |  37737 |  80488 |\n| China       | 212258 | 213766 |\n\n",
            "text/latex": "A tibble: 3 × 3\n\\begin{tabular}{lll}\n country & 1999 & 2000\\\\\n <chr> & <dbl> & <dbl>\\\\\n\\hline\n\t Afghanistan &    745 &   2666\\\\\n\t Brazil      &  37737 &  80488\\\\\n\t China       & 212258 & 213766\\\\\n\\end{tabular}\n",
            "text/plain": [
              "  country     1999   2000  \n",
              "1 Afghanistan    745   2666\n",
              "2 Brazil       37737  80488\n",
              "3 China       212258 213766"
            ]
          },
          "metadata": {}
        }
      ]
    },
    {
      "cell_type": "code",
      "source": [
        "table4b # N. population"
      ],
      "metadata": {
        "id": "KcMn5JMPJzOa",
        "outputId": "1931e790-8af0-4422-8350-f6002658231d",
        "colab": {
          "base_uri": "https://localhost:8080/",
          "height": 192
        }
      },
      "execution_count": 6,
      "outputs": [
        {
          "output_type": "display_data",
          "data": {
            "text/html": [
              "<table class=\"dataframe\">\n",
              "<caption>A tibble: 3 × 3</caption>\n",
              "<thead>\n",
              "\t<tr><th scope=col>country</th><th scope=col>1999</th><th scope=col>2000</th></tr>\n",
              "\t<tr><th scope=col>&lt;chr&gt;</th><th scope=col>&lt;dbl&gt;</th><th scope=col>&lt;dbl&gt;</th></tr>\n",
              "</thead>\n",
              "<tbody>\n",
              "\t<tr><td>Afghanistan</td><td>  19987071</td><td>  20595360</td></tr>\n",
              "\t<tr><td>Brazil     </td><td> 172006362</td><td> 174504898</td></tr>\n",
              "\t<tr><td>China      </td><td>1272915272</td><td>1280428583</td></tr>\n",
              "</tbody>\n",
              "</table>\n"
            ],
            "text/markdown": "\nA tibble: 3 × 3\n\n| country &lt;chr&gt; | 1999 &lt;dbl&gt; | 2000 &lt;dbl&gt; |\n|---|---|---|\n| Afghanistan |   19987071 |   20595360 |\n| Brazil      |  172006362 |  174504898 |\n| China       | 1272915272 | 1280428583 |\n\n",
            "text/latex": "A tibble: 3 × 3\n\\begin{tabular}{lll}\n country & 1999 & 2000\\\\\n <chr> & <dbl> & <dbl>\\\\\n\\hline\n\t Afghanistan &   19987071 &   20595360\\\\\n\t Brazil      &  172006362 &  174504898\\\\\n\t China       & 1272915272 & 1280428583\\\\\n\\end{tabular}\n",
            "text/plain": [
              "  country     1999       2000      \n",
              "1 Afghanistan   19987071   20595360\n",
              "2 Brazil       172006362  174504898\n",
              "3 China       1272915272 1280428583"
            ]
          },
          "metadata": {}
        }
      ]
    },
    {
      "cell_type": "markdown",
      "source": [
        "## pivot_longer()"
      ],
      "metadata": {
        "id": "ovirl2DIJ0bB"
      }
    },
    {
      "cell_type": "markdown",
      "source": [
        "One variable might be spread across multiple columns"
      ],
      "metadata": {
        "id": "gpvgo8RNJ6bj"
      }
    },
    {
      "cell_type": "markdown",
      "source": [
        "Apply pivot_longer() to table4a"
      ],
      "metadata": {
        "id": "ABb-jFqGJ8g9"
      }
    },
    {
      "cell_type": "code",
      "source": [
        "table4a %>%\n",
        "  pivot_longer(c('1999', '2000'), names_to = \"year\", values_to = \"cases\")"
      ],
      "metadata": {
        "id": "B1mUD8e4J-Vq",
        "outputId": "e45aced3-7445-4ee1-8756-b61e6c31221a",
        "colab": {
          "base_uri": "https://localhost:8080/",
          "height": 286
        }
      },
      "execution_count": 7,
      "outputs": [
        {
          "output_type": "display_data",
          "data": {
            "text/html": [
              "<table class=\"dataframe\">\n",
              "<caption>A tibble: 6 × 3</caption>\n",
              "<thead>\n",
              "\t<tr><th scope=col>country</th><th scope=col>year</th><th scope=col>cases</th></tr>\n",
              "\t<tr><th scope=col>&lt;chr&gt;</th><th scope=col>&lt;chr&gt;</th><th scope=col>&lt;dbl&gt;</th></tr>\n",
              "</thead>\n",
              "<tbody>\n",
              "\t<tr><td>Afghanistan</td><td>1999</td><td>   745</td></tr>\n",
              "\t<tr><td>Afghanistan</td><td>2000</td><td>  2666</td></tr>\n",
              "\t<tr><td>Brazil     </td><td>1999</td><td> 37737</td></tr>\n",
              "\t<tr><td>Brazil     </td><td>2000</td><td> 80488</td></tr>\n",
              "\t<tr><td>China      </td><td>1999</td><td>212258</td></tr>\n",
              "\t<tr><td>China      </td><td>2000</td><td>213766</td></tr>\n",
              "</tbody>\n",
              "</table>\n"
            ],
            "text/markdown": "\nA tibble: 6 × 3\n\n| country &lt;chr&gt; | year &lt;chr&gt; | cases &lt;dbl&gt; |\n|---|---|---|\n| Afghanistan | 1999 |    745 |\n| Afghanistan | 2000 |   2666 |\n| Brazil      | 1999 |  37737 |\n| Brazil      | 2000 |  80488 |\n| China       | 1999 | 212258 |\n| China       | 2000 | 213766 |\n\n",
            "text/latex": "A tibble: 6 × 3\n\\begin{tabular}{lll}\n country & year & cases\\\\\n <chr> & <chr> & <dbl>\\\\\n\\hline\n\t Afghanistan & 1999 &    745\\\\\n\t Afghanistan & 2000 &   2666\\\\\n\t Brazil      & 1999 &  37737\\\\\n\t Brazil      & 2000 &  80488\\\\\n\t China       & 1999 & 212258\\\\\n\t China       & 2000 & 213766\\\\\n\\end{tabular}\n",
            "text/plain": [
              "  country     year cases \n",
              "1 Afghanistan 1999    745\n",
              "2 Afghanistan 2000   2666\n",
              "3 Brazil      1999  37737\n",
              "4 Brazil      2000  80488\n",
              "5 China       1999 212258\n",
              "6 China       2000 213766"
            ]
          },
          "metadata": {}
        }
      ]
    },
    {
      "cell_type": "markdown",
      "source": [
        "apply it to table4b"
      ],
      "metadata": {
        "id": "LGkrj4BdKDSW"
      }
    },
    {
      "cell_type": "code",
      "source": [
        "table4b %>%\n",
        "  pivot_longer(c('1999', '2000'), names_to = \"year\", values_to = \"population\")\n"
      ],
      "metadata": {
        "id": "rPGqIwHIKHqY",
        "outputId": "3ca9ae24-6149-40a8-a220-a86e1e3bcf47",
        "colab": {
          "base_uri": "https://localhost:8080/",
          "height": 286
        }
      },
      "execution_count": 8,
      "outputs": [
        {
          "output_type": "display_data",
          "data": {
            "text/html": [
              "<table class=\"dataframe\">\n",
              "<caption>A tibble: 6 × 3</caption>\n",
              "<thead>\n",
              "\t<tr><th scope=col>country</th><th scope=col>year</th><th scope=col>population</th></tr>\n",
              "\t<tr><th scope=col>&lt;chr&gt;</th><th scope=col>&lt;chr&gt;</th><th scope=col>&lt;dbl&gt;</th></tr>\n",
              "</thead>\n",
              "<tbody>\n",
              "\t<tr><td>Afghanistan</td><td>1999</td><td>  19987071</td></tr>\n",
              "\t<tr><td>Afghanistan</td><td>2000</td><td>  20595360</td></tr>\n",
              "\t<tr><td>Brazil     </td><td>1999</td><td> 172006362</td></tr>\n",
              "\t<tr><td>Brazil     </td><td>2000</td><td> 174504898</td></tr>\n",
              "\t<tr><td>China      </td><td>1999</td><td>1272915272</td></tr>\n",
              "\t<tr><td>China      </td><td>2000</td><td>1280428583</td></tr>\n",
              "</tbody>\n",
              "</table>\n"
            ],
            "text/markdown": "\nA tibble: 6 × 3\n\n| country &lt;chr&gt; | year &lt;chr&gt; | population &lt;dbl&gt; |\n|---|---|---|\n| Afghanistan | 1999 |   19987071 |\n| Afghanistan | 2000 |   20595360 |\n| Brazil      | 1999 |  172006362 |\n| Brazil      | 2000 |  174504898 |\n| China       | 1999 | 1272915272 |\n| China       | 2000 | 1280428583 |\n\n",
            "text/latex": "A tibble: 6 × 3\n\\begin{tabular}{lll}\n country & year & population\\\\\n <chr> & <chr> & <dbl>\\\\\n\\hline\n\t Afghanistan & 1999 &   19987071\\\\\n\t Afghanistan & 2000 &   20595360\\\\\n\t Brazil      & 1999 &  172006362\\\\\n\t Brazil      & 2000 &  174504898\\\\\n\t China       & 1999 & 1272915272\\\\\n\t China       & 2000 & 1280428583\\\\\n\\end{tabular}\n",
            "text/plain": [
              "  country     year population\n",
              "1 Afghanistan 1999   19987071\n",
              "2 Afghanistan 2000   20595360\n",
              "3 Brazil      1999  172006362\n",
              "4 Brazil      2000  174504898\n",
              "5 China       1999 1272915272\n",
              "6 China       2000 1280428583"
            ]
          },
          "metadata": {}
        }
      ]
    },
    {
      "cell_type": "markdown",
      "source": [
        "Join two tables"
      ],
      "metadata": {
        "id": "2wZHpzBGKI5K"
      }
    },
    {
      "cell_type": "code",
      "source": [
        "tidy4a <- table4a %>%\n",
        "  pivot_longer(c('1999', '2000'), names_to = \"year\", values_to = \"cases\")\n",
        "tidy4b <- table4b %>%\n",
        "  pivot_longer(c('1999', '2000'), names_to = \"year\", values_to = \"population\")\n",
        "left_join(tidy4a, tidy4b)"
      ],
      "metadata": {
        "id": "4UPP3sSqKKip",
        "outputId": "535a770a-b444-4d27-ec1f-b8f6fbc24ec0",
        "colab": {
          "base_uri": "https://localhost:8080/",
          "height": 304
        }
      },
      "execution_count": 9,
      "outputs": [
        {
          "output_type": "stream",
          "name": "stderr",
          "text": [
            "\u001b[1m\u001b[22mJoining with `by = join_by(country, year)`\n"
          ]
        },
        {
          "output_type": "display_data",
          "data": {
            "text/html": [
              "<table class=\"dataframe\">\n",
              "<caption>A tibble: 6 × 4</caption>\n",
              "<thead>\n",
              "\t<tr><th scope=col>country</th><th scope=col>year</th><th scope=col>cases</th><th scope=col>population</th></tr>\n",
              "\t<tr><th scope=col>&lt;chr&gt;</th><th scope=col>&lt;chr&gt;</th><th scope=col>&lt;dbl&gt;</th><th scope=col>&lt;dbl&gt;</th></tr>\n",
              "</thead>\n",
              "<tbody>\n",
              "\t<tr><td>Afghanistan</td><td>1999</td><td>   745</td><td>  19987071</td></tr>\n",
              "\t<tr><td>Afghanistan</td><td>2000</td><td>  2666</td><td>  20595360</td></tr>\n",
              "\t<tr><td>Brazil     </td><td>1999</td><td> 37737</td><td> 172006362</td></tr>\n",
              "\t<tr><td>Brazil     </td><td>2000</td><td> 80488</td><td> 174504898</td></tr>\n",
              "\t<tr><td>China      </td><td>1999</td><td>212258</td><td>1272915272</td></tr>\n",
              "\t<tr><td>China      </td><td>2000</td><td>213766</td><td>1280428583</td></tr>\n",
              "</tbody>\n",
              "</table>\n"
            ],
            "text/markdown": "\nA tibble: 6 × 4\n\n| country &lt;chr&gt; | year &lt;chr&gt; | cases &lt;dbl&gt; | population &lt;dbl&gt; |\n|---|---|---|---|\n| Afghanistan | 1999 |    745 |   19987071 |\n| Afghanistan | 2000 |   2666 |   20595360 |\n| Brazil      | 1999 |  37737 |  172006362 |\n| Brazil      | 2000 |  80488 |  174504898 |\n| China       | 1999 | 212258 | 1272915272 |\n| China       | 2000 | 213766 | 1280428583 |\n\n",
            "text/latex": "A tibble: 6 × 4\n\\begin{tabular}{llll}\n country & year & cases & population\\\\\n <chr> & <chr> & <dbl> & <dbl>\\\\\n\\hline\n\t Afghanistan & 1999 &    745 &   19987071\\\\\n\t Afghanistan & 2000 &   2666 &   20595360\\\\\n\t Brazil      & 1999 &  37737 &  172006362\\\\\n\t Brazil      & 2000 &  80488 &  174504898\\\\\n\t China       & 1999 & 212258 & 1272915272\\\\\n\t China       & 2000 & 213766 & 1280428583\\\\\n\\end{tabular}\n",
            "text/plain": [
              "  country     year cases  population\n",
              "1 Afghanistan 1999    745   19987071\n",
              "2 Afghanistan 2000   2666   20595360\n",
              "3 Brazil      1999  37737  172006362\n",
              "4 Brazil      2000  80488  174504898\n",
              "5 China       1999 212258 1272915272\n",
              "6 China       2000 213766 1280428583"
            ]
          },
          "metadata": {}
        }
      ]
    },
    {
      "cell_type": "markdown",
      "source": [
        "### Q: What is right_join? try right_join and study join methods"
      ],
      "metadata": {
        "id": "7yVc-z8iKM5l"
      }
    },
    {
      "cell_type": "code",
      "source": [
        "tidy4a <- table4a %>%\n",
        "  pivot_longer(c('1999', '2000'), names_to = \"year\", values_to = \"cases\")\n",
        "tidy4b <- table4b %>%\n",
        "  pivot_longer(c('1999', '2000'), names_to = \"year\", values_to = \"population\")\n",
        "right_join(tidy4a, tidy4b)"
      ],
      "metadata": {
        "id": "gglFRSrDKQ4z",
        "outputId": "78995599-2fb0-4e72-b233-c753b77ed50c",
        "colab": {
          "base_uri": "https://localhost:8080/",
          "height": 304
        }
      },
      "execution_count": 10,
      "outputs": [
        {
          "output_type": "stream",
          "name": "stderr",
          "text": [
            "\u001b[1m\u001b[22mJoining with `by = join_by(country, year)`\n"
          ]
        },
        {
          "output_type": "display_data",
          "data": {
            "text/html": [
              "<table class=\"dataframe\">\n",
              "<caption>A tibble: 6 × 4</caption>\n",
              "<thead>\n",
              "\t<tr><th scope=col>country</th><th scope=col>year</th><th scope=col>cases</th><th scope=col>population</th></tr>\n",
              "\t<tr><th scope=col>&lt;chr&gt;</th><th scope=col>&lt;chr&gt;</th><th scope=col>&lt;dbl&gt;</th><th scope=col>&lt;dbl&gt;</th></tr>\n",
              "</thead>\n",
              "<tbody>\n",
              "\t<tr><td>Afghanistan</td><td>1999</td><td>   745</td><td>  19987071</td></tr>\n",
              "\t<tr><td>Afghanistan</td><td>2000</td><td>  2666</td><td>  20595360</td></tr>\n",
              "\t<tr><td>Brazil     </td><td>1999</td><td> 37737</td><td> 172006362</td></tr>\n",
              "\t<tr><td>Brazil     </td><td>2000</td><td> 80488</td><td> 174504898</td></tr>\n",
              "\t<tr><td>China      </td><td>1999</td><td>212258</td><td>1272915272</td></tr>\n",
              "\t<tr><td>China      </td><td>2000</td><td>213766</td><td>1280428583</td></tr>\n",
              "</tbody>\n",
              "</table>\n"
            ],
            "text/markdown": "\nA tibble: 6 × 4\n\n| country &lt;chr&gt; | year &lt;chr&gt; | cases &lt;dbl&gt; | population &lt;dbl&gt; |\n|---|---|---|---|\n| Afghanistan | 1999 |    745 |   19987071 |\n| Afghanistan | 2000 |   2666 |   20595360 |\n| Brazil      | 1999 |  37737 |  172006362 |\n| Brazil      | 2000 |  80488 |  174504898 |\n| China       | 1999 | 212258 | 1272915272 |\n| China       | 2000 | 213766 | 1280428583 |\n\n",
            "text/latex": "A tibble: 6 × 4\n\\begin{tabular}{llll}\n country & year & cases & population\\\\\n <chr> & <chr> & <dbl> & <dbl>\\\\\n\\hline\n\t Afghanistan & 1999 &    745 &   19987071\\\\\n\t Afghanistan & 2000 &   2666 &   20595360\\\\\n\t Brazil      & 1999 &  37737 &  172006362\\\\\n\t Brazil      & 2000 &  80488 &  174504898\\\\\n\t China       & 1999 & 212258 & 1272915272\\\\\n\t China       & 2000 & 213766 & 1280428583\\\\\n\\end{tabular}\n",
            "text/plain": [
              "  country     year cases  population\n",
              "1 Afghanistan 1999    745   19987071\n",
              "2 Afghanistan 2000   2666   20595360\n",
              "3 Brazil      1999  37737  172006362\n",
              "4 Brazil      2000  80488  174504898\n",
              "5 China       1999 212258 1272915272\n",
              "6 China       2000 213766 1280428583"
            ]
          },
          "metadata": {}
        }
      ]
    },
    {
      "cell_type": "code",
      "source": [],
      "metadata": {
        "id": "mYhQZLowKUy2"
      },
      "execution_count": null,
      "outputs": []
    }
  ]
}