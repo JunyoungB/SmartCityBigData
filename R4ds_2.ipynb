{
  "nbformat": 4,
  "nbformat_minor": 0,
  "metadata": {
    "colab": {
      "provenance": [],
      "authorship_tag": "ABX9TyM7NTwm3JiHn6NIGJTuniup",
      "include_colab_link": true
    },
    "kernelspec": {
      "name": "ir",
      "display_name": "R"
    },
    "language_info": {
      "name": "R"
    }
  },
  "cells": [
    {
      "cell_type": "markdown",
      "metadata": {
        "id": "view-in-github",
        "colab_type": "text"
      },
      "source": [
        "<a href=\"https://colab.research.google.com/github/JunyoungB/SmartCityBigData/blob/main/R4ds_2.ipynb\" target=\"_parent\"><img src=\"https://colab.research.google.com/assets/colab-badge.svg\" alt=\"Open In Colab\"/></a>"
      ]
    },
    {
      "cell_type": "markdown",
      "source": [
        "# R for Data Science 실습 2 - Data wrangling and programing\n",
        "\n",
        "## Data Wrangling (tidyr)"
      ],
      "metadata": {
        "id": "V5CK6Wl4FcH1"
      }
    },
    {
      "cell_type": "code",
      "source": [
        "library(tidyverse)"
      ],
      "metadata": {
        "colab": {
          "base_uri": "https://localhost:8080/"
        },
        "id": "7TsNxFVRJjjh",
        "outputId": "fc7d0444-6bad-4b93-b24a-3765e5957148"
      },
      "execution_count": 1,
      "outputs": [
        {
          "output_type": "stream",
          "name": "stderr",
          "text": [
            "── \u001b[1mAttaching core tidyverse packages\u001b[22m ──────────────────────── tidyverse 2.0.0 ──\n",
            "\u001b[32m✔\u001b[39m \u001b[34mdplyr    \u001b[39m 1.1.4     \u001b[32m✔\u001b[39m \u001b[34mreadr    \u001b[39m 2.1.5\n",
            "\u001b[32m✔\u001b[39m \u001b[34mforcats  \u001b[39m 1.0.0     \u001b[32m✔\u001b[39m \u001b[34mstringr  \u001b[39m 1.5.2\n",
            "\u001b[32m✔\u001b[39m \u001b[34mggplot2  \u001b[39m 4.0.0     \u001b[32m✔\u001b[39m \u001b[34mtibble   \u001b[39m 3.3.0\n",
            "\u001b[32m✔\u001b[39m \u001b[34mlubridate\u001b[39m 1.9.4     \u001b[32m✔\u001b[39m \u001b[34mtidyr    \u001b[39m 1.3.1\n",
            "\u001b[32m✔\u001b[39m \u001b[34mpurrr    \u001b[39m 1.1.0     \n",
            "── \u001b[1mConflicts\u001b[22m ────────────────────────────────────────── tidyverse_conflicts() ──\n",
            "\u001b[31m✖\u001b[39m \u001b[34mdplyr\u001b[39m::\u001b[32mfilter()\u001b[39m masks \u001b[34mstats\u001b[39m::filter()\n",
            "\u001b[31m✖\u001b[39m \u001b[34mdplyr\u001b[39m::\u001b[32mlag()\u001b[39m    masks \u001b[34mstats\u001b[39m::lag()\n",
            "\u001b[36mℹ\u001b[39m Use the conflicted package (\u001b[3m\u001b[34m<http://conflicted.r-lib.org/>\u001b[39m\u001b[23m) to force all conflicts to become errors\n"
          ]
        }
      ]
    },
    {
      "cell_type": "markdown",
      "source": [
        "## Example datasets"
      ],
      "metadata": {
        "id": "g9jsrDPUJkhL"
      }
    },
    {
      "cell_type": "code",
      "source": [
        "table1"
      ],
      "metadata": {
        "colab": {
          "base_uri": "https://localhost:8080/",
          "height": 286
        },
        "id": "iAUKG6_VJoc2",
        "outputId": "eb6f73e7-217d-42af-fa37-df70875f2d11"
      },
      "execution_count": 2,
      "outputs": [
        {
          "output_type": "display_data",
          "data": {
            "text/html": [
              "<table class=\"dataframe\">\n",
              "<caption>A tibble: 6 × 4</caption>\n",
              "<thead>\n",
              "\t<tr><th scope=col>country</th><th scope=col>year</th><th scope=col>cases</th><th scope=col>population</th></tr>\n",
              "\t<tr><th scope=col>&lt;chr&gt;</th><th scope=col>&lt;dbl&gt;</th><th scope=col>&lt;dbl&gt;</th><th scope=col>&lt;dbl&gt;</th></tr>\n",
              "</thead>\n",
              "<tbody>\n",
              "\t<tr><td>Afghanistan</td><td>1999</td><td>   745</td><td>  19987071</td></tr>\n",
              "\t<tr><td>Afghanistan</td><td>2000</td><td>  2666</td><td>  20595360</td></tr>\n",
              "\t<tr><td>Brazil     </td><td>1999</td><td> 37737</td><td> 172006362</td></tr>\n",
              "\t<tr><td>Brazil     </td><td>2000</td><td> 80488</td><td> 174504898</td></tr>\n",
              "\t<tr><td>China      </td><td>1999</td><td>212258</td><td>1272915272</td></tr>\n",
              "\t<tr><td>China      </td><td>2000</td><td>213766</td><td>1280428583</td></tr>\n",
              "</tbody>\n",
              "</table>\n"
            ],
            "text/markdown": "\nA tibble: 6 × 4\n\n| country &lt;chr&gt; | year &lt;dbl&gt; | cases &lt;dbl&gt; | population &lt;dbl&gt; |\n|---|---|---|---|\n| Afghanistan | 1999 |    745 |   19987071 |\n| Afghanistan | 2000 |   2666 |   20595360 |\n| Brazil      | 1999 |  37737 |  172006362 |\n| Brazil      | 2000 |  80488 |  174504898 |\n| China       | 1999 | 212258 | 1272915272 |\n| China       | 2000 | 213766 | 1280428583 |\n\n",
            "text/latex": "A tibble: 6 × 4\n\\begin{tabular}{llll}\n country & year & cases & population\\\\\n <chr> & <dbl> & <dbl> & <dbl>\\\\\n\\hline\n\t Afghanistan & 1999 &    745 &   19987071\\\\\n\t Afghanistan & 2000 &   2666 &   20595360\\\\\n\t Brazil      & 1999 &  37737 &  172006362\\\\\n\t Brazil      & 2000 &  80488 &  174504898\\\\\n\t China       & 1999 & 212258 & 1272915272\\\\\n\t China       & 2000 & 213766 & 1280428583\\\\\n\\end{tabular}\n",
            "text/plain": [
              "  country     year cases  population\n",
              "1 Afghanistan 1999    745   19987071\n",
              "2 Afghanistan 2000   2666   20595360\n",
              "3 Brazil      1999  37737  172006362\n",
              "4 Brazil      2000  80488  174504898\n",
              "5 China       1999 212258 1272915272\n",
              "6 China       2000 213766 1280428583"
            ]
          },
          "metadata": {}
        }
      ]
    },
    {
      "cell_type": "code",
      "source": [
        "table2"
      ],
      "metadata": {
        "colab": {
          "base_uri": "https://localhost:8080/",
          "height": 474
        },
        "id": "ugrC4mqYJpoU",
        "outputId": "841b57ad-60bd-4598-ac0c-0bbcd793e208"
      },
      "execution_count": 3,
      "outputs": [
        {
          "output_type": "display_data",
          "data": {
            "text/html": [
              "<table class=\"dataframe\">\n",
              "<caption>A tibble: 12 × 4</caption>\n",
              "<thead>\n",
              "\t<tr><th scope=col>country</th><th scope=col>year</th><th scope=col>type</th><th scope=col>count</th></tr>\n",
              "\t<tr><th scope=col>&lt;chr&gt;</th><th scope=col>&lt;dbl&gt;</th><th scope=col>&lt;chr&gt;</th><th scope=col>&lt;dbl&gt;</th></tr>\n",
              "</thead>\n",
              "<tbody>\n",
              "\t<tr><td>Afghanistan</td><td>1999</td><td>cases     </td><td>       745</td></tr>\n",
              "\t<tr><td>Afghanistan</td><td>1999</td><td>population</td><td>  19987071</td></tr>\n",
              "\t<tr><td>Afghanistan</td><td>2000</td><td>cases     </td><td>      2666</td></tr>\n",
              "\t<tr><td>Afghanistan</td><td>2000</td><td>population</td><td>  20595360</td></tr>\n",
              "\t<tr><td>Brazil     </td><td>1999</td><td>cases     </td><td>     37737</td></tr>\n",
              "\t<tr><td>Brazil     </td><td>1999</td><td>population</td><td> 172006362</td></tr>\n",
              "\t<tr><td>Brazil     </td><td>2000</td><td>cases     </td><td>     80488</td></tr>\n",
              "\t<tr><td>Brazil     </td><td>2000</td><td>population</td><td> 174504898</td></tr>\n",
              "\t<tr><td>China      </td><td>1999</td><td>cases     </td><td>    212258</td></tr>\n",
              "\t<tr><td>China      </td><td>1999</td><td>population</td><td>1272915272</td></tr>\n",
              "\t<tr><td>China      </td><td>2000</td><td>cases     </td><td>    213766</td></tr>\n",
              "\t<tr><td>China      </td><td>2000</td><td>population</td><td>1280428583</td></tr>\n",
              "</tbody>\n",
              "</table>\n"
            ],
            "text/markdown": "\nA tibble: 12 × 4\n\n| country &lt;chr&gt; | year &lt;dbl&gt; | type &lt;chr&gt; | count &lt;dbl&gt; |\n|---|---|---|---|\n| Afghanistan | 1999 | cases      |        745 |\n| Afghanistan | 1999 | population |   19987071 |\n| Afghanistan | 2000 | cases      |       2666 |\n| Afghanistan | 2000 | population |   20595360 |\n| Brazil      | 1999 | cases      |      37737 |\n| Brazil      | 1999 | population |  172006362 |\n| Brazil      | 2000 | cases      |      80488 |\n| Brazil      | 2000 | population |  174504898 |\n| China       | 1999 | cases      |     212258 |\n| China       | 1999 | population | 1272915272 |\n| China       | 2000 | cases      |     213766 |\n| China       | 2000 | population | 1280428583 |\n\n",
            "text/latex": "A tibble: 12 × 4\n\\begin{tabular}{llll}\n country & year & type & count\\\\\n <chr> & <dbl> & <chr> & <dbl>\\\\\n\\hline\n\t Afghanistan & 1999 & cases      &        745\\\\\n\t Afghanistan & 1999 & population &   19987071\\\\\n\t Afghanistan & 2000 & cases      &       2666\\\\\n\t Afghanistan & 2000 & population &   20595360\\\\\n\t Brazil      & 1999 & cases      &      37737\\\\\n\t Brazil      & 1999 & population &  172006362\\\\\n\t Brazil      & 2000 & cases      &      80488\\\\\n\t Brazil      & 2000 & population &  174504898\\\\\n\t China       & 1999 & cases      &     212258\\\\\n\t China       & 1999 & population & 1272915272\\\\\n\t China       & 2000 & cases      &     213766\\\\\n\t China       & 2000 & population & 1280428583\\\\\n\\end{tabular}\n",
            "text/plain": [
              "   country     year type       count     \n",
              "1  Afghanistan 1999 cases             745\n",
              "2  Afghanistan 1999 population   19987071\n",
              "3  Afghanistan 2000 cases            2666\n",
              "4  Afghanistan 2000 population   20595360\n",
              "5  Brazil      1999 cases           37737\n",
              "6  Brazil      1999 population  172006362\n",
              "7  Brazil      2000 cases           80488\n",
              "8  Brazil      2000 population  174504898\n",
              "9  China       1999 cases          212258\n",
              "10 China       1999 population 1272915272\n",
              "11 China       2000 cases          213766\n",
              "12 China       2000 population 1280428583"
            ]
          },
          "metadata": {}
        }
      ]
    },
    {
      "cell_type": "code",
      "source": [
        "table3"
      ],
      "metadata": {
        "colab": {
          "base_uri": "https://localhost:8080/",
          "height": 286
        },
        "id": "i6VOTcQSJsdh",
        "outputId": "bb13aa76-bf22-4107-f5e8-4b84a591b3f1"
      },
      "execution_count": 4,
      "outputs": [
        {
          "output_type": "display_data",
          "data": {
            "text/html": [
              "<table class=\"dataframe\">\n",
              "<caption>A tibble: 6 × 3</caption>\n",
              "<thead>\n",
              "\t<tr><th scope=col>country</th><th scope=col>year</th><th scope=col>rate</th></tr>\n",
              "\t<tr><th scope=col>&lt;chr&gt;</th><th scope=col>&lt;dbl&gt;</th><th scope=col>&lt;chr&gt;</th></tr>\n",
              "</thead>\n",
              "<tbody>\n",
              "\t<tr><td>Afghanistan</td><td>1999</td><td>745/19987071     </td></tr>\n",
              "\t<tr><td>Afghanistan</td><td>2000</td><td>2666/20595360    </td></tr>\n",
              "\t<tr><td>Brazil     </td><td>1999</td><td>37737/172006362  </td></tr>\n",
              "\t<tr><td>Brazil     </td><td>2000</td><td>80488/174504898  </td></tr>\n",
              "\t<tr><td>China      </td><td>1999</td><td>212258/1272915272</td></tr>\n",
              "\t<tr><td>China      </td><td>2000</td><td>213766/1280428583</td></tr>\n",
              "</tbody>\n",
              "</table>\n"
            ],
            "text/markdown": "\nA tibble: 6 × 3\n\n| country &lt;chr&gt; | year &lt;dbl&gt; | rate &lt;chr&gt; |\n|---|---|---|\n| Afghanistan | 1999 | 745/19987071      |\n| Afghanistan | 2000 | 2666/20595360     |\n| Brazil      | 1999 | 37737/172006362   |\n| Brazil      | 2000 | 80488/174504898   |\n| China       | 1999 | 212258/1272915272 |\n| China       | 2000 | 213766/1280428583 |\n\n",
            "text/latex": "A tibble: 6 × 3\n\\begin{tabular}{lll}\n country & year & rate\\\\\n <chr> & <dbl> & <chr>\\\\\n\\hline\n\t Afghanistan & 1999 & 745/19987071     \\\\\n\t Afghanistan & 2000 & 2666/20595360    \\\\\n\t Brazil      & 1999 & 37737/172006362  \\\\\n\t Brazil      & 2000 & 80488/174504898  \\\\\n\t China       & 1999 & 212258/1272915272\\\\\n\t China       & 2000 & 213766/1280428583\\\\\n\\end{tabular}\n",
            "text/plain": [
              "  country     year rate             \n",
              "1 Afghanistan 1999 745/19987071     \n",
              "2 Afghanistan 2000 2666/20595360    \n",
              "3 Brazil      1999 37737/172006362  \n",
              "4 Brazil      2000 80488/174504898  \n",
              "5 China       1999 212258/1272915272\n",
              "6 China       2000 213766/1280428583"
            ]
          },
          "metadata": {}
        }
      ]
    },
    {
      "cell_type": "code",
      "source": [
        "table4a # N. cases"
      ],
      "metadata": {
        "colab": {
          "base_uri": "https://localhost:8080/",
          "height": 192
        },
        "id": "El6pzYgTJxz6",
        "outputId": "456e59db-f639-4044-9fe5-a69e5b4aa80c"
      },
      "execution_count": 5,
      "outputs": [
        {
          "output_type": "display_data",
          "data": {
            "text/html": [
              "<table class=\"dataframe\">\n",
              "<caption>A tibble: 3 × 3</caption>\n",
              "<thead>\n",
              "\t<tr><th scope=col>country</th><th scope=col>1999</th><th scope=col>2000</th></tr>\n",
              "\t<tr><th scope=col>&lt;chr&gt;</th><th scope=col>&lt;dbl&gt;</th><th scope=col>&lt;dbl&gt;</th></tr>\n",
              "</thead>\n",
              "<tbody>\n",
              "\t<tr><td>Afghanistan</td><td>   745</td><td>  2666</td></tr>\n",
              "\t<tr><td>Brazil     </td><td> 37737</td><td> 80488</td></tr>\n",
              "\t<tr><td>China      </td><td>212258</td><td>213766</td></tr>\n",
              "</tbody>\n",
              "</table>\n"
            ],
            "text/markdown": "\nA tibble: 3 × 3\n\n| country &lt;chr&gt; | 1999 &lt;dbl&gt; | 2000 &lt;dbl&gt; |\n|---|---|---|\n| Afghanistan |    745 |   2666 |\n| Brazil      |  37737 |  80488 |\n| China       | 212258 | 213766 |\n\n",
            "text/latex": "A tibble: 3 × 3\n\\begin{tabular}{lll}\n country & 1999 & 2000\\\\\n <chr> & <dbl> & <dbl>\\\\\n\\hline\n\t Afghanistan &    745 &   2666\\\\\n\t Brazil      &  37737 &  80488\\\\\n\t China       & 212258 & 213766\\\\\n\\end{tabular}\n",
            "text/plain": [
              "  country     1999   2000  \n",
              "1 Afghanistan    745   2666\n",
              "2 Brazil       37737  80488\n",
              "3 China       212258 213766"
            ]
          },
          "metadata": {}
        }
      ]
    },
    {
      "cell_type": "code",
      "source": [
        "table4b # N. population"
      ],
      "metadata": {
        "colab": {
          "base_uri": "https://localhost:8080/",
          "height": 192
        },
        "id": "KcMn5JMPJzOa",
        "outputId": "1931e790-8af0-4422-8350-f6002658231d"
      },
      "execution_count": 6,
      "outputs": [
        {
          "output_type": "display_data",
          "data": {
            "text/html": [
              "<table class=\"dataframe\">\n",
              "<caption>A tibble: 3 × 3</caption>\n",
              "<thead>\n",
              "\t<tr><th scope=col>country</th><th scope=col>1999</th><th scope=col>2000</th></tr>\n",
              "\t<tr><th scope=col>&lt;chr&gt;</th><th scope=col>&lt;dbl&gt;</th><th scope=col>&lt;dbl&gt;</th></tr>\n",
              "</thead>\n",
              "<tbody>\n",
              "\t<tr><td>Afghanistan</td><td>  19987071</td><td>  20595360</td></tr>\n",
              "\t<tr><td>Brazil     </td><td> 172006362</td><td> 174504898</td></tr>\n",
              "\t<tr><td>China      </td><td>1272915272</td><td>1280428583</td></tr>\n",
              "</tbody>\n",
              "</table>\n"
            ],
            "text/markdown": "\nA tibble: 3 × 3\n\n| country &lt;chr&gt; | 1999 &lt;dbl&gt; | 2000 &lt;dbl&gt; |\n|---|---|---|\n| Afghanistan |   19987071 |   20595360 |\n| Brazil      |  172006362 |  174504898 |\n| China       | 1272915272 | 1280428583 |\n\n",
            "text/latex": "A tibble: 3 × 3\n\\begin{tabular}{lll}\n country & 1999 & 2000\\\\\n <chr> & <dbl> & <dbl>\\\\\n\\hline\n\t Afghanistan &   19987071 &   20595360\\\\\n\t Brazil      &  172006362 &  174504898\\\\\n\t China       & 1272915272 & 1280428583\\\\\n\\end{tabular}\n",
            "text/plain": [
              "  country     1999       2000      \n",
              "1 Afghanistan   19987071   20595360\n",
              "2 Brazil       172006362  174504898\n",
              "3 China       1272915272 1280428583"
            ]
          },
          "metadata": {}
        }
      ]
    },
    {
      "cell_type": "markdown",
      "source": [
        "## pivot_longer()"
      ],
      "metadata": {
        "id": "ovirl2DIJ0bB"
      }
    },
    {
      "cell_type": "markdown",
      "source": [
        "One variable might be spread across multiple columns"
      ],
      "metadata": {
        "id": "gpvgo8RNJ6bj"
      }
    },
    {
      "cell_type": "markdown",
      "source": [
        "Apply pivot_longer() to table4a"
      ],
      "metadata": {
        "id": "ABb-jFqGJ8g9"
      }
    },
    {
      "cell_type": "code",
      "source": [
        "table4a %>%\n",
        "  pivot_longer(c('1999', '2000'), names_to = \"year\", values_to = \"cases\")"
      ],
      "metadata": {
        "colab": {
          "base_uri": "https://localhost:8080/",
          "height": 286
        },
        "id": "B1mUD8e4J-Vq",
        "outputId": "e45aced3-7445-4ee1-8756-b61e6c31221a"
      },
      "execution_count": 7,
      "outputs": [
        {
          "output_type": "display_data",
          "data": {
            "text/html": [
              "<table class=\"dataframe\">\n",
              "<caption>A tibble: 6 × 3</caption>\n",
              "<thead>\n",
              "\t<tr><th scope=col>country</th><th scope=col>year</th><th scope=col>cases</th></tr>\n",
              "\t<tr><th scope=col>&lt;chr&gt;</th><th scope=col>&lt;chr&gt;</th><th scope=col>&lt;dbl&gt;</th></tr>\n",
              "</thead>\n",
              "<tbody>\n",
              "\t<tr><td>Afghanistan</td><td>1999</td><td>   745</td></tr>\n",
              "\t<tr><td>Afghanistan</td><td>2000</td><td>  2666</td></tr>\n",
              "\t<tr><td>Brazil     </td><td>1999</td><td> 37737</td></tr>\n",
              "\t<tr><td>Brazil     </td><td>2000</td><td> 80488</td></tr>\n",
              "\t<tr><td>China      </td><td>1999</td><td>212258</td></tr>\n",
              "\t<tr><td>China      </td><td>2000</td><td>213766</td></tr>\n",
              "</tbody>\n",
              "</table>\n"
            ],
            "text/markdown": "\nA tibble: 6 × 3\n\n| country &lt;chr&gt; | year &lt;chr&gt; | cases &lt;dbl&gt; |\n|---|---|---|\n| Afghanistan | 1999 |    745 |\n| Afghanistan | 2000 |   2666 |\n| Brazil      | 1999 |  37737 |\n| Brazil      | 2000 |  80488 |\n| China       | 1999 | 212258 |\n| China       | 2000 | 213766 |\n\n",
            "text/latex": "A tibble: 6 × 3\n\\begin{tabular}{lll}\n country & year & cases\\\\\n <chr> & <chr> & <dbl>\\\\\n\\hline\n\t Afghanistan & 1999 &    745\\\\\n\t Afghanistan & 2000 &   2666\\\\\n\t Brazil      & 1999 &  37737\\\\\n\t Brazil      & 2000 &  80488\\\\\n\t China       & 1999 & 212258\\\\\n\t China       & 2000 & 213766\\\\\n\\end{tabular}\n",
            "text/plain": [
              "  country     year cases \n",
              "1 Afghanistan 1999    745\n",
              "2 Afghanistan 2000   2666\n",
              "3 Brazil      1999  37737\n",
              "4 Brazil      2000  80488\n",
              "5 China       1999 212258\n",
              "6 China       2000 213766"
            ]
          },
          "metadata": {}
        }
      ]
    },
    {
      "cell_type": "markdown",
      "source": [
        "apply it to table4b"
      ],
      "metadata": {
        "id": "LGkrj4BdKDSW"
      }
    },
    {
      "cell_type": "code",
      "source": [
        "table4b %>%\n",
        "  pivot_longer(c('1999', '2000'), names_to = \"year\", values_to = \"population\")\n"
      ],
      "metadata": {
        "colab": {
          "base_uri": "https://localhost:8080/",
          "height": 286
        },
        "id": "rPGqIwHIKHqY",
        "outputId": "3ca9ae24-6149-40a8-a220-a86e1e3bcf47"
      },
      "execution_count": 8,
      "outputs": [
        {
          "output_type": "display_data",
          "data": {
            "text/html": [
              "<table class=\"dataframe\">\n",
              "<caption>A tibble: 6 × 3</caption>\n",
              "<thead>\n",
              "\t<tr><th scope=col>country</th><th scope=col>year</th><th scope=col>population</th></tr>\n",
              "\t<tr><th scope=col>&lt;chr&gt;</th><th scope=col>&lt;chr&gt;</th><th scope=col>&lt;dbl&gt;</th></tr>\n",
              "</thead>\n",
              "<tbody>\n",
              "\t<tr><td>Afghanistan</td><td>1999</td><td>  19987071</td></tr>\n",
              "\t<tr><td>Afghanistan</td><td>2000</td><td>  20595360</td></tr>\n",
              "\t<tr><td>Brazil     </td><td>1999</td><td> 172006362</td></tr>\n",
              "\t<tr><td>Brazil     </td><td>2000</td><td> 174504898</td></tr>\n",
              "\t<tr><td>China      </td><td>1999</td><td>1272915272</td></tr>\n",
              "\t<tr><td>China      </td><td>2000</td><td>1280428583</td></tr>\n",
              "</tbody>\n",
              "</table>\n"
            ],
            "text/markdown": "\nA tibble: 6 × 3\n\n| country &lt;chr&gt; | year &lt;chr&gt; | population &lt;dbl&gt; |\n|---|---|---|\n| Afghanistan | 1999 |   19987071 |\n| Afghanistan | 2000 |   20595360 |\n| Brazil      | 1999 |  172006362 |\n| Brazil      | 2000 |  174504898 |\n| China       | 1999 | 1272915272 |\n| China       | 2000 | 1280428583 |\n\n",
            "text/latex": "A tibble: 6 × 3\n\\begin{tabular}{lll}\n country & year & population\\\\\n <chr> & <chr> & <dbl>\\\\\n\\hline\n\t Afghanistan & 1999 &   19987071\\\\\n\t Afghanistan & 2000 &   20595360\\\\\n\t Brazil      & 1999 &  172006362\\\\\n\t Brazil      & 2000 &  174504898\\\\\n\t China       & 1999 & 1272915272\\\\\n\t China       & 2000 & 1280428583\\\\\n\\end{tabular}\n",
            "text/plain": [
              "  country     year population\n",
              "1 Afghanistan 1999   19987071\n",
              "2 Afghanistan 2000   20595360\n",
              "3 Brazil      1999  172006362\n",
              "4 Brazil      2000  174504898\n",
              "5 China       1999 1272915272\n",
              "6 China       2000 1280428583"
            ]
          },
          "metadata": {}
        }
      ]
    },
    {
      "cell_type": "markdown",
      "source": [
        "Join two tables"
      ],
      "metadata": {
        "id": "2wZHpzBGKI5K"
      }
    },
    {
      "cell_type": "code",
      "source": [
        "tidy4a <- table4a %>%\n",
        "  pivot_longer(c('1999', '2000'), names_to = \"year\", values_to = \"cases\")\n",
        "tidy4b <- table4b %>%\n",
        "  pivot_longer(c('1999', '2000'), names_to = \"year\", values_to = \"population\")\n",
        "left_join(tidy4a, tidy4b)"
      ],
      "metadata": {
        "colab": {
          "base_uri": "https://localhost:8080/",
          "height": 304
        },
        "id": "4UPP3sSqKKip",
        "outputId": "535a770a-b444-4d27-ec1f-b8f6fbc24ec0"
      },
      "execution_count": 9,
      "outputs": [
        {
          "output_type": "stream",
          "name": "stderr",
          "text": [
            "\u001b[1m\u001b[22mJoining with `by = join_by(country, year)`\n"
          ]
        },
        {
          "output_type": "display_data",
          "data": {
            "text/html": [
              "<table class=\"dataframe\">\n",
              "<caption>A tibble: 6 × 4</caption>\n",
              "<thead>\n",
              "\t<tr><th scope=col>country</th><th scope=col>year</th><th scope=col>cases</th><th scope=col>population</th></tr>\n",
              "\t<tr><th scope=col>&lt;chr&gt;</th><th scope=col>&lt;chr&gt;</th><th scope=col>&lt;dbl&gt;</th><th scope=col>&lt;dbl&gt;</th></tr>\n",
              "</thead>\n",
              "<tbody>\n",
              "\t<tr><td>Afghanistan</td><td>1999</td><td>   745</td><td>  19987071</td></tr>\n",
              "\t<tr><td>Afghanistan</td><td>2000</td><td>  2666</td><td>  20595360</td></tr>\n",
              "\t<tr><td>Brazil     </td><td>1999</td><td> 37737</td><td> 172006362</td></tr>\n",
              "\t<tr><td>Brazil     </td><td>2000</td><td> 80488</td><td> 174504898</td></tr>\n",
              "\t<tr><td>China      </td><td>1999</td><td>212258</td><td>1272915272</td></tr>\n",
              "\t<tr><td>China      </td><td>2000</td><td>213766</td><td>1280428583</td></tr>\n",
              "</tbody>\n",
              "</table>\n"
            ],
            "text/markdown": "\nA tibble: 6 × 4\n\n| country &lt;chr&gt; | year &lt;chr&gt; | cases &lt;dbl&gt; | population &lt;dbl&gt; |\n|---|---|---|---|\n| Afghanistan | 1999 |    745 |   19987071 |\n| Afghanistan | 2000 |   2666 |   20595360 |\n| Brazil      | 1999 |  37737 |  172006362 |\n| Brazil      | 2000 |  80488 |  174504898 |\n| China       | 1999 | 212258 | 1272915272 |\n| China       | 2000 | 213766 | 1280428583 |\n\n",
            "text/latex": "A tibble: 6 × 4\n\\begin{tabular}{llll}\n country & year & cases & population\\\\\n <chr> & <chr> & <dbl> & <dbl>\\\\\n\\hline\n\t Afghanistan & 1999 &    745 &   19987071\\\\\n\t Afghanistan & 2000 &   2666 &   20595360\\\\\n\t Brazil      & 1999 &  37737 &  172006362\\\\\n\t Brazil      & 2000 &  80488 &  174504898\\\\\n\t China       & 1999 & 212258 & 1272915272\\\\\n\t China       & 2000 & 213766 & 1280428583\\\\\n\\end{tabular}\n",
            "text/plain": [
              "  country     year cases  population\n",
              "1 Afghanistan 1999    745   19987071\n",
              "2 Afghanistan 2000   2666   20595360\n",
              "3 Brazil      1999  37737  172006362\n",
              "4 Brazil      2000  80488  174504898\n",
              "5 China       1999 212258 1272915272\n",
              "6 China       2000 213766 1280428583"
            ]
          },
          "metadata": {}
        }
      ]
    },
    {
      "cell_type": "markdown",
      "source": [
        "### Q: What is right_join? try right_join and study join methods"
      ],
      "metadata": {
        "id": "7yVc-z8iKM5l"
      }
    },
    {
      "cell_type": "code",
      "source": [
        "tidy4a <- table4a %>%\n",
        "  pivot_longer(c('1999', '2000'), names_to = \"year\", values_to = \"cases\")\n",
        "tidy4b <- table4b %>%\n",
        "  pivot_longer(c('1999', '2000'), names_to = \"year\", values_to = \"population\")\n",
        "right_join(tidy4a, tidy4b)"
      ],
      "metadata": {
        "colab": {
          "base_uri": "https://localhost:8080/",
          "height": 304
        },
        "id": "gglFRSrDKQ4z",
        "outputId": "78995599-2fb0-4e72-b233-c753b77ed50c"
      },
      "execution_count": 10,
      "outputs": [
        {
          "output_type": "stream",
          "name": "stderr",
          "text": [
            "\u001b[1m\u001b[22mJoining with `by = join_by(country, year)`\n"
          ]
        },
        {
          "output_type": "display_data",
          "data": {
            "text/html": [
              "<table class=\"dataframe\">\n",
              "<caption>A tibble: 6 × 4</caption>\n",
              "<thead>\n",
              "\t<tr><th scope=col>country</th><th scope=col>year</th><th scope=col>cases</th><th scope=col>population</th></tr>\n",
              "\t<tr><th scope=col>&lt;chr&gt;</th><th scope=col>&lt;chr&gt;</th><th scope=col>&lt;dbl&gt;</th><th scope=col>&lt;dbl&gt;</th></tr>\n",
              "</thead>\n",
              "<tbody>\n",
              "\t<tr><td>Afghanistan</td><td>1999</td><td>   745</td><td>  19987071</td></tr>\n",
              "\t<tr><td>Afghanistan</td><td>2000</td><td>  2666</td><td>  20595360</td></tr>\n",
              "\t<tr><td>Brazil     </td><td>1999</td><td> 37737</td><td> 172006362</td></tr>\n",
              "\t<tr><td>Brazil     </td><td>2000</td><td> 80488</td><td> 174504898</td></tr>\n",
              "\t<tr><td>China      </td><td>1999</td><td>212258</td><td>1272915272</td></tr>\n",
              "\t<tr><td>China      </td><td>2000</td><td>213766</td><td>1280428583</td></tr>\n",
              "</tbody>\n",
              "</table>\n"
            ],
            "text/markdown": "\nA tibble: 6 × 4\n\n| country &lt;chr&gt; | year &lt;chr&gt; | cases &lt;dbl&gt; | population &lt;dbl&gt; |\n|---|---|---|---|\n| Afghanistan | 1999 |    745 |   19987071 |\n| Afghanistan | 2000 |   2666 |   20595360 |\n| Brazil      | 1999 |  37737 |  172006362 |\n| Brazil      | 2000 |  80488 |  174504898 |\n| China       | 1999 | 212258 | 1272915272 |\n| China       | 2000 | 213766 | 1280428583 |\n\n",
            "text/latex": "A tibble: 6 × 4\n\\begin{tabular}{llll}\n country & year & cases & population\\\\\n <chr> & <chr> & <dbl> & <dbl>\\\\\n\\hline\n\t Afghanistan & 1999 &    745 &   19987071\\\\\n\t Afghanistan & 2000 &   2666 &   20595360\\\\\n\t Brazil      & 1999 &  37737 &  172006362\\\\\n\t Brazil      & 2000 &  80488 &  174504898\\\\\n\t China       & 1999 & 212258 & 1272915272\\\\\n\t China       & 2000 & 213766 & 1280428583\\\\\n\\end{tabular}\n",
            "text/plain": [
              "  country     year cases  population\n",
              "1 Afghanistan 1999    745   19987071\n",
              "2 Afghanistan 2000   2666   20595360\n",
              "3 Brazil      1999  37737  172006362\n",
              "4 Brazil      2000  80488  174504898\n",
              "5 China       1999 212258 1272915272\n",
              "6 China       2000 213766 1280428583"
            ]
          },
          "metadata": {}
        }
      ]
    },
    {
      "cell_type": "markdown",
      "source": [
        "## Pivot_wider()"
      ],
      "metadata": {
        "id": "mYhQZLowKUy2"
      }
    },
    {
      "cell_type": "markdown",
      "source": [
        "One observation might be scattered across multiple rows"
      ],
      "metadata": {
        "id": "0wY3iQUELOcP"
      }
    },
    {
      "cell_type": "code",
      "source": [
        "table2"
      ],
      "metadata": {
        "id": "OIfseD6sLP5i",
        "outputId": "a23e2abc-bf52-437d-9856-98ecdd36dc78",
        "colab": {
          "base_uri": "https://localhost:8080/",
          "height": 474
        }
      },
      "execution_count": 11,
      "outputs": [
        {
          "output_type": "display_data",
          "data": {
            "text/html": [
              "<table class=\"dataframe\">\n",
              "<caption>A tibble: 12 × 4</caption>\n",
              "<thead>\n",
              "\t<tr><th scope=col>country</th><th scope=col>year</th><th scope=col>type</th><th scope=col>count</th></tr>\n",
              "\t<tr><th scope=col>&lt;chr&gt;</th><th scope=col>&lt;dbl&gt;</th><th scope=col>&lt;chr&gt;</th><th scope=col>&lt;dbl&gt;</th></tr>\n",
              "</thead>\n",
              "<tbody>\n",
              "\t<tr><td>Afghanistan</td><td>1999</td><td>cases     </td><td>       745</td></tr>\n",
              "\t<tr><td>Afghanistan</td><td>1999</td><td>population</td><td>  19987071</td></tr>\n",
              "\t<tr><td>Afghanistan</td><td>2000</td><td>cases     </td><td>      2666</td></tr>\n",
              "\t<tr><td>Afghanistan</td><td>2000</td><td>population</td><td>  20595360</td></tr>\n",
              "\t<tr><td>Brazil     </td><td>1999</td><td>cases     </td><td>     37737</td></tr>\n",
              "\t<tr><td>Brazil     </td><td>1999</td><td>population</td><td> 172006362</td></tr>\n",
              "\t<tr><td>Brazil     </td><td>2000</td><td>cases     </td><td>     80488</td></tr>\n",
              "\t<tr><td>Brazil     </td><td>2000</td><td>population</td><td> 174504898</td></tr>\n",
              "\t<tr><td>China      </td><td>1999</td><td>cases     </td><td>    212258</td></tr>\n",
              "\t<tr><td>China      </td><td>1999</td><td>population</td><td>1272915272</td></tr>\n",
              "\t<tr><td>China      </td><td>2000</td><td>cases     </td><td>    213766</td></tr>\n",
              "\t<tr><td>China      </td><td>2000</td><td>population</td><td>1280428583</td></tr>\n",
              "</tbody>\n",
              "</table>\n"
            ],
            "text/markdown": "\nA tibble: 12 × 4\n\n| country &lt;chr&gt; | year &lt;dbl&gt; | type &lt;chr&gt; | count &lt;dbl&gt; |\n|---|---|---|---|\n| Afghanistan | 1999 | cases      |        745 |\n| Afghanistan | 1999 | population |   19987071 |\n| Afghanistan | 2000 | cases      |       2666 |\n| Afghanistan | 2000 | population |   20595360 |\n| Brazil      | 1999 | cases      |      37737 |\n| Brazil      | 1999 | population |  172006362 |\n| Brazil      | 2000 | cases      |      80488 |\n| Brazil      | 2000 | population |  174504898 |\n| China       | 1999 | cases      |     212258 |\n| China       | 1999 | population | 1272915272 |\n| China       | 2000 | cases      |     213766 |\n| China       | 2000 | population | 1280428583 |\n\n",
            "text/latex": "A tibble: 12 × 4\n\\begin{tabular}{llll}\n country & year & type & count\\\\\n <chr> & <dbl> & <chr> & <dbl>\\\\\n\\hline\n\t Afghanistan & 1999 & cases      &        745\\\\\n\t Afghanistan & 1999 & population &   19987071\\\\\n\t Afghanistan & 2000 & cases      &       2666\\\\\n\t Afghanistan & 2000 & population &   20595360\\\\\n\t Brazil      & 1999 & cases      &      37737\\\\\n\t Brazil      & 1999 & population &  172006362\\\\\n\t Brazil      & 2000 & cases      &      80488\\\\\n\t Brazil      & 2000 & population &  174504898\\\\\n\t China       & 1999 & cases      &     212258\\\\\n\t China       & 1999 & population & 1272915272\\\\\n\t China       & 2000 & cases      &     213766\\\\\n\t China       & 2000 & population & 1280428583\\\\\n\\end{tabular}\n",
            "text/plain": [
              "   country     year type       count     \n",
              "1  Afghanistan 1999 cases             745\n",
              "2  Afghanistan 1999 population   19987071\n",
              "3  Afghanistan 2000 cases            2666\n",
              "4  Afghanistan 2000 population   20595360\n",
              "5  Brazil      1999 cases           37737\n",
              "6  Brazil      1999 population  172006362\n",
              "7  Brazil      2000 cases           80488\n",
              "8  Brazil      2000 population  174504898\n",
              "9  China       1999 cases          212258\n",
              "10 China       1999 population 1272915272\n",
              "11 China       2000 cases          213766\n",
              "12 China       2000 population 1280428583"
            ]
          },
          "metadata": {}
        }
      ]
    },
    {
      "cell_type": "code",
      "source": [
        "table2 %>% pivot_wider(names_from = type, values_from = count)"
      ],
      "metadata": {
        "id": "DXWFQ2j6LRLW",
        "outputId": "926d96a8-e50a-45db-b074-0663c56f119f",
        "colab": {
          "base_uri": "https://localhost:8080/",
          "height": 286
        }
      },
      "execution_count": 12,
      "outputs": [
        {
          "output_type": "display_data",
          "data": {
            "text/html": [
              "<table class=\"dataframe\">\n",
              "<caption>A tibble: 6 × 4</caption>\n",
              "<thead>\n",
              "\t<tr><th scope=col>country</th><th scope=col>year</th><th scope=col>cases</th><th scope=col>population</th></tr>\n",
              "\t<tr><th scope=col>&lt;chr&gt;</th><th scope=col>&lt;dbl&gt;</th><th scope=col>&lt;dbl&gt;</th><th scope=col>&lt;dbl&gt;</th></tr>\n",
              "</thead>\n",
              "<tbody>\n",
              "\t<tr><td>Afghanistan</td><td>1999</td><td>   745</td><td>  19987071</td></tr>\n",
              "\t<tr><td>Afghanistan</td><td>2000</td><td>  2666</td><td>  20595360</td></tr>\n",
              "\t<tr><td>Brazil     </td><td>1999</td><td> 37737</td><td> 172006362</td></tr>\n",
              "\t<tr><td>Brazil     </td><td>2000</td><td> 80488</td><td> 174504898</td></tr>\n",
              "\t<tr><td>China      </td><td>1999</td><td>212258</td><td>1272915272</td></tr>\n",
              "\t<tr><td>China      </td><td>2000</td><td>213766</td><td>1280428583</td></tr>\n",
              "</tbody>\n",
              "</table>\n"
            ],
            "text/markdown": "\nA tibble: 6 × 4\n\n| country &lt;chr&gt; | year &lt;dbl&gt; | cases &lt;dbl&gt; | population &lt;dbl&gt; |\n|---|---|---|---|\n| Afghanistan | 1999 |    745 |   19987071 |\n| Afghanistan | 2000 |   2666 |   20595360 |\n| Brazil      | 1999 |  37737 |  172006362 |\n| Brazil      | 2000 |  80488 |  174504898 |\n| China       | 1999 | 212258 | 1272915272 |\n| China       | 2000 | 213766 | 1280428583 |\n\n",
            "text/latex": "A tibble: 6 × 4\n\\begin{tabular}{llll}\n country & year & cases & population\\\\\n <chr> & <dbl> & <dbl> & <dbl>\\\\\n\\hline\n\t Afghanistan & 1999 &    745 &   19987071\\\\\n\t Afghanistan & 2000 &   2666 &   20595360\\\\\n\t Brazil      & 1999 &  37737 &  172006362\\\\\n\t Brazil      & 2000 &  80488 &  174504898\\\\\n\t China       & 1999 & 212258 & 1272915272\\\\\n\t China       & 2000 & 213766 & 1280428583\\\\\n\\end{tabular}\n",
            "text/plain": [
              "  country     year cases  population\n",
              "1 Afghanistan 1999    745   19987071\n",
              "2 Afghanistan 2000   2666   20595360\n",
              "3 Brazil      1999  37737  172006362\n",
              "4 Brazil      2000  80488  174504898\n",
              "5 China       1999 212258 1272915272\n",
              "6 China       2000 213766 1280428583"
            ]
          },
          "metadata": {}
        }
      ]
    },
    {
      "cell_type": "markdown",
      "source": [
        "2.3.3 Exercises\n",
        "1. Why are pivot_longer() and pivot_wider() not perfectly symmetrical?\n",
        "Carefully consider the following example:\n",
        "```\n",
        "stocks <- tibble(\n",
        "  year   = c(2015, 2015, 2016, 2016),\n",
        "  half  = c(   1,    2,     1,    2),\n",
        "  return = c(1.88, 0.59, 0.92, 0.17)\n",
        ")\n",
        "stocks %>%\n",
        "  pivot_wider(names_from = year, values_from = return) %>%\n",
        "  pivot_longer(`2015`:`2016`, names_to = \"year\", values_to = \"return\")\n",
        "```\n",
        "(Hint: look at the variable types and think about column names.)  \n",
        "`pivot_longer()` has a `names_ptypes` argument, e.g.  `names_ptypes = list(year = double())`. What does it do?\n",
        "\n",
        "2. Why does this code fail?\n",
        "```\n",
        "table4a %>%\n",
        "  pivot_longer(c(1999, 2000), names_to = \"year\", values_to = \"cases\")\n",
        "#> Error in `pivot_longer()`:\n",
        "#> ! Can't subset columns past the end.\n",
        "#> ℹ Locations 1999 and 2000 don't exist.\n",
        "#> ℹ There are only 3 columns.\n",
        "```\n",
        "\n",
        "3. What would happen if you widen this table? Why? How could you add a new column to uniquely identify each value?\n",
        "```\n",
        "people <- tribble(\n",
        "  ~name,             ~names,  ~values,\n",
        "  #-----------------|--------|------\n",
        "  \"Phillip Woods\",   \"age\",       45,\n",
        "  \"Phillip Woods\",   \"height\",   186,\n",
        "  \"Phillip Woods\",   \"age\",       50,\n",
        "  \"Jessica Cordero\", \"age\",       37,\n",
        "  \"Jessica Cordero\", \"height\",   156\n",
        ")\n",
        "```\n",
        "4. Tidy the simple tibble below. Do you need to make it wider or longer? What are the variables?\n",
        "```\n",
        "preg <- tribble(\n",
        "  ~pregnant, ~male, ~female,\n",
        "  \"yes\",     NA,    10,\n",
        "  \"no\",      20,    12\n",
        ")\n",
        "```"
      ],
      "metadata": {
        "id": "0u4R-eXiLSq9"
      }
    },
    {
      "cell_type": "markdown",
      "source": [
        "## Separating and Uniting"
      ],
      "metadata": {
        "id": "F4x5Grv5RNp3"
      }
    },
    {
      "cell_type": "markdown",
      "source": [
        "## separate()"
      ],
      "metadata": {
        "id": "aMi0bWZPSNTT"
      }
    },
    {
      "cell_type": "markdown",
      "source": [
        "One column contains two variables"
      ],
      "metadata": {
        "id": "vjfEwwinSPOm"
      }
    },
    {
      "cell_type": "code",
      "source": [
        "table3"
      ],
      "metadata": {
        "id": "ZXY8TfpnSSWh",
        "outputId": "87d60d55-8ad8-4e20-b616-c2ae88500740",
        "colab": {
          "base_uri": "https://localhost:8080/",
          "height": 286
        }
      },
      "execution_count": 24,
      "outputs": [
        {
          "output_type": "display_data",
          "data": {
            "text/html": [
              "<table class=\"dataframe\">\n",
              "<caption>A tibble: 6 × 3</caption>\n",
              "<thead>\n",
              "\t<tr><th scope=col>country</th><th scope=col>year</th><th scope=col>rate</th></tr>\n",
              "\t<tr><th scope=col>&lt;chr&gt;</th><th scope=col>&lt;dbl&gt;</th><th scope=col>&lt;chr&gt;</th></tr>\n",
              "</thead>\n",
              "<tbody>\n",
              "\t<tr><td>Afghanistan</td><td>1999</td><td>745/19987071     </td></tr>\n",
              "\t<tr><td>Afghanistan</td><td>2000</td><td>2666/20595360    </td></tr>\n",
              "\t<tr><td>Brazil     </td><td>1999</td><td>37737/172006362  </td></tr>\n",
              "\t<tr><td>Brazil     </td><td>2000</td><td>80488/174504898  </td></tr>\n",
              "\t<tr><td>China      </td><td>1999</td><td>212258/1272915272</td></tr>\n",
              "\t<tr><td>China      </td><td>2000</td><td>213766/1280428583</td></tr>\n",
              "</tbody>\n",
              "</table>\n"
            ],
            "text/markdown": "\nA tibble: 6 × 3\n\n| country &lt;chr&gt; | year &lt;dbl&gt; | rate &lt;chr&gt; |\n|---|---|---|\n| Afghanistan | 1999 | 745/19987071      |\n| Afghanistan | 2000 | 2666/20595360     |\n| Brazil      | 1999 | 37737/172006362   |\n| Brazil      | 2000 | 80488/174504898   |\n| China       | 1999 | 212258/1272915272 |\n| China       | 2000 | 213766/1280428583 |\n\n",
            "text/latex": "A tibble: 6 × 3\n\\begin{tabular}{lll}\n country & year & rate\\\\\n <chr> & <dbl> & <chr>\\\\\n\\hline\n\t Afghanistan & 1999 & 745/19987071     \\\\\n\t Afghanistan & 2000 & 2666/20595360    \\\\\n\t Brazil      & 1999 & 37737/172006362  \\\\\n\t Brazil      & 2000 & 80488/174504898  \\\\\n\t China       & 1999 & 212258/1272915272\\\\\n\t China       & 2000 & 213766/1280428583\\\\\n\\end{tabular}\n",
            "text/plain": [
              "  country     year rate             \n",
              "1 Afghanistan 1999 745/19987071     \n",
              "2 Afghanistan 2000 2666/20595360    \n",
              "3 Brazil      1999 37737/172006362  \n",
              "4 Brazil      2000 80488/174504898  \n",
              "5 China       1999 212258/1272915272\n",
              "6 China       2000 213766/1280428583"
            ]
          },
          "metadata": {}
        }
      ]
    },
    {
      "cell_type": "code",
      "source": [
        "table3 %>% separate(rate, into = c(\"cases\", \"population\"))"
      ],
      "metadata": {
        "id": "ewBi-fCgSThF",
        "outputId": "f594392a-85ac-4967-fee2-400bf195e567",
        "colab": {
          "base_uri": "https://localhost:8080/",
          "height": 286
        }
      },
      "execution_count": 25,
      "outputs": [
        {
          "output_type": "display_data",
          "data": {
            "text/html": [
              "<table class=\"dataframe\">\n",
              "<caption>A tibble: 6 × 4</caption>\n",
              "<thead>\n",
              "\t<tr><th scope=col>country</th><th scope=col>year</th><th scope=col>cases</th><th scope=col>population</th></tr>\n",
              "\t<tr><th scope=col>&lt;chr&gt;</th><th scope=col>&lt;dbl&gt;</th><th scope=col>&lt;chr&gt;</th><th scope=col>&lt;chr&gt;</th></tr>\n",
              "</thead>\n",
              "<tbody>\n",
              "\t<tr><td>Afghanistan</td><td>1999</td><td>745   </td><td>19987071  </td></tr>\n",
              "\t<tr><td>Afghanistan</td><td>2000</td><td>2666  </td><td>20595360  </td></tr>\n",
              "\t<tr><td>Brazil     </td><td>1999</td><td>37737 </td><td>172006362 </td></tr>\n",
              "\t<tr><td>Brazil     </td><td>2000</td><td>80488 </td><td>174504898 </td></tr>\n",
              "\t<tr><td>China      </td><td>1999</td><td>212258</td><td>1272915272</td></tr>\n",
              "\t<tr><td>China      </td><td>2000</td><td>213766</td><td>1280428583</td></tr>\n",
              "</tbody>\n",
              "</table>\n"
            ],
            "text/markdown": "\nA tibble: 6 × 4\n\n| country &lt;chr&gt; | year &lt;dbl&gt; | cases &lt;chr&gt; | population &lt;chr&gt; |\n|---|---|---|---|\n| Afghanistan | 1999 | 745    | 19987071   |\n| Afghanistan | 2000 | 2666   | 20595360   |\n| Brazil      | 1999 | 37737  | 172006362  |\n| Brazil      | 2000 | 80488  | 174504898  |\n| China       | 1999 | 212258 | 1272915272 |\n| China       | 2000 | 213766 | 1280428583 |\n\n",
            "text/latex": "A tibble: 6 × 4\n\\begin{tabular}{llll}\n country & year & cases & population\\\\\n <chr> & <dbl> & <chr> & <chr>\\\\\n\\hline\n\t Afghanistan & 1999 & 745    & 19987071  \\\\\n\t Afghanistan & 2000 & 2666   & 20595360  \\\\\n\t Brazil      & 1999 & 37737  & 172006362 \\\\\n\t Brazil      & 2000 & 80488  & 174504898 \\\\\n\t China       & 1999 & 212258 & 1272915272\\\\\n\t China       & 2000 & 213766 & 1280428583\\\\\n\\end{tabular}\n",
            "text/plain": [
              "  country     year cases  population\n",
              "1 Afghanistan 1999 745    19987071  \n",
              "2 Afghanistan 2000 2666   20595360  \n",
              "3 Brazil      1999 37737  172006362 \n",
              "4 Brazil      2000 80488  174504898 \n",
              "5 China       1999 212258 1272915272\n",
              "6 China       2000 213766 1280428583"
            ]
          },
          "metadata": {}
        }
      ]
    },
    {
      "cell_type": "code",
      "source": [
        "table3 %>% separate(rate, into = c(\"cases\", \"population\")) %>% mutate(cases = as.numeric(cases), population = as.numeric(population))"
      ],
      "metadata": {
        "id": "aM45ONNoSUxd",
        "outputId": "f1e7b231-f3bd-4441-fa21-b50e3b040232",
        "colab": {
          "base_uri": "https://localhost:8080/",
          "height": 286
        }
      },
      "execution_count": 26,
      "outputs": [
        {
          "output_type": "display_data",
          "data": {
            "text/html": [
              "<table class=\"dataframe\">\n",
              "<caption>A tibble: 6 × 4</caption>\n",
              "<thead>\n",
              "\t<tr><th scope=col>country</th><th scope=col>year</th><th scope=col>cases</th><th scope=col>population</th></tr>\n",
              "\t<tr><th scope=col>&lt;chr&gt;</th><th scope=col>&lt;dbl&gt;</th><th scope=col>&lt;dbl&gt;</th><th scope=col>&lt;dbl&gt;</th></tr>\n",
              "</thead>\n",
              "<tbody>\n",
              "\t<tr><td>Afghanistan</td><td>1999</td><td>   745</td><td>  19987071</td></tr>\n",
              "\t<tr><td>Afghanistan</td><td>2000</td><td>  2666</td><td>  20595360</td></tr>\n",
              "\t<tr><td>Brazil     </td><td>1999</td><td> 37737</td><td> 172006362</td></tr>\n",
              "\t<tr><td>Brazil     </td><td>2000</td><td> 80488</td><td> 174504898</td></tr>\n",
              "\t<tr><td>China      </td><td>1999</td><td>212258</td><td>1272915272</td></tr>\n",
              "\t<tr><td>China      </td><td>2000</td><td>213766</td><td>1280428583</td></tr>\n",
              "</tbody>\n",
              "</table>\n"
            ],
            "text/markdown": "\nA tibble: 6 × 4\n\n| country &lt;chr&gt; | year &lt;dbl&gt; | cases &lt;dbl&gt; | population &lt;dbl&gt; |\n|---|---|---|---|\n| Afghanistan | 1999 |    745 |   19987071 |\n| Afghanistan | 2000 |   2666 |   20595360 |\n| Brazil      | 1999 |  37737 |  172006362 |\n| Brazil      | 2000 |  80488 |  174504898 |\n| China       | 1999 | 212258 | 1272915272 |\n| China       | 2000 | 213766 | 1280428583 |\n\n",
            "text/latex": "A tibble: 6 × 4\n\\begin{tabular}{llll}\n country & year & cases & population\\\\\n <chr> & <dbl> & <dbl> & <dbl>\\\\\n\\hline\n\t Afghanistan & 1999 &    745 &   19987071\\\\\n\t Afghanistan & 2000 &   2666 &   20595360\\\\\n\t Brazil      & 1999 &  37737 &  172006362\\\\\n\t Brazil      & 2000 &  80488 &  174504898\\\\\n\t China       & 1999 & 212258 & 1272915272\\\\\n\t China       & 2000 & 213766 & 1280428583\\\\\n\\end{tabular}\n",
            "text/plain": [
              "  country     year cases  population\n",
              "1 Afghanistan 1999    745   19987071\n",
              "2 Afghanistan 2000   2666   20595360\n",
              "3 Brazil      1999  37737  172006362\n",
              "4 Brazil      2000  80488  174504898\n",
              "5 China       1999 212258 1272915272\n",
              "6 China       2000 213766 1280428583"
            ]
          },
          "metadata": {}
        }
      ]
    },
    {
      "cell_type": "code",
      "source": [
        "table3 %>% extract(rate, c(\"cases\", \"population\"), regex = \"([0-9]+)/([0-9]+)\")"
      ],
      "metadata": {
        "id": "gbwK7PWdSXb0",
        "outputId": "41c43ef5-f60c-4a07-e406-04bb50150cf9",
        "colab": {
          "base_uri": "https://localhost:8080/",
          "height": 286
        }
      },
      "execution_count": 27,
      "outputs": [
        {
          "output_type": "display_data",
          "data": {
            "text/html": [
              "<table class=\"dataframe\">\n",
              "<caption>A tibble: 6 × 4</caption>\n",
              "<thead>\n",
              "\t<tr><th scope=col>country</th><th scope=col>year</th><th scope=col>cases</th><th scope=col>population</th></tr>\n",
              "\t<tr><th scope=col>&lt;chr&gt;</th><th scope=col>&lt;dbl&gt;</th><th scope=col>&lt;chr&gt;</th><th scope=col>&lt;chr&gt;</th></tr>\n",
              "</thead>\n",
              "<tbody>\n",
              "\t<tr><td>Afghanistan</td><td>1999</td><td>745   </td><td>19987071  </td></tr>\n",
              "\t<tr><td>Afghanistan</td><td>2000</td><td>2666  </td><td>20595360  </td></tr>\n",
              "\t<tr><td>Brazil     </td><td>1999</td><td>37737 </td><td>172006362 </td></tr>\n",
              "\t<tr><td>Brazil     </td><td>2000</td><td>80488 </td><td>174504898 </td></tr>\n",
              "\t<tr><td>China      </td><td>1999</td><td>212258</td><td>1272915272</td></tr>\n",
              "\t<tr><td>China      </td><td>2000</td><td>213766</td><td>1280428583</td></tr>\n",
              "</tbody>\n",
              "</table>\n"
            ],
            "text/markdown": "\nA tibble: 6 × 4\n\n| country &lt;chr&gt; | year &lt;dbl&gt; | cases &lt;chr&gt; | population &lt;chr&gt; |\n|---|---|---|---|\n| Afghanistan | 1999 | 745    | 19987071   |\n| Afghanistan | 2000 | 2666   | 20595360   |\n| Brazil      | 1999 | 37737  | 172006362  |\n| Brazil      | 2000 | 80488  | 174504898  |\n| China       | 1999 | 212258 | 1272915272 |\n| China       | 2000 | 213766 | 1280428583 |\n\n",
            "text/latex": "A tibble: 6 × 4\n\\begin{tabular}{llll}\n country & year & cases & population\\\\\n <chr> & <dbl> & <chr> & <chr>\\\\\n\\hline\n\t Afghanistan & 1999 & 745    & 19987071  \\\\\n\t Afghanistan & 2000 & 2666   & 20595360  \\\\\n\t Brazil      & 1999 & 37737  & 172006362 \\\\\n\t Brazil      & 2000 & 80488  & 174504898 \\\\\n\t China       & 1999 & 212258 & 1272915272\\\\\n\t China       & 2000 & 213766 & 1280428583\\\\\n\\end{tabular}\n",
            "text/plain": [
              "  country     year cases  population\n",
              "1 Afghanistan 1999 745    19987071  \n",
              "2 Afghanistan 2000 2666   20595360  \n",
              "3 Brazil      1999 37737  172006362 \n",
              "4 Brazil      2000 80488  174504898 \n",
              "5 China       1999 212258 1272915272\n",
              "6 China       2000 213766 1280428583"
            ]
          },
          "metadata": {}
        }
      ]
    },
    {
      "cell_type": "markdown",
      "source": [
        "## unite()\n",
        "\n",
        "Single variable is spread across multiple columns"
      ],
      "metadata": {
        "id": "lO1o5T9iSbv8"
      }
    },
    {
      "cell_type": "code",
      "source": [
        "table5"
      ],
      "metadata": {
        "id": "FaF6q5-ISeFh",
        "outputId": "4fcca118-a3dc-4bc0-d5cd-599bab3c59e8",
        "colab": {
          "base_uri": "https://localhost:8080/",
          "height": 286
        }
      },
      "execution_count": 28,
      "outputs": [
        {
          "output_type": "display_data",
          "data": {
            "text/html": [
              "<table class=\"dataframe\">\n",
              "<caption>A tibble: 6 × 4</caption>\n",
              "<thead>\n",
              "\t<tr><th scope=col>country</th><th scope=col>century</th><th scope=col>year</th><th scope=col>rate</th></tr>\n",
              "\t<tr><th scope=col>&lt;chr&gt;</th><th scope=col>&lt;chr&gt;</th><th scope=col>&lt;chr&gt;</th><th scope=col>&lt;chr&gt;</th></tr>\n",
              "</thead>\n",
              "<tbody>\n",
              "\t<tr><td>Afghanistan</td><td>19</td><td>99</td><td>745/19987071     </td></tr>\n",
              "\t<tr><td>Afghanistan</td><td>20</td><td>00</td><td>2666/20595360    </td></tr>\n",
              "\t<tr><td>Brazil     </td><td>19</td><td>99</td><td>37737/172006362  </td></tr>\n",
              "\t<tr><td>Brazil     </td><td>20</td><td>00</td><td>80488/174504898  </td></tr>\n",
              "\t<tr><td>China      </td><td>19</td><td>99</td><td>212258/1272915272</td></tr>\n",
              "\t<tr><td>China      </td><td>20</td><td>00</td><td>213766/1280428583</td></tr>\n",
              "</tbody>\n",
              "</table>\n"
            ],
            "text/markdown": "\nA tibble: 6 × 4\n\n| country &lt;chr&gt; | century &lt;chr&gt; | year &lt;chr&gt; | rate &lt;chr&gt; |\n|---|---|---|---|\n| Afghanistan | 19 | 99 | 745/19987071      |\n| Afghanistan | 20 | 00 | 2666/20595360     |\n| Brazil      | 19 | 99 | 37737/172006362   |\n| Brazil      | 20 | 00 | 80488/174504898   |\n| China       | 19 | 99 | 212258/1272915272 |\n| China       | 20 | 00 | 213766/1280428583 |\n\n",
            "text/latex": "A tibble: 6 × 4\n\\begin{tabular}{llll}\n country & century & year & rate\\\\\n <chr> & <chr> & <chr> & <chr>\\\\\n\\hline\n\t Afghanistan & 19 & 99 & 745/19987071     \\\\\n\t Afghanistan & 20 & 00 & 2666/20595360    \\\\\n\t Brazil      & 19 & 99 & 37737/172006362  \\\\\n\t Brazil      & 20 & 00 & 80488/174504898  \\\\\n\t China       & 19 & 99 & 212258/1272915272\\\\\n\t China       & 20 & 00 & 213766/1280428583\\\\\n\\end{tabular}\n",
            "text/plain": [
              "  country     century year rate             \n",
              "1 Afghanistan 19      99   745/19987071     \n",
              "2 Afghanistan 20      00   2666/20595360    \n",
              "3 Brazil      19      99   37737/172006362  \n",
              "4 Brazil      20      00   80488/174504898  \n",
              "5 China       19      99   212258/1272915272\n",
              "6 China       20      00   213766/1280428583"
            ]
          },
          "metadata": {}
        }
      ]
    },
    {
      "cell_type": "code",
      "source": [
        "table5 %>%\n",
        "  unite(new, century, year, sep = \"\")\n"
      ],
      "metadata": {
        "id": "sKlyRMVBSfQP",
        "outputId": "c3a46089-871c-4b34-a515-aedf6e58dd83",
        "colab": {
          "base_uri": "https://localhost:8080/",
          "height": 286
        }
      },
      "execution_count": 29,
      "outputs": [
        {
          "output_type": "display_data",
          "data": {
            "text/html": [
              "<table class=\"dataframe\">\n",
              "<caption>A tibble: 6 × 3</caption>\n",
              "<thead>\n",
              "\t<tr><th scope=col>country</th><th scope=col>new</th><th scope=col>rate</th></tr>\n",
              "\t<tr><th scope=col>&lt;chr&gt;</th><th scope=col>&lt;chr&gt;</th><th scope=col>&lt;chr&gt;</th></tr>\n",
              "</thead>\n",
              "<tbody>\n",
              "\t<tr><td>Afghanistan</td><td>1999</td><td>745/19987071     </td></tr>\n",
              "\t<tr><td>Afghanistan</td><td>2000</td><td>2666/20595360    </td></tr>\n",
              "\t<tr><td>Brazil     </td><td>1999</td><td>37737/172006362  </td></tr>\n",
              "\t<tr><td>Brazil     </td><td>2000</td><td>80488/174504898  </td></tr>\n",
              "\t<tr><td>China      </td><td>1999</td><td>212258/1272915272</td></tr>\n",
              "\t<tr><td>China      </td><td>2000</td><td>213766/1280428583</td></tr>\n",
              "</tbody>\n",
              "</table>\n"
            ],
            "text/markdown": "\nA tibble: 6 × 3\n\n| country &lt;chr&gt; | new &lt;chr&gt; | rate &lt;chr&gt; |\n|---|---|---|\n| Afghanistan | 1999 | 745/19987071      |\n| Afghanistan | 2000 | 2666/20595360     |\n| Brazil      | 1999 | 37737/172006362   |\n| Brazil      | 2000 | 80488/174504898   |\n| China       | 1999 | 212258/1272915272 |\n| China       | 2000 | 213766/1280428583 |\n\n",
            "text/latex": "A tibble: 6 × 3\n\\begin{tabular}{lll}\n country & new & rate\\\\\n <chr> & <chr> & <chr>\\\\\n\\hline\n\t Afghanistan & 1999 & 745/19987071     \\\\\n\t Afghanistan & 2000 & 2666/20595360    \\\\\n\t Brazil      & 1999 & 37737/172006362  \\\\\n\t Brazil      & 2000 & 80488/174504898  \\\\\n\t China       & 1999 & 212258/1272915272\\\\\n\t China       & 2000 & 213766/1280428583\\\\\n\\end{tabular}\n",
            "text/plain": [
              "  country     new  rate             \n",
              "1 Afghanistan 1999 745/19987071     \n",
              "2 Afghanistan 2000 2666/20595360    \n",
              "3 Brazil      1999 37737/172006362  \n",
              "4 Brazil      2000 80488/174504898  \n",
              "5 China       1999 212258/1272915272\n",
              "6 China       2000 213766/1280428583"
            ]
          },
          "metadata": {}
        }
      ]
    },
    {
      "cell_type": "markdown",
      "source": [
        "12.4.3 Exercises\n",
        "1. What do the extra and fill arguments do in separate()? Experiment with the various options for the following two toy datasets.\n",
        "```\n",
        "tibble(x = c(\"a,b,c\", \"d,e,f,g\", \"h,i,j\")) %>%\n",
        "  separate(x, c(\"one\", \"two\", \"three\"))\n",
        "```\n",
        "```\n",
        "tibble(x = c(\"a,b,c\", \"d,e\", \"f,g,i\")) %>%\n",
        "  separate(x, c(\"one\", \"two\", \"three\"))\n",
        "```\n",
        "2. Both `unite()` and `separate()` have a `remove` argument. What does it do? Why would you set it to FALSE?\n",
        "\n",
        "3. Compare and contrast `separate()` and `extract()`. Why are there three variations of separation (by position, by separator, and with groups), but only one unite?"
      ],
      "metadata": {
        "id": "I5DzyBHgSgYL"
      }
    },
    {
      "cell_type": "markdown",
      "source": [
        "# Functional Programming"
      ],
      "metadata": {
        "id": "7ALsoXO5Sja8"
      }
    },
    {
      "cell_type": "code",
      "source": [
        "df <- tibble(\n",
        "  a = rnorm(10),\n",
        "  b = rnorm(10),\n",
        "  c = rnorm(10),\n",
        "  d = rnorm(10)\n",
        ")"
      ],
      "metadata": {
        "id": "oLjImK_ZSq74"
      },
      "execution_count": 30,
      "outputs": []
    },
    {
      "cell_type": "code",
      "source": [
        "df"
      ],
      "metadata": {
        "id": "heUPDRhHTzN1",
        "outputId": "a539f0bc-88da-40ac-db21-949153c63deb",
        "colab": {
          "base_uri": "https://localhost:8080/",
          "height": 412
        }
      },
      "execution_count": 32,
      "outputs": [
        {
          "output_type": "display_data",
          "data": {
            "text/html": [
              "<table class=\"dataframe\">\n",
              "<caption>A tibble: 10 × 4</caption>\n",
              "<thead>\n",
              "\t<tr><th scope=col>a</th><th scope=col>b</th><th scope=col>c</th><th scope=col>d</th></tr>\n",
              "\t<tr><th scope=col>&lt;dbl&gt;</th><th scope=col>&lt;dbl&gt;</th><th scope=col>&lt;dbl&gt;</th><th scope=col>&lt;dbl&gt;</th></tr>\n",
              "</thead>\n",
              "<tbody>\n",
              "\t<tr><td>-1.6046759</td><td> 0.2335664</td><td>-1.6154147842</td><td> 1.09057561</td></tr>\n",
              "\t<tr><td>-1.9812627</td><td>-0.2666376</td><td>-0.1780287998</td><td>-0.75329892</td></tr>\n",
              "\t<tr><td> 0.2971022</td><td>-0.3776821</td><td>-0.2349187331</td><td>-1.80537947</td></tr>\n",
              "\t<tr><td>-1.1252805</td><td>-0.6044888</td><td>-2.6299690194</td><td> 0.17337821</td></tr>\n",
              "\t<tr><td> 0.6846090</td><td>-0.6546701</td><td> 0.7854217040</td><td> 1.18080442</td></tr>\n",
              "\t<tr><td> 1.4696067</td><td> 1.2293948</td><td> 0.8525084372</td><td> 0.20972327</td></tr>\n",
              "\t<tr><td>-0.4589193</td><td>-1.2742646</td><td>-0.6730441708</td><td>-0.95196406</td></tr>\n",
              "\t<tr><td>-0.9461569</td><td>-0.4462466</td><td>-0.6520656554</td><td> 1.25185639</td></tr>\n",
              "\t<tr><td> 1.0068450</td><td> 0.2827553</td><td> 0.0005066556</td><td>-0.01966623</td></tr>\n",
              "\t<tr><td>-0.4606452</td><td> 0.2919925</td><td>-0.9080766088</td><td>-0.50305246</td></tr>\n",
              "</tbody>\n",
              "</table>\n"
            ],
            "text/markdown": "\nA tibble: 10 × 4\n\n| a &lt;dbl&gt; | b &lt;dbl&gt; | c &lt;dbl&gt; | d &lt;dbl&gt; |\n|---|---|---|---|\n| -1.6046759 |  0.2335664 | -1.6154147842 |  1.09057561 |\n| -1.9812627 | -0.2666376 | -0.1780287998 | -0.75329892 |\n|  0.2971022 | -0.3776821 | -0.2349187331 | -1.80537947 |\n| -1.1252805 | -0.6044888 | -2.6299690194 |  0.17337821 |\n|  0.6846090 | -0.6546701 |  0.7854217040 |  1.18080442 |\n|  1.4696067 |  1.2293948 |  0.8525084372 |  0.20972327 |\n| -0.4589193 | -1.2742646 | -0.6730441708 | -0.95196406 |\n| -0.9461569 | -0.4462466 | -0.6520656554 |  1.25185639 |\n|  1.0068450 |  0.2827553 |  0.0005066556 | -0.01966623 |\n| -0.4606452 |  0.2919925 | -0.9080766088 | -0.50305246 |\n\n",
            "text/latex": "A tibble: 10 × 4\n\\begin{tabular}{llll}\n a & b & c & d\\\\\n <dbl> & <dbl> & <dbl> & <dbl>\\\\\n\\hline\n\t -1.6046759 &  0.2335664 & -1.6154147842 &  1.09057561\\\\\n\t -1.9812627 & -0.2666376 & -0.1780287998 & -0.75329892\\\\\n\t  0.2971022 & -0.3776821 & -0.2349187331 & -1.80537947\\\\\n\t -1.1252805 & -0.6044888 & -2.6299690194 &  0.17337821\\\\\n\t  0.6846090 & -0.6546701 &  0.7854217040 &  1.18080442\\\\\n\t  1.4696067 &  1.2293948 &  0.8525084372 &  0.20972327\\\\\n\t -0.4589193 & -1.2742646 & -0.6730441708 & -0.95196406\\\\\n\t -0.9461569 & -0.4462466 & -0.6520656554 &  1.25185639\\\\\n\t  1.0068450 &  0.2827553 &  0.0005066556 & -0.01966623\\\\\n\t -0.4606452 &  0.2919925 & -0.9080766088 & -0.50305246\\\\\n\\end{tabular}\n",
            "text/plain": [
              "   a          b          c             d          \n",
              "1  -1.6046759  0.2335664 -1.6154147842  1.09057561\n",
              "2  -1.9812627 -0.2666376 -0.1780287998 -0.75329892\n",
              "3   0.2971022 -0.3776821 -0.2349187331 -1.80537947\n",
              "4  -1.1252805 -0.6044888 -2.6299690194  0.17337821\n",
              "5   0.6846090 -0.6546701  0.7854217040  1.18080442\n",
              "6   1.4696067  1.2293948  0.8525084372  0.20972327\n",
              "7  -0.4589193 -1.2742646 -0.6730441708 -0.95196406\n",
              "8  -0.9461569 -0.4462466 -0.6520656554  1.25185639\n",
              "9   1.0068450  0.2827553  0.0005066556 -0.01966623\n",
              "10 -0.4606452  0.2919925 -0.9080766088 -0.50305246"
            ]
          },
          "metadata": {}
        }
      ]
    },
    {
      "cell_type": "code",
      "source": [
        "median(df$a)\n",
        "median(df$b)\n",
        "median(df$c)\n",
        "median(df$d)"
      ],
      "metadata": {
        "id": "jjTIi16dTzsv",
        "outputId": "647f200a-269c-45cf-ebb2-32a36ef19887",
        "colab": {
          "base_uri": "https://localhost:8080/",
          "height": 86
        }
      },
      "execution_count": 34,
      "outputs": [
        {
          "output_type": "display_data",
          "data": {
            "text/html": [
              "-0.45978223747856"
            ],
            "text/markdown": "-0.45978223747856",
            "text/latex": "-0.45978223747856",
            "text/plain": [
              "[1] -0.4597822"
            ]
          },
          "metadata": {}
        },
        {
          "output_type": "display_data",
          "data": {
            "text/html": [
              "-0.32215984113414"
            ],
            "text/markdown": "-0.32215984113414",
            "text/latex": "-0.32215984113414",
            "text/plain": [
              "[1] -0.3221598"
            ]
          },
          "metadata": {}
        },
        {
          "output_type": "display_data",
          "data": {
            "text/html": [
              "-0.443492194262416"
            ],
            "text/markdown": "-0.443492194262416",
            "text/latex": "-0.443492194262416",
            "text/plain": [
              "[1] -0.4434922"
            ]
          },
          "metadata": {}
        },
        {
          "output_type": "display_data",
          "data": {
            "text/html": [
              "0.0768559863958625"
            ],
            "text/markdown": "0.0768559863958625",
            "text/latex": "0.0768559863958625",
            "text/plain": [
              "[1] 0.07685599"
            ]
          },
          "metadata": {}
        }
      ]
    },
    {
      "cell_type": "markdown",
      "source": [
        "Don't copy and paste multiple times  \n",
        "You can iterate using for loops\n"
      ],
      "metadata": {
        "id": "743yKOgGT1oe"
      }
    },
    {
      "cell_type": "code",
      "source": [
        "output <- vector(\"double\", ncol(df))  # 1. output\n",
        "for (i in seq_along(df)) {            # 2. sequence\n",
        "  output[[i]] <- median(df[[i]])      # 3. body\n",
        "}\n",
        "output\n"
      ],
      "metadata": {
        "id": "9PVrm3WDT6sp",
        "outputId": "7a183357-4971-4864-8702-892336313d83",
        "colab": {
          "base_uri": "https://localhost:8080/",
          "height": 34
        }
      },
      "execution_count": 35,
      "outputs": [
        {
          "output_type": "display_data",
          "data": {
            "text/html": [
              "<style>\n",
              ".list-inline {list-style: none; margin:0; padding: 0}\n",
              ".list-inline>li {display: inline-block}\n",
              ".list-inline>li:not(:last-child)::after {content: \"\\00b7\"; padding: 0 .5ex}\n",
              "</style>\n",
              "<ol class=list-inline><li>-0.45978223747856</li><li>-0.32215984113414</li><li>-0.443492194262416</li><li>0.0768559863958625</li></ol>\n"
            ],
            "text/markdown": "1. -0.45978223747856\n2. -0.32215984113414\n3. -0.443492194262416\n4. 0.0768559863958625\n\n\n",
            "text/latex": "\\begin{enumerate*}\n\\item -0.45978223747856\n\\item -0.32215984113414\n\\item -0.443492194262416\n\\item 0.0768559863958625\n\\end{enumerate*}\n",
            "text/plain": [
              "[1] -0.45978224 -0.32215984 -0.44349219  0.07685599"
            ]
          },
          "metadata": {}
        }
      ]
    },
    {
      "cell_type": "code",
      "source": [
        "output <- c()\n",
        "output\n"
      ],
      "metadata": {
        "id": "EMf4u1d1T7_4",
        "outputId": "6f61b16c-50a7-4cce-8d1c-8478b966c243",
        "colab": {
          "base_uri": "https://localhost:8080/",
          "height": 35
        }
      },
      "execution_count": 36,
      "outputs": [
        {
          "output_type": "display_data",
          "data": {
            "text/plain": [
              "NULL"
            ]
          },
          "metadata": {}
        }
      ]
    },
    {
      "cell_type": "code",
      "source": [
        "output <- c()\n",
        "for (i in seq_along(df)) {            # 2. sequence\n",
        "  output <- c( output, median(df[[i]]) )      # 3. body\n",
        "}\n",
        "output\n"
      ],
      "metadata": {
        "id": "lWzoLtC1T9-3",
        "outputId": "9afc86fd-c8a5-4f0e-bf41-f07d7b44d6d4",
        "colab": {
          "base_uri": "https://localhost:8080/",
          "height": 34
        }
      },
      "execution_count": 37,
      "outputs": [
        {
          "output_type": "display_data",
          "data": {
            "text/html": [
              "<style>\n",
              ".list-inline {list-style: none; margin:0; padding: 0}\n",
              ".list-inline>li {display: inline-block}\n",
              ".list-inline>li:not(:last-child)::after {content: \"\\00b7\"; padding: 0 .5ex}\n",
              "</style>\n",
              "<ol class=list-inline><li>-0.45978223747856</li><li>-0.32215984113414</li><li>-0.443492194262416</li><li>0.0768559863958625</li></ol>\n"
            ],
            "text/markdown": "1. -0.45978223747856\n2. -0.32215984113414\n3. -0.443492194262416\n4. 0.0768559863958625\n\n\n",
            "text/latex": "\\begin{enumerate*}\n\\item -0.45978223747856\n\\item -0.32215984113414\n\\item -0.443492194262416\n\\item 0.0768559863958625\n\\end{enumerate*}\n",
            "text/plain": [
              "[1] -0.45978224 -0.32215984 -0.44349219  0.07685599"
            ]
          },
          "metadata": {}
        }
      ]
    },
    {
      "cell_type": "code",
      "source": [
        "install.packages(\"rbenchmark\")\n",
        "library(rbenchmark)"
      ],
      "metadata": {
        "id": "P03AUcJDT_Lj",
        "outputId": "c85ecf23-a728-481d-f9cf-f082fb17f16b",
        "colab": {
          "base_uri": "https://localhost:8080/"
        }
      },
      "execution_count": 38,
      "outputs": [
        {
          "output_type": "stream",
          "name": "stderr",
          "text": [
            "Installing package into ‘/usr/local/lib/R/site-library’\n",
            "(as ‘lib’ is unspecified)\n",
            "\n"
          ]
        }
      ]
    },
    {
      "cell_type": "code",
      "source": [
        "simple1 <- function(n) {\n",
        "  output <- vector(\"double\", n)\n",
        "  for(i in 1:n)\n",
        "    output[i] = i\n",
        "  return(output)\n",
        "}\n",
        "\n",
        "simple2 <- function(n) {\n",
        "  output <- c()\n",
        "  for(i in 1:n)\n",
        "    output = c(output, i)\n",
        "  return(output)\n",
        "}"
      ],
      "metadata": {
        "id": "O_w4Yr-tUDHp"
      },
      "execution_count": 40,
      "outputs": []
    },
    {
      "cell_type": "code",
      "source": [
        "simple1(10)"
      ],
      "metadata": {
        "id": "xY34IgVuUGfF",
        "outputId": "76e440f5-f1ff-4314-85cd-c9f011f96ee2",
        "colab": {
          "base_uri": "https://localhost:8080/",
          "height": 34
        }
      },
      "execution_count": 41,
      "outputs": [
        {
          "output_type": "display_data",
          "data": {
            "text/html": [
              "<style>\n",
              ".list-inline {list-style: none; margin:0; padding: 0}\n",
              ".list-inline>li {display: inline-block}\n",
              ".list-inline>li:not(:last-child)::after {content: \"\\00b7\"; padding: 0 .5ex}\n",
              "</style>\n",
              "<ol class=list-inline><li>1</li><li>2</li><li>3</li><li>4</li><li>5</li><li>6</li><li>7</li><li>8</li><li>9</li><li>10</li></ol>\n"
            ],
            "text/markdown": "1. 1\n2. 2\n3. 3\n4. 4\n5. 5\n6. 6\n7. 7\n8. 8\n9. 9\n10. 10\n\n\n",
            "text/latex": "\\begin{enumerate*}\n\\item 1\n\\item 2\n\\item 3\n\\item 4\n\\item 5\n\\item 6\n\\item 7\n\\item 8\n\\item 9\n\\item 10\n\\end{enumerate*}\n",
            "text/plain": [
              " [1]  1  2  3  4  5  6  7  8  9 10"
            ]
          },
          "metadata": {}
        }
      ]
    },
    {
      "cell_type": "code",
      "source": [
        "simple2(10)"
      ],
      "metadata": {
        "id": "1P-pOOCVUJmE",
        "outputId": "5133c856-669a-4223-e874-354f803a1be1",
        "colab": {
          "base_uri": "https://localhost:8080/",
          "height": 34
        }
      },
      "execution_count": 42,
      "outputs": [
        {
          "output_type": "display_data",
          "data": {
            "text/html": [
              "<style>\n",
              ".list-inline {list-style: none; margin:0; padding: 0}\n",
              ".list-inline>li {display: inline-block}\n",
              ".list-inline>li:not(:last-child)::after {content: \"\\00b7\"; padding: 0 .5ex}\n",
              "</style>\n",
              "<ol class=list-inline><li>1</li><li>2</li><li>3</li><li>4</li><li>5</li><li>6</li><li>7</li><li>8</li><li>9</li><li>10</li></ol>\n"
            ],
            "text/markdown": "1. 1\n2. 2\n3. 3\n4. 4\n5. 5\n6. 6\n7. 7\n8. 8\n9. 9\n10. 10\n\n\n",
            "text/latex": "\\begin{enumerate*}\n\\item 1\n\\item 2\n\\item 3\n\\item 4\n\\item 5\n\\item 6\n\\item 7\n\\item 8\n\\item 9\n\\item 10\n\\end{enumerate*}\n",
            "text/plain": [
              " [1]  1  2  3  4  5  6  7  8  9 10"
            ]
          },
          "metadata": {}
        }
      ]
    },
    {
      "cell_type": "code",
      "source": [
        "benchmark(\"fc1\"=simple1(1000),\n",
        "          \"fc2\"=simple2(1000),\n",
        "          replications=100,\n",
        "          columns=c('test', 'elapsed', 'replications'))"
      ],
      "metadata": {
        "id": "IvxaKzE4ULWS",
        "outputId": "01bd98fd-d6ae-47d3-9e31-0c86aef38925",
        "colab": {
          "base_uri": "https://localhost:8080/",
          "height": 161
        }
      },
      "execution_count": 43,
      "outputs": [
        {
          "output_type": "display_data",
          "data": {
            "text/html": [
              "<table class=\"dataframe\">\n",
              "<caption>A data.frame: 2 × 3</caption>\n",
              "<thead>\n",
              "\t<tr><th></th><th scope=col>test</th><th scope=col>elapsed</th><th scope=col>replications</th></tr>\n",
              "\t<tr><th></th><th scope=col>&lt;chr&gt;</th><th scope=col>&lt;dbl&gt;</th><th scope=col>&lt;int&gt;</th></tr>\n",
              "</thead>\n",
              "<tbody>\n",
              "\t<tr><th scope=row>1</th><td>fc1</td><td>0.007</td><td>100</td></tr>\n",
              "\t<tr><th scope=row>2</th><td>fc2</td><td>0.239</td><td>100</td></tr>\n",
              "</tbody>\n",
              "</table>\n"
            ],
            "text/markdown": "\nA data.frame: 2 × 3\n\n| <!--/--> | test &lt;chr&gt; | elapsed &lt;dbl&gt; | replications &lt;int&gt; |\n|---|---|---|---|\n| 1 | fc1 | 0.007 | 100 |\n| 2 | fc2 | 0.239 | 100 |\n\n",
            "text/latex": "A data.frame: 2 × 3\n\\begin{tabular}{r|lll}\n  & test & elapsed & replications\\\\\n  & <chr> & <dbl> & <int>\\\\\n\\hline\n\t1 & fc1 & 0.007 & 100\\\\\n\t2 & fc2 & 0.239 & 100\\\\\n\\end{tabular}\n",
            "text/plain": [
              "  test elapsed replications\n",
              "1 fc1  0.007   100         \n",
              "2 fc2  0.239   100         "
            ]
          },
          "metadata": {}
        }
      ]
    },
    {
      "cell_type": "code",
      "source": [
        "239/7"
      ],
      "metadata": {
        "id": "ZfGBwSMsUNyZ",
        "outputId": "29c7b6a5-7933-440f-ee38-48d6a7468e90",
        "colab": {
          "base_uri": "https://localhost:8080/",
          "height": 34
        }
      },
      "execution_count": 44,
      "outputs": [
        {
          "output_type": "display_data",
          "data": {
            "text/html": [
              "34.1428571428571"
            ],
            "text/markdown": "34.1428571428571",
            "text/latex": "34.1428571428571",
            "text/plain": [
              "[1] 34.14286"
            ]
          },
          "metadata": {}
        }
      ]
    },
    {
      "cell_type": "markdown",
      "source": [
        "## for_loops vs functional\n",
        "\n",
        "Possible to wrap up for loops in a function\n"
      ],
      "metadata": {
        "id": "8kdrRuNDUSOu"
      }
    },
    {
      "cell_type": "code",
      "source": [
        "col_mean <- function(df) {\n",
        "  output <- vector(\"double\", ncol(df))\n",
        "  for (i in seq_along(df)) {\n",
        "    output[[i]] <- mean(df[[i]])\n",
        "  }\n",
        "  output\n",
        "}\n",
        "\n",
        "col_median <- function(df) {\n",
        "  output <- vector(\"double\", ncol(df))\n",
        "  for (i in seq_along(df)) {\n",
        "    output[[i]] <- median(df[[i]])\n",
        "  }\n",
        "  output\n",
        "}\n",
        "\n",
        "col_sd <- function(df) {\n",
        "  output <- vector(\"double\", ncol(df))\n",
        "  for (i in seq_along(df)) {\n",
        "    output[[i]] <- sd(df[[i]])\n",
        "  }\n",
        "  output\n",
        "}\n",
        "\n",
        "col_mean(df)"
      ],
      "metadata": {
        "id": "ThiRDqxNUTss",
        "outputId": "da203c75-1c86-4ee1-b10b-a53c6fc176d7",
        "colab": {
          "base_uri": "https://localhost:8080/",
          "height": 34
        }
      },
      "execution_count": 46,
      "outputs": [
        {
          "output_type": "display_data",
          "data": {
            "text/html": [
              "<style>\n",
              ".list-inline {list-style: none; margin:0; padding: 0}\n",
              ".list-inline>li {display: inline-block}\n",
              ".list-inline>li:not(:last-child)::after {content: \"\\00b7\"; padding: 0 .5ex}\n",
              "</style>\n",
              "<ol class=list-inline><li>-0.311877774387062</li><li>-0.158628081896621</li><li>-0.525308097464513</li><li>-0.0127023262805986</li></ol>\n"
            ],
            "text/markdown": "1. -0.311877774387062\n2. -0.158628081896621\n3. -0.525308097464513\n4. -0.0127023262805986\n\n\n",
            "text/latex": "\\begin{enumerate*}\n\\item -0.311877774387062\n\\item -0.158628081896621\n\\item -0.525308097464513\n\\item -0.0127023262805986\n\\end{enumerate*}\n",
            "text/plain": [
              "[1] -0.31187777 -0.15862808 -0.52530810 -0.01270233"
            ]
          },
          "metadata": {}
        }
      ]
    },
    {
      "cell_type": "markdown",
      "source": [
        "You can make function as a variable"
      ],
      "metadata": {
        "id": "jNwYhyOfUWvP"
      }
    },
    {
      "cell_type": "code",
      "source": [
        "col_summary <- function(df, fun) {\n",
        "  out <- vector(\"double\", length(df))\n",
        "  for (i in seq_along(df)) {\n",
        "    out[i] <- fun(df[[i]])\n",
        "  }\n",
        "  out\n",
        "}\n",
        "col_summary(df, median)\n"
      ],
      "metadata": {
        "id": "mYOMCm_JUadl",
        "outputId": "92da29ed-2f08-4681-e02d-351f3c34365a",
        "colab": {
          "base_uri": "https://localhost:8080/",
          "height": 34
        }
      },
      "execution_count": 47,
      "outputs": [
        {
          "output_type": "display_data",
          "data": {
            "text/html": [
              "<style>\n",
              ".list-inline {list-style: none; margin:0; padding: 0}\n",
              ".list-inline>li {display: inline-block}\n",
              ".list-inline>li:not(:last-child)::after {content: \"\\00b7\"; padding: 0 .5ex}\n",
              "</style>\n",
              "<ol class=list-inline><li>-0.45978223747856</li><li>-0.32215984113414</li><li>-0.443492194262416</li><li>0.0768559863958625</li></ol>\n"
            ],
            "text/markdown": "1. -0.45978223747856\n2. -0.32215984113414\n3. -0.443492194262416\n4. 0.0768559863958625\n\n\n",
            "text/latex": "\\begin{enumerate*}\n\\item -0.45978223747856\n\\item -0.32215984113414\n\\item -0.443492194262416\n\\item 0.0768559863958625\n\\end{enumerate*}\n",
            "text/plain": [
              "[1] -0.45978224 -0.32215984 -0.44349219  0.07685599"
            ]
          },
          "metadata": {}
        }
      ]
    },
    {
      "cell_type": "markdown",
      "source": [
        "## The map function (purrr)\n",
        "\n",
        "the purrr package provides a family of functions for looping patterns over a vector\n",
        "\n",
        "remind apply()"
      ],
      "metadata": {
        "id": "7rlzPtfAUbzK"
      }
    },
    {
      "cell_type": "code",
      "source": [
        "str(df)"
      ],
      "metadata": {
        "id": "oZJxxyqsVpB2",
        "outputId": "66d8ca7a-8b84-456a-ca99-973b2c9a3091",
        "colab": {
          "base_uri": "https://localhost:8080/"
        }
      },
      "execution_count": 48,
      "outputs": [
        {
          "output_type": "stream",
          "name": "stdout",
          "text": [
            "tibble [10 × 4] (S3: tbl_df/tbl/data.frame)\n",
            " $ a: num [1:10] -1.605 -1.981 0.297 -1.125 0.685 ...\n",
            " $ b: num [1:10] 0.234 -0.267 -0.378 -0.604 -0.655 ...\n",
            " $ c: num [1:10] -1.615 -0.178 -0.235 -2.63 0.785 ...\n",
            " $ d: num [1:10] 1.091 -0.753 -1.805 0.173 1.181 ...\n"
          ]
        }
      ]
    },
    {
      "cell_type": "code",
      "source": [
        "df"
      ],
      "metadata": {
        "id": "WfNjIyAlVqrj",
        "outputId": "9c3f7b47-f5b2-4142-e4d8-aa5d0fe734fe",
        "colab": {
          "base_uri": "https://localhost:8080/",
          "height": 412
        }
      },
      "execution_count": 49,
      "outputs": [
        {
          "output_type": "display_data",
          "data": {
            "text/html": [
              "<table class=\"dataframe\">\n",
              "<caption>A tibble: 10 × 4</caption>\n",
              "<thead>\n",
              "\t<tr><th scope=col>a</th><th scope=col>b</th><th scope=col>c</th><th scope=col>d</th></tr>\n",
              "\t<tr><th scope=col>&lt;dbl&gt;</th><th scope=col>&lt;dbl&gt;</th><th scope=col>&lt;dbl&gt;</th><th scope=col>&lt;dbl&gt;</th></tr>\n",
              "</thead>\n",
              "<tbody>\n",
              "\t<tr><td>-1.6046759</td><td> 0.2335664</td><td>-1.6154147842</td><td> 1.09057561</td></tr>\n",
              "\t<tr><td>-1.9812627</td><td>-0.2666376</td><td>-0.1780287998</td><td>-0.75329892</td></tr>\n",
              "\t<tr><td> 0.2971022</td><td>-0.3776821</td><td>-0.2349187331</td><td>-1.80537947</td></tr>\n",
              "\t<tr><td>-1.1252805</td><td>-0.6044888</td><td>-2.6299690194</td><td> 0.17337821</td></tr>\n",
              "\t<tr><td> 0.6846090</td><td>-0.6546701</td><td> 0.7854217040</td><td> 1.18080442</td></tr>\n",
              "\t<tr><td> 1.4696067</td><td> 1.2293948</td><td> 0.8525084372</td><td> 0.20972327</td></tr>\n",
              "\t<tr><td>-0.4589193</td><td>-1.2742646</td><td>-0.6730441708</td><td>-0.95196406</td></tr>\n",
              "\t<tr><td>-0.9461569</td><td>-0.4462466</td><td>-0.6520656554</td><td> 1.25185639</td></tr>\n",
              "\t<tr><td> 1.0068450</td><td> 0.2827553</td><td> 0.0005066556</td><td>-0.01966623</td></tr>\n",
              "\t<tr><td>-0.4606452</td><td> 0.2919925</td><td>-0.9080766088</td><td>-0.50305246</td></tr>\n",
              "</tbody>\n",
              "</table>\n"
            ],
            "text/markdown": "\nA tibble: 10 × 4\n\n| a &lt;dbl&gt; | b &lt;dbl&gt; | c &lt;dbl&gt; | d &lt;dbl&gt; |\n|---|---|---|---|\n| -1.6046759 |  0.2335664 | -1.6154147842 |  1.09057561 |\n| -1.9812627 | -0.2666376 | -0.1780287998 | -0.75329892 |\n|  0.2971022 | -0.3776821 | -0.2349187331 | -1.80537947 |\n| -1.1252805 | -0.6044888 | -2.6299690194 |  0.17337821 |\n|  0.6846090 | -0.6546701 |  0.7854217040 |  1.18080442 |\n|  1.4696067 |  1.2293948 |  0.8525084372 |  0.20972327 |\n| -0.4589193 | -1.2742646 | -0.6730441708 | -0.95196406 |\n| -0.9461569 | -0.4462466 | -0.6520656554 |  1.25185639 |\n|  1.0068450 |  0.2827553 |  0.0005066556 | -0.01966623 |\n| -0.4606452 |  0.2919925 | -0.9080766088 | -0.50305246 |\n\n",
            "text/latex": "A tibble: 10 × 4\n\\begin{tabular}{llll}\n a & b & c & d\\\\\n <dbl> & <dbl> & <dbl> & <dbl>\\\\\n\\hline\n\t -1.6046759 &  0.2335664 & -1.6154147842 &  1.09057561\\\\\n\t -1.9812627 & -0.2666376 & -0.1780287998 & -0.75329892\\\\\n\t  0.2971022 & -0.3776821 & -0.2349187331 & -1.80537947\\\\\n\t -1.1252805 & -0.6044888 & -2.6299690194 &  0.17337821\\\\\n\t  0.6846090 & -0.6546701 &  0.7854217040 &  1.18080442\\\\\n\t  1.4696067 &  1.2293948 &  0.8525084372 &  0.20972327\\\\\n\t -0.4589193 & -1.2742646 & -0.6730441708 & -0.95196406\\\\\n\t -0.9461569 & -0.4462466 & -0.6520656554 &  1.25185639\\\\\n\t  1.0068450 &  0.2827553 &  0.0005066556 & -0.01966623\\\\\n\t -0.4606452 &  0.2919925 & -0.9080766088 & -0.50305246\\\\\n\\end{tabular}\n",
            "text/plain": [
              "   a          b          c             d          \n",
              "1  -1.6046759  0.2335664 -1.6154147842  1.09057561\n",
              "2  -1.9812627 -0.2666376 -0.1780287998 -0.75329892\n",
              "3   0.2971022 -0.3776821 -0.2349187331 -1.80537947\n",
              "4  -1.1252805 -0.6044888 -2.6299690194  0.17337821\n",
              "5   0.6846090 -0.6546701  0.7854217040  1.18080442\n",
              "6   1.4696067  1.2293948  0.8525084372  0.20972327\n",
              "7  -0.4589193 -1.2742646 -0.6730441708 -0.95196406\n",
              "8  -0.9461569 -0.4462466 -0.6520656554  1.25185639\n",
              "9   1.0068450  0.2827553  0.0005066556 -0.01966623\n",
              "10 -0.4606452  0.2919925 -0.9080766088 -0.50305246"
            ]
          },
          "metadata": {}
        }
      ]
    },
    {
      "cell_type": "code",
      "source": [
        "df %>% map_dbl(mean)"
      ],
      "metadata": {
        "id": "1kKrB-QGVuMz",
        "outputId": "9f94fcc6-e89a-47ae-cde2-70541c083c24",
        "colab": {
          "base_uri": "https://localhost:8080/",
          "height": 34
        }
      },
      "execution_count": 50,
      "outputs": [
        {
          "output_type": "display_data",
          "data": {
            "text/html": [
              "<style>\n",
              ".dl-inline {width: auto; margin:0; padding: 0}\n",
              ".dl-inline>dt, .dl-inline>dd {float: none; width: auto; display: inline-block}\n",
              ".dl-inline>dt::after {content: \":\\0020\"; padding-right: .5ex}\n",
              ".dl-inline>dt:not(:first-of-type) {padding-left: .5ex}\n",
              "</style><dl class=dl-inline><dt>a</dt><dd>-0.311877774387062</dd><dt>b</dt><dd>-0.158628081896621</dd><dt>c</dt><dd>-0.525308097464513</dd><dt>d</dt><dd>-0.0127023262805986</dd></dl>\n"
            ],
            "text/markdown": "a\n:   -0.311877774387062b\n:   -0.158628081896621c\n:   -0.525308097464513d\n:   -0.0127023262805986\n\n",
            "text/latex": "\\begin{description*}\n\\item[a] -0.311877774387062\n\\item[b] -0.158628081896621\n\\item[c] -0.525308097464513\n\\item[d] -0.0127023262805986\n\\end{description*}\n",
            "text/plain": [
              "          a           b           c           d \n",
              "-0.31187777 -0.15862808 -0.52530810 -0.01270233 "
            ]
          },
          "metadata": {}
        }
      ]
    },
    {
      "cell_type": "code",
      "source": [
        "df %>% map(mean)"
      ],
      "metadata": {
        "id": "uyA8qn0rV1Bu",
        "outputId": "60c7e269-8d98-43ce-f4cf-bf88479df68f",
        "colab": {
          "base_uri": "https://localhost:8080/",
          "height": 184
        }
      },
      "execution_count": 51,
      "outputs": [
        {
          "output_type": "display_data",
          "data": {
            "text/html": [
              "<dl>\n",
              "\t<dt>$a</dt>\n",
              "\t\t<dd>-0.311877774387062</dd>\n",
              "\t<dt>$b</dt>\n",
              "\t\t<dd>-0.158628081896621</dd>\n",
              "\t<dt>$c</dt>\n",
              "\t\t<dd>-0.525308097464513</dd>\n",
              "\t<dt>$d</dt>\n",
              "\t\t<dd>-0.0127023262805986</dd>\n",
              "</dl>\n"
            ],
            "text/markdown": "$a\n:   -0.311877774387062\n$b\n:   -0.158628081896621\n$c\n:   -0.525308097464513\n$d\n:   -0.0127023262805986\n\n\n",
            "text/latex": "\\begin{description}\n\\item[\\$a] -0.311877774387062\n\\item[\\$b] -0.158628081896621\n\\item[\\$c] -0.525308097464513\n\\item[\\$d] -0.0127023262805986\n\\end{description}\n",
            "text/plain": [
              "$a\n",
              "[1] -0.3118778\n",
              "\n",
              "$b\n",
              "[1] -0.1586281\n",
              "\n",
              "$c\n",
              "[1] -0.5253081\n",
              "\n",
              "$d\n",
              "[1] -0.01270233\n"
            ]
          },
          "metadata": {}
        }
      ]
    },
    {
      "cell_type": "code",
      "source": [
        "df %>% map_dbl(median)"
      ],
      "metadata": {
        "id": "2Ftsg3OHV3Ub",
        "outputId": "fdffc361-9c27-44ff-f1fb-48027367a2cf",
        "colab": {
          "base_uri": "https://localhost:8080/",
          "height": 34
        }
      },
      "execution_count": 52,
      "outputs": [
        {
          "output_type": "display_data",
          "data": {
            "text/html": [
              "<style>\n",
              ".dl-inline {width: auto; margin:0; padding: 0}\n",
              ".dl-inline>dt, .dl-inline>dd {float: none; width: auto; display: inline-block}\n",
              ".dl-inline>dt::after {content: \":\\0020\"; padding-right: .5ex}\n",
              ".dl-inline>dt:not(:first-of-type) {padding-left: .5ex}\n",
              "</style><dl class=dl-inline><dt>a</dt><dd>-0.45978223747856</dd><dt>b</dt><dd>-0.32215984113414</dd><dt>c</dt><dd>-0.443492194262416</dd><dt>d</dt><dd>0.0768559863958625</dd></dl>\n"
            ],
            "text/markdown": "a\n:   -0.45978223747856b\n:   -0.32215984113414c\n:   -0.443492194262416d\n:   0.0768559863958625\n\n",
            "text/latex": "\\begin{description*}\n\\item[a] -0.45978223747856\n\\item[b] -0.32215984113414\n\\item[c] -0.443492194262416\n\\item[d] 0.0768559863958625\n\\end{description*}\n",
            "text/plain": [
              "          a           b           c           d \n",
              "-0.45978224 -0.32215984 -0.44349219  0.07685599 "
            ]
          },
          "metadata": {}
        }
      ]
    },
    {
      "cell_type": "code",
      "source": [
        "mtcars %>% head()"
      ],
      "metadata": {
        "id": "grhSV-cpWDHn",
        "outputId": "a0b1933c-ef2d-46e0-ee90-77ec2a7b4946",
        "colab": {
          "base_uri": "https://localhost:8080/",
          "height": 286
        }
      },
      "execution_count": 55,
      "outputs": [
        {
          "output_type": "display_data",
          "data": {
            "text/html": [
              "<table class=\"dataframe\">\n",
              "<caption>A data.frame: 6 × 11</caption>\n",
              "<thead>\n",
              "\t<tr><th></th><th scope=col>mpg</th><th scope=col>cyl</th><th scope=col>disp</th><th scope=col>hp</th><th scope=col>drat</th><th scope=col>wt</th><th scope=col>qsec</th><th scope=col>vs</th><th scope=col>am</th><th scope=col>gear</th><th scope=col>carb</th></tr>\n",
              "\t<tr><th></th><th scope=col>&lt;dbl&gt;</th><th scope=col>&lt;dbl&gt;</th><th scope=col>&lt;dbl&gt;</th><th scope=col>&lt;dbl&gt;</th><th scope=col>&lt;dbl&gt;</th><th scope=col>&lt;dbl&gt;</th><th scope=col>&lt;dbl&gt;</th><th scope=col>&lt;dbl&gt;</th><th scope=col>&lt;dbl&gt;</th><th scope=col>&lt;dbl&gt;</th><th scope=col>&lt;dbl&gt;</th></tr>\n",
              "</thead>\n",
              "<tbody>\n",
              "\t<tr><th scope=row>Mazda RX4</th><td>21.0</td><td>6</td><td>160</td><td>110</td><td>3.90</td><td>2.620</td><td>16.46</td><td>0</td><td>1</td><td>4</td><td>4</td></tr>\n",
              "\t<tr><th scope=row>Mazda RX4 Wag</th><td>21.0</td><td>6</td><td>160</td><td>110</td><td>3.90</td><td>2.875</td><td>17.02</td><td>0</td><td>1</td><td>4</td><td>4</td></tr>\n",
              "\t<tr><th scope=row>Datsun 710</th><td>22.8</td><td>4</td><td>108</td><td> 93</td><td>3.85</td><td>2.320</td><td>18.61</td><td>1</td><td>1</td><td>4</td><td>1</td></tr>\n",
              "\t<tr><th scope=row>Hornet 4 Drive</th><td>21.4</td><td>6</td><td>258</td><td>110</td><td>3.08</td><td>3.215</td><td>19.44</td><td>1</td><td>0</td><td>3</td><td>1</td></tr>\n",
              "\t<tr><th scope=row>Hornet Sportabout</th><td>18.7</td><td>8</td><td>360</td><td>175</td><td>3.15</td><td>3.440</td><td>17.02</td><td>0</td><td>0</td><td>3</td><td>2</td></tr>\n",
              "\t<tr><th scope=row>Valiant</th><td>18.1</td><td>6</td><td>225</td><td>105</td><td>2.76</td><td>3.460</td><td>20.22</td><td>1</td><td>0</td><td>3</td><td>1</td></tr>\n",
              "</tbody>\n",
              "</table>\n"
            ],
            "text/markdown": "\nA data.frame: 6 × 11\n\n| <!--/--> | mpg &lt;dbl&gt; | cyl &lt;dbl&gt; | disp &lt;dbl&gt; | hp &lt;dbl&gt; | drat &lt;dbl&gt; | wt &lt;dbl&gt; | qsec &lt;dbl&gt; | vs &lt;dbl&gt; | am &lt;dbl&gt; | gear &lt;dbl&gt; | carb &lt;dbl&gt; |\n|---|---|---|---|---|---|---|---|---|---|---|---|\n| Mazda RX4 | 21.0 | 6 | 160 | 110 | 3.90 | 2.620 | 16.46 | 0 | 1 | 4 | 4 |\n| Mazda RX4 Wag | 21.0 | 6 | 160 | 110 | 3.90 | 2.875 | 17.02 | 0 | 1 | 4 | 4 |\n| Datsun 710 | 22.8 | 4 | 108 |  93 | 3.85 | 2.320 | 18.61 | 1 | 1 | 4 | 1 |\n| Hornet 4 Drive | 21.4 | 6 | 258 | 110 | 3.08 | 3.215 | 19.44 | 1 | 0 | 3 | 1 |\n| Hornet Sportabout | 18.7 | 8 | 360 | 175 | 3.15 | 3.440 | 17.02 | 0 | 0 | 3 | 2 |\n| Valiant | 18.1 | 6 | 225 | 105 | 2.76 | 3.460 | 20.22 | 1 | 0 | 3 | 1 |\n\n",
            "text/latex": "A data.frame: 6 × 11\n\\begin{tabular}{r|lllllllllll}\n  & mpg & cyl & disp & hp & drat & wt & qsec & vs & am & gear & carb\\\\\n  & <dbl> & <dbl> & <dbl> & <dbl> & <dbl> & <dbl> & <dbl> & <dbl> & <dbl> & <dbl> & <dbl>\\\\\n\\hline\n\tMazda RX4 & 21.0 & 6 & 160 & 110 & 3.90 & 2.620 & 16.46 & 0 & 1 & 4 & 4\\\\\n\tMazda RX4 Wag & 21.0 & 6 & 160 & 110 & 3.90 & 2.875 & 17.02 & 0 & 1 & 4 & 4\\\\\n\tDatsun 710 & 22.8 & 4 & 108 &  93 & 3.85 & 2.320 & 18.61 & 1 & 1 & 4 & 1\\\\\n\tHornet 4 Drive & 21.4 & 6 & 258 & 110 & 3.08 & 3.215 & 19.44 & 1 & 0 & 3 & 1\\\\\n\tHornet Sportabout & 18.7 & 8 & 360 & 175 & 3.15 & 3.440 & 17.02 & 0 & 0 & 3 & 2\\\\\n\tValiant & 18.1 & 6 & 225 & 105 & 2.76 & 3.460 & 20.22 & 1 & 0 & 3 & 1\\\\\n\\end{tabular}\n",
            "text/plain": [
              "                  mpg  cyl disp hp  drat wt    qsec  vs am gear carb\n",
              "Mazda RX4         21.0 6   160  110 3.90 2.620 16.46 0  1  4    4   \n",
              "Mazda RX4 Wag     21.0 6   160  110 3.90 2.875 17.02 0  1  4    4   \n",
              "Datsun 710        22.8 4   108   93 3.85 2.320 18.61 1  1  4    1   \n",
              "Hornet 4 Drive    21.4 6   258  110 3.08 3.215 19.44 1  0  3    1   \n",
              "Hornet Sportabout 18.7 8   360  175 3.15 3.440 17.02 0  0  3    2   \n",
              "Valiant           18.1 6   225  105 2.76 3.460 20.22 1  0  3    1   "
            ]
          },
          "metadata": {}
        }
      ]
    },
    {
      "cell_type": "code",
      "source": [
        "mtcars %>%\n",
        "  split(.$cyl)"
      ],
      "metadata": {
        "id": "6AfWBJ8mWGpC",
        "outputId": "359bf12d-fa19-47ff-ccf0-0ffec803d819",
        "colab": {
          "base_uri": "https://localhost:8080/",
          "height": 1000
        }
      },
      "execution_count": 56,
      "outputs": [
        {
          "output_type": "display_data",
          "data": {
            "text/html": [
              "<dl>\n",
              "\t<dt>$`4`</dt>\n",
              "\t\t<dd><table class=\"dataframe\">\n",
              "<caption>A data.frame: 11 × 11</caption>\n",
              "<thead>\n",
              "\t<tr><th></th><th scope=col>mpg</th><th scope=col>cyl</th><th scope=col>disp</th><th scope=col>hp</th><th scope=col>drat</th><th scope=col>wt</th><th scope=col>qsec</th><th scope=col>vs</th><th scope=col>am</th><th scope=col>gear</th><th scope=col>carb</th></tr>\n",
              "\t<tr><th></th><th scope=col>&lt;dbl&gt;</th><th scope=col>&lt;dbl&gt;</th><th scope=col>&lt;dbl&gt;</th><th scope=col>&lt;dbl&gt;</th><th scope=col>&lt;dbl&gt;</th><th scope=col>&lt;dbl&gt;</th><th scope=col>&lt;dbl&gt;</th><th scope=col>&lt;dbl&gt;</th><th scope=col>&lt;dbl&gt;</th><th scope=col>&lt;dbl&gt;</th><th scope=col>&lt;dbl&gt;</th></tr>\n",
              "</thead>\n",
              "<tbody>\n",
              "\t<tr><th scope=row>Datsun 710</th><td>22.8</td><td>4</td><td>108.0</td><td> 93</td><td>3.85</td><td>2.320</td><td>18.61</td><td>1</td><td>1</td><td>4</td><td>1</td></tr>\n",
              "\t<tr><th scope=row>Merc 240D</th><td>24.4</td><td>4</td><td>146.7</td><td> 62</td><td>3.69</td><td>3.190</td><td>20.00</td><td>1</td><td>0</td><td>4</td><td>2</td></tr>\n",
              "\t<tr><th scope=row>Merc 230</th><td>22.8</td><td>4</td><td>140.8</td><td> 95</td><td>3.92</td><td>3.150</td><td>22.90</td><td>1</td><td>0</td><td>4</td><td>2</td></tr>\n",
              "\t<tr><th scope=row>Fiat 128</th><td>32.4</td><td>4</td><td> 78.7</td><td> 66</td><td>4.08</td><td>2.200</td><td>19.47</td><td>1</td><td>1</td><td>4</td><td>1</td></tr>\n",
              "\t<tr><th scope=row>Honda Civic</th><td>30.4</td><td>4</td><td> 75.7</td><td> 52</td><td>4.93</td><td>1.615</td><td>18.52</td><td>1</td><td>1</td><td>4</td><td>2</td></tr>\n",
              "\t<tr><th scope=row>Toyota Corolla</th><td>33.9</td><td>4</td><td> 71.1</td><td> 65</td><td>4.22</td><td>1.835</td><td>19.90</td><td>1</td><td>1</td><td>4</td><td>1</td></tr>\n",
              "\t<tr><th scope=row>Toyota Corona</th><td>21.5</td><td>4</td><td>120.1</td><td> 97</td><td>3.70</td><td>2.465</td><td>20.01</td><td>1</td><td>0</td><td>3</td><td>1</td></tr>\n",
              "\t<tr><th scope=row>Fiat X1-9</th><td>27.3</td><td>4</td><td> 79.0</td><td> 66</td><td>4.08</td><td>1.935</td><td>18.90</td><td>1</td><td>1</td><td>4</td><td>1</td></tr>\n",
              "\t<tr><th scope=row>Porsche 914-2</th><td>26.0</td><td>4</td><td>120.3</td><td> 91</td><td>4.43</td><td>2.140</td><td>16.70</td><td>0</td><td>1</td><td>5</td><td>2</td></tr>\n",
              "\t<tr><th scope=row>Lotus Europa</th><td>30.4</td><td>4</td><td> 95.1</td><td>113</td><td>3.77</td><td>1.513</td><td>16.90</td><td>1</td><td>1</td><td>5</td><td>2</td></tr>\n",
              "\t<tr><th scope=row>Volvo 142E</th><td>21.4</td><td>4</td><td>121.0</td><td>109</td><td>4.11</td><td>2.780</td><td>18.60</td><td>1</td><td>1</td><td>4</td><td>2</td></tr>\n",
              "</tbody>\n",
              "</table>\n",
              "</dd>\n",
              "\t<dt>$`6`</dt>\n",
              "\t\t<dd><table class=\"dataframe\">\n",
              "<caption>A data.frame: 7 × 11</caption>\n",
              "<thead>\n",
              "\t<tr><th></th><th scope=col>mpg</th><th scope=col>cyl</th><th scope=col>disp</th><th scope=col>hp</th><th scope=col>drat</th><th scope=col>wt</th><th scope=col>qsec</th><th scope=col>vs</th><th scope=col>am</th><th scope=col>gear</th><th scope=col>carb</th></tr>\n",
              "\t<tr><th></th><th scope=col>&lt;dbl&gt;</th><th scope=col>&lt;dbl&gt;</th><th scope=col>&lt;dbl&gt;</th><th scope=col>&lt;dbl&gt;</th><th scope=col>&lt;dbl&gt;</th><th scope=col>&lt;dbl&gt;</th><th scope=col>&lt;dbl&gt;</th><th scope=col>&lt;dbl&gt;</th><th scope=col>&lt;dbl&gt;</th><th scope=col>&lt;dbl&gt;</th><th scope=col>&lt;dbl&gt;</th></tr>\n",
              "</thead>\n",
              "<tbody>\n",
              "\t<tr><th scope=row>Mazda RX4</th><td>21.0</td><td>6</td><td>160.0</td><td>110</td><td>3.90</td><td>2.620</td><td>16.46</td><td>0</td><td>1</td><td>4</td><td>4</td></tr>\n",
              "\t<tr><th scope=row>Mazda RX4 Wag</th><td>21.0</td><td>6</td><td>160.0</td><td>110</td><td>3.90</td><td>2.875</td><td>17.02</td><td>0</td><td>1</td><td>4</td><td>4</td></tr>\n",
              "\t<tr><th scope=row>Hornet 4 Drive</th><td>21.4</td><td>6</td><td>258.0</td><td>110</td><td>3.08</td><td>3.215</td><td>19.44</td><td>1</td><td>0</td><td>3</td><td>1</td></tr>\n",
              "\t<tr><th scope=row>Valiant</th><td>18.1</td><td>6</td><td>225.0</td><td>105</td><td>2.76</td><td>3.460</td><td>20.22</td><td>1</td><td>0</td><td>3</td><td>1</td></tr>\n",
              "\t<tr><th scope=row>Merc 280</th><td>19.2</td><td>6</td><td>167.6</td><td>123</td><td>3.92</td><td>3.440</td><td>18.30</td><td>1</td><td>0</td><td>4</td><td>4</td></tr>\n",
              "\t<tr><th scope=row>Merc 280C</th><td>17.8</td><td>6</td><td>167.6</td><td>123</td><td>3.92</td><td>3.440</td><td>18.90</td><td>1</td><td>0</td><td>4</td><td>4</td></tr>\n",
              "\t<tr><th scope=row>Ferrari Dino</th><td>19.7</td><td>6</td><td>145.0</td><td>175</td><td>3.62</td><td>2.770</td><td>15.50</td><td>0</td><td>1</td><td>5</td><td>6</td></tr>\n",
              "</tbody>\n",
              "</table>\n",
              "</dd>\n",
              "\t<dt>$`8`</dt>\n",
              "\t\t<dd><table class=\"dataframe\">\n",
              "<caption>A data.frame: 14 × 11</caption>\n",
              "<thead>\n",
              "\t<tr><th></th><th scope=col>mpg</th><th scope=col>cyl</th><th scope=col>disp</th><th scope=col>hp</th><th scope=col>drat</th><th scope=col>wt</th><th scope=col>qsec</th><th scope=col>vs</th><th scope=col>am</th><th scope=col>gear</th><th scope=col>carb</th></tr>\n",
              "\t<tr><th></th><th scope=col>&lt;dbl&gt;</th><th scope=col>&lt;dbl&gt;</th><th scope=col>&lt;dbl&gt;</th><th scope=col>&lt;dbl&gt;</th><th scope=col>&lt;dbl&gt;</th><th scope=col>&lt;dbl&gt;</th><th scope=col>&lt;dbl&gt;</th><th scope=col>&lt;dbl&gt;</th><th scope=col>&lt;dbl&gt;</th><th scope=col>&lt;dbl&gt;</th><th scope=col>&lt;dbl&gt;</th></tr>\n",
              "</thead>\n",
              "<tbody>\n",
              "\t<tr><th scope=row>Hornet Sportabout</th><td>18.7</td><td>8</td><td>360.0</td><td>175</td><td>3.15</td><td>3.440</td><td>17.02</td><td>0</td><td>0</td><td>3</td><td>2</td></tr>\n",
              "\t<tr><th scope=row>Duster 360</th><td>14.3</td><td>8</td><td>360.0</td><td>245</td><td>3.21</td><td>3.570</td><td>15.84</td><td>0</td><td>0</td><td>3</td><td>4</td></tr>\n",
              "\t<tr><th scope=row>Merc 450SE</th><td>16.4</td><td>8</td><td>275.8</td><td>180</td><td>3.07</td><td>4.070</td><td>17.40</td><td>0</td><td>0</td><td>3</td><td>3</td></tr>\n",
              "\t<tr><th scope=row>Merc 450SL</th><td>17.3</td><td>8</td><td>275.8</td><td>180</td><td>3.07</td><td>3.730</td><td>17.60</td><td>0</td><td>0</td><td>3</td><td>3</td></tr>\n",
              "\t<tr><th scope=row>Merc 450SLC</th><td>15.2</td><td>8</td><td>275.8</td><td>180</td><td>3.07</td><td>3.780</td><td>18.00</td><td>0</td><td>0</td><td>3</td><td>3</td></tr>\n",
              "\t<tr><th scope=row>Cadillac Fleetwood</th><td>10.4</td><td>8</td><td>472.0</td><td>205</td><td>2.93</td><td>5.250</td><td>17.98</td><td>0</td><td>0</td><td>3</td><td>4</td></tr>\n",
              "\t<tr><th scope=row>Lincoln Continental</th><td>10.4</td><td>8</td><td>460.0</td><td>215</td><td>3.00</td><td>5.424</td><td>17.82</td><td>0</td><td>0</td><td>3</td><td>4</td></tr>\n",
              "\t<tr><th scope=row>Chrysler Imperial</th><td>14.7</td><td>8</td><td>440.0</td><td>230</td><td>3.23</td><td>5.345</td><td>17.42</td><td>0</td><td>0</td><td>3</td><td>4</td></tr>\n",
              "\t<tr><th scope=row>Dodge Challenger</th><td>15.5</td><td>8</td><td>318.0</td><td>150</td><td>2.76</td><td>3.520</td><td>16.87</td><td>0</td><td>0</td><td>3</td><td>2</td></tr>\n",
              "\t<tr><th scope=row>AMC Javelin</th><td>15.2</td><td>8</td><td>304.0</td><td>150</td><td>3.15</td><td>3.435</td><td>17.30</td><td>0</td><td>0</td><td>3</td><td>2</td></tr>\n",
              "\t<tr><th scope=row>Camaro Z28</th><td>13.3</td><td>8</td><td>350.0</td><td>245</td><td>3.73</td><td>3.840</td><td>15.41</td><td>0</td><td>0</td><td>3</td><td>4</td></tr>\n",
              "\t<tr><th scope=row>Pontiac Firebird</th><td>19.2</td><td>8</td><td>400.0</td><td>175</td><td>3.08</td><td>3.845</td><td>17.05</td><td>0</td><td>0</td><td>3</td><td>2</td></tr>\n",
              "\t<tr><th scope=row>Ford Pantera L</th><td>15.8</td><td>8</td><td>351.0</td><td>264</td><td>4.22</td><td>3.170</td><td>14.50</td><td>0</td><td>1</td><td>5</td><td>4</td></tr>\n",
              "\t<tr><th scope=row>Maserati Bora</th><td>15.0</td><td>8</td><td>301.0</td><td>335</td><td>3.54</td><td>3.570</td><td>14.60</td><td>0</td><td>1</td><td>5</td><td>8</td></tr>\n",
              "</tbody>\n",
              "</table>\n",
              "</dd>\n",
              "</dl>\n"
            ],
            "text/markdown": "$`4`\n:   \nA data.frame: 11 × 11\n\n| <!--/--> | mpg &lt;dbl&gt; | cyl &lt;dbl&gt; | disp &lt;dbl&gt; | hp &lt;dbl&gt; | drat &lt;dbl&gt; | wt &lt;dbl&gt; | qsec &lt;dbl&gt; | vs &lt;dbl&gt; | am &lt;dbl&gt; | gear &lt;dbl&gt; | carb &lt;dbl&gt; |\n|---|---|---|---|---|---|---|---|---|---|---|---|\n| Datsun 710 | 22.8 | 4 | 108.0 |  93 | 3.85 | 2.320 | 18.61 | 1 | 1 | 4 | 1 |\n| Merc 240D | 24.4 | 4 | 146.7 |  62 | 3.69 | 3.190 | 20.00 | 1 | 0 | 4 | 2 |\n| Merc 230 | 22.8 | 4 | 140.8 |  95 | 3.92 | 3.150 | 22.90 | 1 | 0 | 4 | 2 |\n| Fiat 128 | 32.4 | 4 |  78.7 |  66 | 4.08 | 2.200 | 19.47 | 1 | 1 | 4 | 1 |\n| Honda Civic | 30.4 | 4 |  75.7 |  52 | 4.93 | 1.615 | 18.52 | 1 | 1 | 4 | 2 |\n| Toyota Corolla | 33.9 | 4 |  71.1 |  65 | 4.22 | 1.835 | 19.90 | 1 | 1 | 4 | 1 |\n| Toyota Corona | 21.5 | 4 | 120.1 |  97 | 3.70 | 2.465 | 20.01 | 1 | 0 | 3 | 1 |\n| Fiat X1-9 | 27.3 | 4 |  79.0 |  66 | 4.08 | 1.935 | 18.90 | 1 | 1 | 4 | 1 |\n| Porsche 914-2 | 26.0 | 4 | 120.3 |  91 | 4.43 | 2.140 | 16.70 | 0 | 1 | 5 | 2 |\n| Lotus Europa | 30.4 | 4 |  95.1 | 113 | 3.77 | 1.513 | 16.90 | 1 | 1 | 5 | 2 |\n| Volvo 142E | 21.4 | 4 | 121.0 | 109 | 4.11 | 2.780 | 18.60 | 1 | 1 | 4 | 2 |\n\n\n$`6`\n:   \nA data.frame: 7 × 11\n\n| <!--/--> | mpg &lt;dbl&gt; | cyl &lt;dbl&gt; | disp &lt;dbl&gt; | hp &lt;dbl&gt; | drat &lt;dbl&gt; | wt &lt;dbl&gt; | qsec &lt;dbl&gt; | vs &lt;dbl&gt; | am &lt;dbl&gt; | gear &lt;dbl&gt; | carb &lt;dbl&gt; |\n|---|---|---|---|---|---|---|---|---|---|---|---|\n| Mazda RX4 | 21.0 | 6 | 160.0 | 110 | 3.90 | 2.620 | 16.46 | 0 | 1 | 4 | 4 |\n| Mazda RX4 Wag | 21.0 | 6 | 160.0 | 110 | 3.90 | 2.875 | 17.02 | 0 | 1 | 4 | 4 |\n| Hornet 4 Drive | 21.4 | 6 | 258.0 | 110 | 3.08 | 3.215 | 19.44 | 1 | 0 | 3 | 1 |\n| Valiant | 18.1 | 6 | 225.0 | 105 | 2.76 | 3.460 | 20.22 | 1 | 0 | 3 | 1 |\n| Merc 280 | 19.2 | 6 | 167.6 | 123 | 3.92 | 3.440 | 18.30 | 1 | 0 | 4 | 4 |\n| Merc 280C | 17.8 | 6 | 167.6 | 123 | 3.92 | 3.440 | 18.90 | 1 | 0 | 4 | 4 |\n| Ferrari Dino | 19.7 | 6 | 145.0 | 175 | 3.62 | 2.770 | 15.50 | 0 | 1 | 5 | 6 |\n\n\n$`8`\n:   \nA data.frame: 14 × 11\n\n| <!--/--> | mpg &lt;dbl&gt; | cyl &lt;dbl&gt; | disp &lt;dbl&gt; | hp &lt;dbl&gt; | drat &lt;dbl&gt; | wt &lt;dbl&gt; | qsec &lt;dbl&gt; | vs &lt;dbl&gt; | am &lt;dbl&gt; | gear &lt;dbl&gt; | carb &lt;dbl&gt; |\n|---|---|---|---|---|---|---|---|---|---|---|---|\n| Hornet Sportabout | 18.7 | 8 | 360.0 | 175 | 3.15 | 3.440 | 17.02 | 0 | 0 | 3 | 2 |\n| Duster 360 | 14.3 | 8 | 360.0 | 245 | 3.21 | 3.570 | 15.84 | 0 | 0 | 3 | 4 |\n| Merc 450SE | 16.4 | 8 | 275.8 | 180 | 3.07 | 4.070 | 17.40 | 0 | 0 | 3 | 3 |\n| Merc 450SL | 17.3 | 8 | 275.8 | 180 | 3.07 | 3.730 | 17.60 | 0 | 0 | 3 | 3 |\n| Merc 450SLC | 15.2 | 8 | 275.8 | 180 | 3.07 | 3.780 | 18.00 | 0 | 0 | 3 | 3 |\n| Cadillac Fleetwood | 10.4 | 8 | 472.0 | 205 | 2.93 | 5.250 | 17.98 | 0 | 0 | 3 | 4 |\n| Lincoln Continental | 10.4 | 8 | 460.0 | 215 | 3.00 | 5.424 | 17.82 | 0 | 0 | 3 | 4 |\n| Chrysler Imperial | 14.7 | 8 | 440.0 | 230 | 3.23 | 5.345 | 17.42 | 0 | 0 | 3 | 4 |\n| Dodge Challenger | 15.5 | 8 | 318.0 | 150 | 2.76 | 3.520 | 16.87 | 0 | 0 | 3 | 2 |\n| AMC Javelin | 15.2 | 8 | 304.0 | 150 | 3.15 | 3.435 | 17.30 | 0 | 0 | 3 | 2 |\n| Camaro Z28 | 13.3 | 8 | 350.0 | 245 | 3.73 | 3.840 | 15.41 | 0 | 0 | 3 | 4 |\n| Pontiac Firebird | 19.2 | 8 | 400.0 | 175 | 3.08 | 3.845 | 17.05 | 0 | 0 | 3 | 2 |\n| Ford Pantera L | 15.8 | 8 | 351.0 | 264 | 4.22 | 3.170 | 14.50 | 0 | 1 | 5 | 4 |\n| Maserati Bora | 15.0 | 8 | 301.0 | 335 | 3.54 | 3.570 | 14.60 | 0 | 1 | 5 | 8 |\n\n\n\n\n",
            "text/latex": "\\begin{description}\n\\item[\\$`4`] A data.frame: 11 × 11\n\\begin{tabular}{r|lllllllllll}\n  & mpg & cyl & disp & hp & drat & wt & qsec & vs & am & gear & carb\\\\\n  & <dbl> & <dbl> & <dbl> & <dbl> & <dbl> & <dbl> & <dbl> & <dbl> & <dbl> & <dbl> & <dbl>\\\\\n\\hline\n\tDatsun 710 & 22.8 & 4 & 108.0 &  93 & 3.85 & 2.320 & 18.61 & 1 & 1 & 4 & 1\\\\\n\tMerc 240D & 24.4 & 4 & 146.7 &  62 & 3.69 & 3.190 & 20.00 & 1 & 0 & 4 & 2\\\\\n\tMerc 230 & 22.8 & 4 & 140.8 &  95 & 3.92 & 3.150 & 22.90 & 1 & 0 & 4 & 2\\\\\n\tFiat 128 & 32.4 & 4 &  78.7 &  66 & 4.08 & 2.200 & 19.47 & 1 & 1 & 4 & 1\\\\\n\tHonda Civic & 30.4 & 4 &  75.7 &  52 & 4.93 & 1.615 & 18.52 & 1 & 1 & 4 & 2\\\\\n\tToyota Corolla & 33.9 & 4 &  71.1 &  65 & 4.22 & 1.835 & 19.90 & 1 & 1 & 4 & 1\\\\\n\tToyota Corona & 21.5 & 4 & 120.1 &  97 & 3.70 & 2.465 & 20.01 & 1 & 0 & 3 & 1\\\\\n\tFiat X1-9 & 27.3 & 4 &  79.0 &  66 & 4.08 & 1.935 & 18.90 & 1 & 1 & 4 & 1\\\\\n\tPorsche 914-2 & 26.0 & 4 & 120.3 &  91 & 4.43 & 2.140 & 16.70 & 0 & 1 & 5 & 2\\\\\n\tLotus Europa & 30.4 & 4 &  95.1 & 113 & 3.77 & 1.513 & 16.90 & 1 & 1 & 5 & 2\\\\\n\tVolvo 142E & 21.4 & 4 & 121.0 & 109 & 4.11 & 2.780 & 18.60 & 1 & 1 & 4 & 2\\\\\n\\end{tabular}\n\n\\item[\\$`6`] A data.frame: 7 × 11\n\\begin{tabular}{r|lllllllllll}\n  & mpg & cyl & disp & hp & drat & wt & qsec & vs & am & gear & carb\\\\\n  & <dbl> & <dbl> & <dbl> & <dbl> & <dbl> & <dbl> & <dbl> & <dbl> & <dbl> & <dbl> & <dbl>\\\\\n\\hline\n\tMazda RX4 & 21.0 & 6 & 160.0 & 110 & 3.90 & 2.620 & 16.46 & 0 & 1 & 4 & 4\\\\\n\tMazda RX4 Wag & 21.0 & 6 & 160.0 & 110 & 3.90 & 2.875 & 17.02 & 0 & 1 & 4 & 4\\\\\n\tHornet 4 Drive & 21.4 & 6 & 258.0 & 110 & 3.08 & 3.215 & 19.44 & 1 & 0 & 3 & 1\\\\\n\tValiant & 18.1 & 6 & 225.0 & 105 & 2.76 & 3.460 & 20.22 & 1 & 0 & 3 & 1\\\\\n\tMerc 280 & 19.2 & 6 & 167.6 & 123 & 3.92 & 3.440 & 18.30 & 1 & 0 & 4 & 4\\\\\n\tMerc 280C & 17.8 & 6 & 167.6 & 123 & 3.92 & 3.440 & 18.90 & 1 & 0 & 4 & 4\\\\\n\tFerrari Dino & 19.7 & 6 & 145.0 & 175 & 3.62 & 2.770 & 15.50 & 0 & 1 & 5 & 6\\\\\n\\end{tabular}\n\n\\item[\\$`8`] A data.frame: 14 × 11\n\\begin{tabular}{r|lllllllllll}\n  & mpg & cyl & disp & hp & drat & wt & qsec & vs & am & gear & carb\\\\\n  & <dbl> & <dbl> & <dbl> & <dbl> & <dbl> & <dbl> & <dbl> & <dbl> & <dbl> & <dbl> & <dbl>\\\\\n\\hline\n\tHornet Sportabout & 18.7 & 8 & 360.0 & 175 & 3.15 & 3.440 & 17.02 & 0 & 0 & 3 & 2\\\\\n\tDuster 360 & 14.3 & 8 & 360.0 & 245 & 3.21 & 3.570 & 15.84 & 0 & 0 & 3 & 4\\\\\n\tMerc 450SE & 16.4 & 8 & 275.8 & 180 & 3.07 & 4.070 & 17.40 & 0 & 0 & 3 & 3\\\\\n\tMerc 450SL & 17.3 & 8 & 275.8 & 180 & 3.07 & 3.730 & 17.60 & 0 & 0 & 3 & 3\\\\\n\tMerc 450SLC & 15.2 & 8 & 275.8 & 180 & 3.07 & 3.780 & 18.00 & 0 & 0 & 3 & 3\\\\\n\tCadillac Fleetwood & 10.4 & 8 & 472.0 & 205 & 2.93 & 5.250 & 17.98 & 0 & 0 & 3 & 4\\\\\n\tLincoln Continental & 10.4 & 8 & 460.0 & 215 & 3.00 & 5.424 & 17.82 & 0 & 0 & 3 & 4\\\\\n\tChrysler Imperial & 14.7 & 8 & 440.0 & 230 & 3.23 & 5.345 & 17.42 & 0 & 0 & 3 & 4\\\\\n\tDodge Challenger & 15.5 & 8 & 318.0 & 150 & 2.76 & 3.520 & 16.87 & 0 & 0 & 3 & 2\\\\\n\tAMC Javelin & 15.2 & 8 & 304.0 & 150 & 3.15 & 3.435 & 17.30 & 0 & 0 & 3 & 2\\\\\n\tCamaro Z28 & 13.3 & 8 & 350.0 & 245 & 3.73 & 3.840 & 15.41 & 0 & 0 & 3 & 4\\\\\n\tPontiac Firebird & 19.2 & 8 & 400.0 & 175 & 3.08 & 3.845 & 17.05 & 0 & 0 & 3 & 2\\\\\n\tFord Pantera L & 15.8 & 8 & 351.0 & 264 & 4.22 & 3.170 & 14.50 & 0 & 1 & 5 & 4\\\\\n\tMaserati Bora & 15.0 & 8 & 301.0 & 335 & 3.54 & 3.570 & 14.60 & 0 & 1 & 5 & 8\\\\\n\\end{tabular}\n\n\\end{description}\n",
            "text/plain": [
              "$`4`\n",
              "                mpg cyl  disp  hp drat    wt  qsec vs am gear carb\n",
              "Datsun 710     22.8   4 108.0  93 3.85 2.320 18.61  1  1    4    1\n",
              "Merc 240D      24.4   4 146.7  62 3.69 3.190 20.00  1  0    4    2\n",
              "Merc 230       22.8   4 140.8  95 3.92 3.150 22.90  1  0    4    2\n",
              "Fiat 128       32.4   4  78.7  66 4.08 2.200 19.47  1  1    4    1\n",
              "Honda Civic    30.4   4  75.7  52 4.93 1.615 18.52  1  1    4    2\n",
              "Toyota Corolla 33.9   4  71.1  65 4.22 1.835 19.90  1  1    4    1\n",
              "Toyota Corona  21.5   4 120.1  97 3.70 2.465 20.01  1  0    3    1\n",
              "Fiat X1-9      27.3   4  79.0  66 4.08 1.935 18.90  1  1    4    1\n",
              "Porsche 914-2  26.0   4 120.3  91 4.43 2.140 16.70  0  1    5    2\n",
              "Lotus Europa   30.4   4  95.1 113 3.77 1.513 16.90  1  1    5    2\n",
              "Volvo 142E     21.4   4 121.0 109 4.11 2.780 18.60  1  1    4    2\n",
              "\n",
              "$`6`\n",
              "                mpg cyl  disp  hp drat    wt  qsec vs am gear carb\n",
              "Mazda RX4      21.0   6 160.0 110 3.90 2.620 16.46  0  1    4    4\n",
              "Mazda RX4 Wag  21.0   6 160.0 110 3.90 2.875 17.02  0  1    4    4\n",
              "Hornet 4 Drive 21.4   6 258.0 110 3.08 3.215 19.44  1  0    3    1\n",
              "Valiant        18.1   6 225.0 105 2.76 3.460 20.22  1  0    3    1\n",
              "Merc 280       19.2   6 167.6 123 3.92 3.440 18.30  1  0    4    4\n",
              "Merc 280C      17.8   6 167.6 123 3.92 3.440 18.90  1  0    4    4\n",
              "Ferrari Dino   19.7   6 145.0 175 3.62 2.770 15.50  0  1    5    6\n",
              "\n",
              "$`8`\n",
              "                     mpg cyl  disp  hp drat    wt  qsec vs am gear carb\n",
              "Hornet Sportabout   18.7   8 360.0 175 3.15 3.440 17.02  0  0    3    2\n",
              "Duster 360          14.3   8 360.0 245 3.21 3.570 15.84  0  0    3    4\n",
              "Merc 450SE          16.4   8 275.8 180 3.07 4.070 17.40  0  0    3    3\n",
              "Merc 450SL          17.3   8 275.8 180 3.07 3.730 17.60  0  0    3    3\n",
              "Merc 450SLC         15.2   8 275.8 180 3.07 3.780 18.00  0  0    3    3\n",
              "Cadillac Fleetwood  10.4   8 472.0 205 2.93 5.250 17.98  0  0    3    4\n",
              "Lincoln Continental 10.4   8 460.0 215 3.00 5.424 17.82  0  0    3    4\n",
              "Chrysler Imperial   14.7   8 440.0 230 3.23 5.345 17.42  0  0    3    4\n",
              "Dodge Challenger    15.5   8 318.0 150 2.76 3.520 16.87  0  0    3    2\n",
              "AMC Javelin         15.2   8 304.0 150 3.15 3.435 17.30  0  0    3    2\n",
              "Camaro Z28          13.3   8 350.0 245 3.73 3.840 15.41  0  0    3    4\n",
              "Pontiac Firebird    19.2   8 400.0 175 3.08 3.845 17.05  0  0    3    2\n",
              "Ford Pantera L      15.8   8 351.0 264 4.22 3.170 14.50  0  1    5    4\n",
              "Maserati Bora       15.0   8 301.0 335 3.54 3.570 14.60  0  1    5    8\n"
            ]
          },
          "metadata": {}
        }
      ]
    },
    {
      "cell_type": "markdown",
      "source": [
        "You can define a function in map"
      ],
      "metadata": {
        "id": "FTSVPyI0WMab"
      }
    },
    {
      "cell_type": "code",
      "source": [
        "f1 <- function(df) {\n",
        "  lm(mpg ~ wt, data = df)\n",
        "}\n",
        "\n",
        "mtcars %>%\n",
        "  split(.$cyl) %>%\n",
        "  map(f1)"
      ],
      "metadata": {
        "id": "1PsI8ZERWVF4",
        "outputId": "eb3aa14e-295a-4c9c-9683-0cace459141b",
        "colab": {
          "base_uri": "https://localhost:8080/",
          "height": 535
        }
      },
      "execution_count": 57,
      "outputs": [
        {
          "output_type": "display_data",
          "data": {
            "text/plain": [
              "$`4`\n",
              "\n",
              "Call:\n",
              "lm(formula = mpg ~ wt, data = df)\n",
              "\n",
              "Coefficients:\n",
              "(Intercept)           wt  \n",
              "     39.571       -5.647  \n",
              "\n",
              "\n",
              "$`6`\n",
              "\n",
              "Call:\n",
              "lm(formula = mpg ~ wt, data = df)\n",
              "\n",
              "Coefficients:\n",
              "(Intercept)           wt  \n",
              "      28.41        -2.78  \n",
              "\n",
              "\n",
              "$`8`\n",
              "\n",
              "Call:\n",
              "lm(formula = mpg ~ wt, data = df)\n",
              "\n",
              "Coefficients:\n",
              "(Intercept)           wt  \n",
              "     23.868       -2.192  \n",
              "\n"
            ]
          },
          "metadata": {}
        }
      ]
    },
    {
      "cell_type": "code",
      "source": [
        "mtcars %>%\n",
        "  split(.$cyl) %>%\n",
        "  map(function(df) lm(mpg ~ wt, data = df))"
      ],
      "metadata": {
        "id": "Z6TVHV2pWZVx",
        "outputId": "33e8f8a2-981b-4580-b9c7-4c807778a30e",
        "colab": {
          "base_uri": "https://localhost:8080/",
          "height": 535
        }
      },
      "execution_count": 58,
      "outputs": [
        {
          "output_type": "display_data",
          "data": {
            "text/plain": [
              "$`4`\n",
              "\n",
              "Call:\n",
              "lm(formula = mpg ~ wt, data = df)\n",
              "\n",
              "Coefficients:\n",
              "(Intercept)           wt  \n",
              "     39.571       -5.647  \n",
              "\n",
              "\n",
              "$`6`\n",
              "\n",
              "Call:\n",
              "lm(formula = mpg ~ wt, data = df)\n",
              "\n",
              "Coefficients:\n",
              "(Intercept)           wt  \n",
              "      28.41        -2.78  \n",
              "\n",
              "\n",
              "$`8`\n",
              "\n",
              "Call:\n",
              "lm(formula = mpg ~ wt, data = df)\n",
              "\n",
              "Coefficients:\n",
              "(Intercept)           wt  \n",
              "     23.868       -2.192  \n",
              "\n"
            ]
          },
          "metadata": {}
        }
      ]
    },
    {
      "cell_type": "code",
      "source": [
        "mtcars %>%\n",
        "  split(.$cyl) %>%\n",
        "  map(~lm(mpg ~ wt, data = .))"
      ],
      "metadata": {
        "id": "RnlJYR1yWea1",
        "outputId": "0fd37da9-1877-41e7-fabc-561fa9970ff9",
        "colab": {
          "base_uri": "https://localhost:8080/",
          "height": 535
        }
      },
      "execution_count": 59,
      "outputs": [
        {
          "output_type": "display_data",
          "data": {
            "text/plain": [
              "$`4`\n",
              "\n",
              "Call:\n",
              "lm(formula = mpg ~ wt, data = .)\n",
              "\n",
              "Coefficients:\n",
              "(Intercept)           wt  \n",
              "     39.571       -5.647  \n",
              "\n",
              "\n",
              "$`6`\n",
              "\n",
              "Call:\n",
              "lm(formula = mpg ~ wt, data = .)\n",
              "\n",
              "Coefficients:\n",
              "(Intercept)           wt  \n",
              "      28.41        -2.78  \n",
              "\n",
              "\n",
              "$`8`\n",
              "\n",
              "Call:\n",
              "lm(formula = mpg ~ wt, data = .)\n",
              "\n",
              "Coefficients:\n",
              "(Intercept)           wt  \n",
              "     23.868       -2.192  \n",
              "\n"
            ]
          },
          "metadata": {}
        }
      ]
    },
    {
      "cell_type": "code",
      "source": [
        "df %>% map_dbl(mean)"
      ],
      "metadata": {
        "id": "K52RYp-NWoW_",
        "outputId": "c2e58f19-7215-4e42-aa2f-415e689a42c8",
        "colab": {
          "base_uri": "https://localhost:8080/",
          "height": 34
        }
      },
      "execution_count": 60,
      "outputs": [
        {
          "output_type": "display_data",
          "data": {
            "text/html": [
              "<style>\n",
              ".dl-inline {width: auto; margin:0; padding: 0}\n",
              ".dl-inline>dt, .dl-inline>dd {float: none; width: auto; display: inline-block}\n",
              ".dl-inline>dt::after {content: \":\\0020\"; padding-right: .5ex}\n",
              ".dl-inline>dt:not(:first-of-type) {padding-left: .5ex}\n",
              "</style><dl class=dl-inline><dt>a</dt><dd>-0.311877774387062</dd><dt>b</dt><dd>-0.158628081896621</dd><dt>c</dt><dd>-0.525308097464513</dd><dt>d</dt><dd>-0.0127023262805986</dd></dl>\n"
            ],
            "text/markdown": "a\n:   -0.311877774387062b\n:   -0.158628081896621c\n:   -0.525308097464513d\n:   -0.0127023262805986\n\n",
            "text/latex": "\\begin{description*}\n\\item[a] -0.311877774387062\n\\item[b] -0.158628081896621\n\\item[c] -0.525308097464513\n\\item[d] -0.0127023262805986\n\\end{description*}\n",
            "text/plain": [
              "          a           b           c           d \n",
              "-0.31187777 -0.15862808 -0.52530810 -0.01270233 "
            ]
          },
          "metadata": {}
        }
      ]
    },
    {
      "cell_type": "code",
      "source": [
        "df %>% map_dbl(~mean(.))"
      ],
      "metadata": {
        "id": "O77uqRwmWzvb",
        "outputId": "750795bd-aa05-40e6-d56f-c8b351057b33",
        "colab": {
          "base_uri": "https://localhost:8080/",
          "height": 34
        }
      },
      "execution_count": 61,
      "outputs": [
        {
          "output_type": "display_data",
          "data": {
            "text/html": [
              "<style>\n",
              ".dl-inline {width: auto; margin:0; padding: 0}\n",
              ".dl-inline>dt, .dl-inline>dd {float: none; width: auto; display: inline-block}\n",
              ".dl-inline>dt::after {content: \":\\0020\"; padding-right: .5ex}\n",
              ".dl-inline>dt:not(:first-of-type) {padding-left: .5ex}\n",
              "</style><dl class=dl-inline><dt>a</dt><dd>-0.311877774387062</dd><dt>b</dt><dd>-0.158628081896621</dd><dt>c</dt><dd>-0.525308097464513</dd><dt>d</dt><dd>-0.0127023262805986</dd></dl>\n"
            ],
            "text/markdown": "a\n:   -0.311877774387062b\n:   -0.158628081896621c\n:   -0.525308097464513d\n:   -0.0127023262805986\n\n",
            "text/latex": "\\begin{description*}\n\\item[a] -0.311877774387062\n\\item[b] -0.158628081896621\n\\item[c] -0.525308097464513\n\\item[d] -0.0127023262805986\n\\end{description*}\n",
            "text/plain": [
              "          a           b           c           d \n",
              "-0.31187777 -0.15862808 -0.52530810 -0.01270233 "
            ]
          },
          "metadata": {}
        }
      ]
    },
    {
      "cell_type": "markdown",
      "source": [
        "## Extract Component"
      ],
      "metadata": {
        "id": "NSDC77kMW1NO"
      }
    },
    {
      "cell_type": "code",
      "source": [
        "mtcars %>%\n",
        "  split(.$cyl) %>%\n",
        "  map(~lm(mpg ~ wt, data = .)) %>%\n",
        "  map(summary)"
      ],
      "metadata": {
        "id": "xx4ZhUVGXIOy",
        "outputId": "645fbe6d-8f83-412f-a180-fff8fe5ac161",
        "colab": {
          "base_uri": "https://localhost:8080/",
          "height": 1000
        }
      },
      "execution_count": 62,
      "outputs": [
        {
          "output_type": "display_data",
          "data": {
            "text/plain": [
              "$`4`\n",
              "\n",
              "Call:\n",
              "lm(formula = mpg ~ wt, data = .)\n",
              "\n",
              "Residuals:\n",
              "    Min      1Q  Median      3Q     Max \n",
              "-4.1513 -1.9795 -0.6272  1.9299  5.2523 \n",
              "\n",
              "Coefficients:\n",
              "            Estimate Std. Error t value Pr(>|t|)    \n",
              "(Intercept)   39.571      4.347   9.104 7.77e-06 ***\n",
              "wt            -5.647      1.850  -3.052   0.0137 *  \n",
              "---\n",
              "Signif. codes:  0 ‘***’ 0.001 ‘**’ 0.01 ‘*’ 0.05 ‘.’ 0.1 ‘ ’ 1\n",
              "\n",
              "Residual standard error: 3.332 on 9 degrees of freedom\n",
              "Multiple R-squared:  0.5086,\tAdjusted R-squared:  0.454 \n",
              "F-statistic: 9.316 on 1 and 9 DF,  p-value: 0.01374\n",
              "\n",
              "\n",
              "$`6`\n",
              "\n",
              "Call:\n",
              "lm(formula = mpg ~ wt, data = .)\n",
              "\n",
              "Residuals:\n",
              "     Mazda RX4  Mazda RX4 Wag Hornet 4 Drive        Valiant       Merc 280 \n",
              "       -0.1250         0.5840         1.9292        -0.6897         0.3547 \n",
              "     Merc 280C   Ferrari Dino \n",
              "       -1.0453        -1.0080 \n",
              "\n",
              "Coefficients:\n",
              "            Estimate Std. Error t value Pr(>|t|)   \n",
              "(Intercept)   28.409      4.184   6.789  0.00105 **\n",
              "wt            -2.780      1.335  -2.083  0.09176 . \n",
              "---\n",
              "Signif. codes:  0 ‘***’ 0.001 ‘**’ 0.01 ‘*’ 0.05 ‘.’ 0.1 ‘ ’ 1\n",
              "\n",
              "Residual standard error: 1.165 on 5 degrees of freedom\n",
              "Multiple R-squared:  0.4645,\tAdjusted R-squared:  0.3574 \n",
              "F-statistic: 4.337 on 1 and 5 DF,  p-value: 0.09176\n",
              "\n",
              "\n",
              "$`8`\n",
              "\n",
              "Call:\n",
              "lm(formula = mpg ~ wt, data = .)\n",
              "\n",
              "Residuals:\n",
              "    Min      1Q  Median      3Q     Max \n",
              "-2.1491 -1.4664 -0.8458  1.5711  3.7619 \n",
              "\n",
              "Coefficients:\n",
              "            Estimate Std. Error t value Pr(>|t|)    \n",
              "(Intercept)  23.8680     3.0055   7.942 4.05e-06 ***\n",
              "wt           -2.1924     0.7392  -2.966   0.0118 *  \n",
              "---\n",
              "Signif. codes:  0 ‘***’ 0.001 ‘**’ 0.01 ‘*’ 0.05 ‘.’ 0.1 ‘ ’ 1\n",
              "\n",
              "Residual standard error: 2.024 on 12 degrees of freedom\n",
              "Multiple R-squared:  0.423,\tAdjusted R-squared:  0.3749 \n",
              "F-statistic: 8.796 on 1 and 12 DF,  p-value: 0.01179\n",
              "\n"
            ]
          },
          "metadata": {}
        }
      ]
    },
    {
      "cell_type": "code",
      "source": [
        "mtcars %>%\n",
        "  split(.$cyl) %>%\n",
        "  map(~lm(mpg ~ wt, data = .)) %>%\n",
        "  map(summary) %>%\n",
        "  map_dbl(~.$r.squared)"
      ],
      "metadata": {
        "id": "VT17tnx_XK2Y",
        "outputId": "5b5cab90-d39d-42fd-f903-098d07a59a2a",
        "colab": {
          "base_uri": "https://localhost:8080/",
          "height": 34
        }
      },
      "execution_count": 63,
      "outputs": [
        {
          "output_type": "display_data",
          "data": {
            "text/html": [
              "<style>\n",
              ".dl-inline {width: auto; margin:0; padding: 0}\n",
              ".dl-inline>dt, .dl-inline>dd {float: none; width: auto; display: inline-block}\n",
              ".dl-inline>dt::after {content: \":\\0020\"; padding-right: .5ex}\n",
              ".dl-inline>dt:not(:first-of-type) {padding-left: .5ex}\n",
              "</style><dl class=dl-inline><dt>4</dt><dd>0.50863259632314</dd><dt>6</dt><dd>0.464510150550548</dd><dt>8</dt><dd>0.422965536496111</dd></dl>\n"
            ],
            "text/markdown": "4\n:   0.508632596323146\n:   0.4645101505505488\n:   0.422965536496111\n\n",
            "text/latex": "\\begin{description*}\n\\item[4] 0.50863259632314\n\\item[6] 0.464510150550548\n\\item[8] 0.422965536496111\n\\end{description*}\n",
            "text/plain": [
              "        4         6         8 \n",
              "0.5086326 0.4645102 0.4229655 "
            ]
          },
          "metadata": {}
        }
      ]
    },
    {
      "cell_type": "code",
      "source": [
        "mtcars %>%\n",
        "  split(.$cyl) %>%\n",
        "  map(~lm(mpg ~ wt, data = .)) %>%\n",
        "  map(summary) %>%\n",
        "  map_dbl('r.squared')\n"
      ],
      "metadata": {
        "id": "tju9YE2mXRfU",
        "outputId": "9c400b25-e0ff-4bc0-ec96-729460cc8c2e",
        "colab": {
          "base_uri": "https://localhost:8080/",
          "height": 34
        }
      },
      "execution_count": 64,
      "outputs": [
        {
          "output_type": "display_data",
          "data": {
            "text/html": [
              "<style>\n",
              ".dl-inline {width: auto; margin:0; padding: 0}\n",
              ".dl-inline>dt, .dl-inline>dd {float: none; width: auto; display: inline-block}\n",
              ".dl-inline>dt::after {content: \":\\0020\"; padding-right: .5ex}\n",
              ".dl-inline>dt:not(:first-of-type) {padding-left: .5ex}\n",
              "</style><dl class=dl-inline><dt>4</dt><dd>0.50863259632314</dd><dt>6</dt><dd>0.464510150550548</dd><dt>8</dt><dd>0.422965536496111</dd></dl>\n"
            ],
            "text/markdown": "4\n:   0.508632596323146\n:   0.4645101505505488\n:   0.422965536496111\n\n",
            "text/latex": "\\begin{description*}\n\\item[4] 0.50863259632314\n\\item[6] 0.464510150550548\n\\item[8] 0.422965536496111\n\\end{description*}\n",
            "text/plain": [
              "        4         6         8 \n",
              "0.5086326 0.4645102 0.4229655 "
            ]
          },
          "metadata": {}
        }
      ]
    },
    {
      "cell_type": "code",
      "source": [
        " (lm(mpg~wt, data=mtcars) %>% summary())$r.squared"
      ],
      "metadata": {
        "id": "pB36jmioXUop",
        "outputId": "b46ff02e-dbfe-4a3f-a5a4-4328054b747b",
        "colab": {
          "base_uri": "https://localhost:8080/",
          "height": 34
        }
      },
      "execution_count": 68,
      "outputs": [
        {
          "output_type": "display_data",
          "data": {
            "text/html": [
              "0.752832793658264"
            ],
            "text/markdown": "0.752832793658264",
            "text/latex": "0.752832793658264",
            "text/plain": [
              "[1] 0.7528328"
            ]
          },
          "metadata": {}
        }
      ]
    },
    {
      "cell_type": "code",
      "source": [
        " (lm(mpg~wt, data=mtcars) %>% summary())['r.squared']"
      ],
      "metadata": {
        "id": "TnvxQiGhXouq",
        "outputId": "85f89ea1-1bef-4c10-a145-f3d27031c52f",
        "colab": {
          "base_uri": "https://localhost:8080/",
          "height": 34
        }
      },
      "execution_count": 69,
      "outputs": [
        {
          "output_type": "display_data",
          "data": {
            "text/html": [
              "<strong>$r.squared</strong> = 0.752832793658264"
            ],
            "text/markdown": "**$r.squared** = 0.752832793658264",
            "text/latex": "\\textbf{\\$r.squared} = 0.752832793658264",
            "text/plain": [
              "$r.squared\n",
              "[1] 0.7528328\n"
            ]
          },
          "metadata": {}
        }
      ]
    },
    {
      "cell_type": "markdown",
      "source": [
        "You can also use an integer to select elements by position"
      ],
      "metadata": {
        "id": "Nfg2E4-EXygD"
      }
    },
    {
      "cell_type": "code",
      "source": [
        "x <- list(list(1, 2, 3), list(4, 5, 6), list(7, 8, 9))\n",
        "x %>% map_dbl(2)"
      ],
      "metadata": {
        "id": "z6SJldPOX1q-",
        "outputId": "a31a2c8b-8dd6-464c-a3c8-a97b27f27b21",
        "colab": {
          "base_uri": "https://localhost:8080/",
          "height": 34
        }
      },
      "execution_count": 70,
      "outputs": [
        {
          "output_type": "display_data",
          "data": {
            "text/html": [
              "<style>\n",
              ".list-inline {list-style: none; margin:0; padding: 0}\n",
              ".list-inline>li {display: inline-block}\n",
              ".list-inline>li:not(:last-child)::after {content: \"\\00b7\"; padding: 0 .5ex}\n",
              "</style>\n",
              "<ol class=list-inline><li>2</li><li>5</li><li>8</li></ol>\n"
            ],
            "text/markdown": "1. 2\n2. 5\n3. 8\n\n\n",
            "text/latex": "\\begin{enumerate*}\n\\item 2\n\\item 5\n\\item 8\n\\end{enumerate*}\n",
            "text/plain": [
              "[1] 2 5 8"
            ]
          },
          "metadata": {}
        }
      ]
    },
    {
      "cell_type": "markdown",
      "source": [
        "Functional Programming is memory efficient by not saving internal calculations. Easier to understand if you get used to it.\n",
        "\n",
        "Is it faster as well?"
      ],
      "metadata": {
        "id": "Yazv6seuX3vL"
      }
    },
    {
      "cell_type": "code",
      "source": [
        "n_len = 10"
      ],
      "metadata": {
        "id": "5uGx_PeyYAfl"
      },
      "execution_count": 72,
      "outputs": []
    },
    {
      "cell_type": "code",
      "source": [
        "rep(10,n_len)"
      ],
      "metadata": {
        "id": "SohRgWHmYCQH",
        "outputId": "9e6aa98a-65b8-483c-9e5b-55db0056bdf3",
        "colab": {
          "base_uri": "https://localhost:8080/",
          "height": 34
        }
      },
      "execution_count": 73,
      "outputs": [
        {
          "output_type": "display_data",
          "data": {
            "text/html": [
              "<style>\n",
              ".list-inline {list-style: none; margin:0; padding: 0}\n",
              ".list-inline>li {display: inline-block}\n",
              ".list-inline>li:not(:last-child)::after {content: \"\\00b7\"; padding: 0 .5ex}\n",
              "</style>\n",
              "<ol class=list-inline><li>10</li><li>10</li><li>10</li><li>10</li><li>10</li><li>10</li><li>10</li><li>10</li><li>10</li><li>10</li></ol>\n"
            ],
            "text/markdown": "1. 10\n2. 10\n3. 10\n4. 10\n5. 10\n6. 10\n7. 10\n8. 10\n9. 10\n10. 10\n\n\n",
            "text/latex": "\\begin{enumerate*}\n\\item 10\n\\item 10\n\\item 10\n\\item 10\n\\item 10\n\\item 10\n\\item 10\n\\item 10\n\\item 10\n\\item 10\n\\end{enumerate*}\n",
            "text/plain": [
              " [1] 10 10 10 10 10 10 10 10 10 10"
            ]
          },
          "metadata": {}
        }
      ]
    },
    {
      "cell_type": "code",
      "source": [
        "rep(10,n_len) %>% map(rnorm)"
      ],
      "metadata": {
        "id": "k3kg0RIYYDWp",
        "outputId": "a326a591-5fcc-4045-e180-f6ae9c234841",
        "colab": {
          "base_uri": "https://localhost:8080/",
          "height": 219
        }
      },
      "execution_count": 74,
      "outputs": [
        {
          "output_type": "display_data",
          "data": {
            "text/html": [
              "<ol>\n",
              "\t<li><style>\n",
              ".list-inline {list-style: none; margin:0; padding: 0}\n",
              ".list-inline>li {display: inline-block}\n",
              ".list-inline>li:not(:last-child)::after {content: \"\\00b7\"; padding: 0 .5ex}\n",
              "</style>\n",
              "<ol class=list-inline><li>-0.0287593571102454</li><li>0.0574346784812851</li><li>0.8190629511024</li><li>-0.503599575011502</li><li>1.06325778304754</li><li>-1.58867538548994</li><li>-1.66973031615118</li><li>-1.05962667190629</li><li>0.0769555118088782</li><li>0.191425127346286</li></ol>\n",
              "</li>\n",
              "\t<li><style>\n",
              ".list-inline {list-style: none; margin:0; padding: 0}\n",
              ".list-inline>li {display: inline-block}\n",
              ".list-inline>li:not(:last-child)::after {content: \"\\00b7\"; padding: 0 .5ex}\n",
              "</style>\n",
              "<ol class=list-inline><li>-0.400976649577343</li><li>0.153184230162267</li><li>-0.711823485946732</li><li>-1.58969435634297</li><li>-0.757737753746388</li><li>0.716024787939517</li><li>-0.0653381185402797</li><li>-0.70192952267846</li><li>-0.878126698109005</li><li>-2.34379691336952</li></ol>\n",
              "</li>\n",
              "\t<li><style>\n",
              ".list-inline {list-style: none; margin:0; padding: 0}\n",
              ".list-inline>li {display: inline-block}\n",
              ".list-inline>li:not(:last-child)::after {content: \"\\00b7\"; padding: 0 .5ex}\n",
              "</style>\n",
              "<ol class=list-inline><li>-0.401002217638053</li><li>1.5043485500853</li><li>-1.19425558304018</li><li>0.194006390265007</li><li>-2.94049948118925</li><li>0.461216973140423</li><li>1.11660901470466</li><li>-0.0619695858051696</li><li>-0.37489443017856</li><li>1.344088948282</li></ol>\n",
              "</li>\n",
              "\t<li><style>\n",
              ".list-inline {list-style: none; margin:0; padding: 0}\n",
              ".list-inline>li {display: inline-block}\n",
              ".list-inline>li:not(:last-child)::after {content: \"\\00b7\"; padding: 0 .5ex}\n",
              "</style>\n",
              "<ol class=list-inline><li>-0.149807971795245</li><li>-1.24305313618491</li><li>2.3570985575931</li><li>3.06127161451082</li><li>-1.1191006235946</li><li>1.23141000429675</li><li>0.411177401521099</li><li>-0.48835169835991</li><li>-0.588596826925165</li><li>0.071684505500745</li></ol>\n",
              "</li>\n",
              "\t<li><style>\n",
              ".list-inline {list-style: none; margin:0; padding: 0}\n",
              ".list-inline>li {display: inline-block}\n",
              ".list-inline>li:not(:last-child)::after {content: \"\\00b7\"; padding: 0 .5ex}\n",
              "</style>\n",
              "<ol class=list-inline><li>0.19432652950763</li><li>1.16490825950561</li><li>1.93922419558302</li><li>-0.0148121497427186</li><li>0.0913133892983465</li><li>-2.58662849234876</li><li>0.506721822540778</li><li>0.789621859602311</li><li>-0.583971695230705</li><li>0.0431332184317074</li></ol>\n",
              "</li>\n",
              "\t<li><style>\n",
              ".list-inline {list-style: none; margin:0; padding: 0}\n",
              ".list-inline>li {display: inline-block}\n",
              ".list-inline>li:not(:last-child)::after {content: \"\\00b7\"; padding: 0 .5ex}\n",
              "</style>\n",
              "<ol class=list-inline><li>0.179539564168416</li><li>1.11815721109491</li><li>-1.0004446161576</li><li>-0.281939187020819</li><li>2.77502254450979</li><li>0.468644558497408</li><li>0.268970151007842</li><li>1.40748120801651</li><li>-1.37534442539613</li><li>1.31432339839648</li></ol>\n",
              "</li>\n",
              "\t<li><style>\n",
              ".list-inline {list-style: none; margin:0; padding: 0}\n",
              ".list-inline>li {display: inline-block}\n",
              ".list-inline>li:not(:last-child)::after {content: \"\\00b7\"; padding: 0 .5ex}\n",
              "</style>\n",
              "<ol class=list-inline><li>-0.786568502750941</li><li>0.444434513231229</li><li>-0.581392318028889</li><li>-0.695736582015747</li><li>0.00310744464540285</li><li>-1.23347045826192</li><li>0.00584489062118587</li><li>-0.00479523849026918</li><li>-0.891031525748751</li><li>-0.0765777129777154</li></ol>\n",
              "</li>\n",
              "\t<li><style>\n",
              ".list-inline {list-style: none; margin:0; padding: 0}\n",
              ".list-inline>li {display: inline-block}\n",
              ".list-inline>li:not(:last-child)::after {content: \"\\00b7\"; padding: 0 .5ex}\n",
              "</style>\n",
              "<ol class=list-inline><li>-0.457191896534872</li><li>1.44150689298884</li><li>-0.0362489227030125</li><li>-0.211831172518329</li><li>0.589259368799048</li><li>0.908726719264021</li><li>-0.0212772705808366</li><li>-1.81193665464182</li><li>0.69968016845649</li><li>1.4979066688271</li></ol>\n",
              "</li>\n",
              "\t<li><style>\n",
              ".list-inline {list-style: none; margin:0; padding: 0}\n",
              ".list-inline>li {display: inline-block}\n",
              ".list-inline>li:not(:last-child)::after {content: \"\\00b7\"; padding: 0 .5ex}\n",
              "</style>\n",
              "<ol class=list-inline><li>0.989020861933305</li><li>0.624985214321599</li><li>0.0330542840981865</li><li>-2.14025869662668</li><li>0.472009987629704</li><li>-0.401408897210856</li><li>0.603580584965568</li><li>-0.486480982609703</li><li>-1.69374020080174</li><li>-0.583225385400485</li></ol>\n",
              "</li>\n",
              "\t<li><style>\n",
              ".list-inline {list-style: none; margin:0; padding: 0}\n",
              ".list-inline>li {display: inline-block}\n",
              ".list-inline>li:not(:last-child)::after {content: \"\\00b7\"; padding: 0 .5ex}\n",
              "</style>\n",
              "<ol class=list-inline><li>0.737035666226138</li><li>0.373660537237273</li><li>-0.690201188037286</li><li>-0.0814400443611103</li><li>-1.36817162844144</li><li>0.60675719795581</li><li>-1.4082499676704</li><li>0.387249242685177</li><li>-0.7096420823155</li><li>1.63917375791646</li></ol>\n",
              "</li>\n",
              "</ol>\n"
            ],
            "text/markdown": "1. 1. -0.0287593571102454\n2. 0.0574346784812851\n3. 0.8190629511024\n4. -0.503599575011502\n5. 1.06325778304754\n6. -1.58867538548994\n7. -1.66973031615118\n8. -1.05962667190629\n9. 0.0769555118088782\n10. 0.191425127346286\n\n\n\n2. 1. -0.400976649577343\n2. 0.153184230162267\n3. -0.711823485946732\n4. -1.58969435634297\n5. -0.757737753746388\n6. 0.716024787939517\n7. -0.0653381185402797\n8. -0.70192952267846\n9. -0.878126698109005\n10. -2.34379691336952\n\n\n\n3. 1. -0.401002217638053\n2. 1.5043485500853\n3. -1.19425558304018\n4. 0.194006390265007\n5. -2.94049948118925\n6. 0.461216973140423\n7. 1.11660901470466\n8. -0.0619695858051696\n9. -0.37489443017856\n10. 1.344088948282\n\n\n\n4. 1. -0.149807971795245\n2. -1.24305313618491\n3. 2.3570985575931\n4. 3.06127161451082\n5. -1.1191006235946\n6. 1.23141000429675\n7. 0.411177401521099\n8. -0.48835169835991\n9. -0.588596826925165\n10. 0.071684505500745\n\n\n\n5. 1. 0.19432652950763\n2. 1.16490825950561\n3. 1.93922419558302\n4. -0.0148121497427186\n5. 0.0913133892983465\n6. -2.58662849234876\n7. 0.506721822540778\n8. 0.789621859602311\n9. -0.583971695230705\n10. 0.0431332184317074\n\n\n\n6. 1. 0.179539564168416\n2. 1.11815721109491\n3. -1.0004446161576\n4. -0.281939187020819\n5. 2.77502254450979\n6. 0.468644558497408\n7. 0.268970151007842\n8. 1.40748120801651\n9. -1.37534442539613\n10. 1.31432339839648\n\n\n\n7. 1. -0.786568502750941\n2. 0.444434513231229\n3. -0.581392318028889\n4. -0.695736582015747\n5. 0.00310744464540285\n6. -1.23347045826192\n7. 0.00584489062118587\n8. -0.00479523849026918\n9. -0.891031525748751\n10. -0.0765777129777154\n\n\n\n8. 1. -0.457191896534872\n2. 1.44150689298884\n3. -0.0362489227030125\n4. -0.211831172518329\n5. 0.589259368799048\n6. 0.908726719264021\n7. -0.0212772705808366\n8. -1.81193665464182\n9. 0.69968016845649\n10. 1.4979066688271\n\n\n\n9. 1. 0.989020861933305\n2. 0.624985214321599\n3. 0.0330542840981865\n4. -2.14025869662668\n5. 0.472009987629704\n6. -0.401408897210856\n7. 0.603580584965568\n8. -0.486480982609703\n9. -1.69374020080174\n10. -0.583225385400485\n\n\n\n10. 1. 0.737035666226138\n2. 0.373660537237273\n3. -0.690201188037286\n4. -0.0814400443611103\n5. -1.36817162844144\n6. 0.60675719795581\n7. -1.4082499676704\n8. 0.387249242685177\n9. -0.7096420823155\n10. 1.63917375791646\n\n\n\n\n\n",
            "text/latex": "\\begin{enumerate}\n\\item \\begin{enumerate*}\n\\item -0.0287593571102454\n\\item 0.0574346784812851\n\\item 0.8190629511024\n\\item -0.503599575011502\n\\item 1.06325778304754\n\\item -1.58867538548994\n\\item -1.66973031615118\n\\item -1.05962667190629\n\\item 0.0769555118088782\n\\item 0.191425127346286\n\\end{enumerate*}\n\n\\item \\begin{enumerate*}\n\\item -0.400976649577343\n\\item 0.153184230162267\n\\item -0.711823485946732\n\\item -1.58969435634297\n\\item -0.757737753746388\n\\item 0.716024787939517\n\\item -0.0653381185402797\n\\item -0.70192952267846\n\\item -0.878126698109005\n\\item -2.34379691336952\n\\end{enumerate*}\n\n\\item \\begin{enumerate*}\n\\item -0.401002217638053\n\\item 1.5043485500853\n\\item -1.19425558304018\n\\item 0.194006390265007\n\\item -2.94049948118925\n\\item 0.461216973140423\n\\item 1.11660901470466\n\\item -0.0619695858051696\n\\item -0.37489443017856\n\\item 1.344088948282\n\\end{enumerate*}\n\n\\item \\begin{enumerate*}\n\\item -0.149807971795245\n\\item -1.24305313618491\n\\item 2.3570985575931\n\\item 3.06127161451082\n\\item -1.1191006235946\n\\item 1.23141000429675\n\\item 0.411177401521099\n\\item -0.48835169835991\n\\item -0.588596826925165\n\\item 0.071684505500745\n\\end{enumerate*}\n\n\\item \\begin{enumerate*}\n\\item 0.19432652950763\n\\item 1.16490825950561\n\\item 1.93922419558302\n\\item -0.0148121497427186\n\\item 0.0913133892983465\n\\item -2.58662849234876\n\\item 0.506721822540778\n\\item 0.789621859602311\n\\item -0.583971695230705\n\\item 0.0431332184317074\n\\end{enumerate*}\n\n\\item \\begin{enumerate*}\n\\item 0.179539564168416\n\\item 1.11815721109491\n\\item -1.0004446161576\n\\item -0.281939187020819\n\\item 2.77502254450979\n\\item 0.468644558497408\n\\item 0.268970151007842\n\\item 1.40748120801651\n\\item -1.37534442539613\n\\item 1.31432339839648\n\\end{enumerate*}\n\n\\item \\begin{enumerate*}\n\\item -0.786568502750941\n\\item 0.444434513231229\n\\item -0.581392318028889\n\\item -0.695736582015747\n\\item 0.00310744464540285\n\\item -1.23347045826192\n\\item 0.00584489062118587\n\\item -0.00479523849026918\n\\item -0.891031525748751\n\\item -0.0765777129777154\n\\end{enumerate*}\n\n\\item \\begin{enumerate*}\n\\item -0.457191896534872\n\\item 1.44150689298884\n\\item -0.0362489227030125\n\\item -0.211831172518329\n\\item 0.589259368799048\n\\item 0.908726719264021\n\\item -0.0212772705808366\n\\item -1.81193665464182\n\\item 0.69968016845649\n\\item 1.4979066688271\n\\end{enumerate*}\n\n\\item \\begin{enumerate*}\n\\item 0.989020861933305\n\\item 0.624985214321599\n\\item 0.0330542840981865\n\\item -2.14025869662668\n\\item 0.472009987629704\n\\item -0.401408897210856\n\\item 0.603580584965568\n\\item -0.486480982609703\n\\item -1.69374020080174\n\\item -0.583225385400485\n\\end{enumerate*}\n\n\\item \\begin{enumerate*}\n\\item 0.737035666226138\n\\item 0.373660537237273\n\\item -0.690201188037286\n\\item -0.0814400443611103\n\\item -1.36817162844144\n\\item 0.60675719795581\n\\item -1.4082499676704\n\\item 0.387249242685177\n\\item -0.7096420823155\n\\item 1.63917375791646\n\\end{enumerate*}\n\n\\end{enumerate}\n",
            "text/plain": [
              "[[1]]\n",
              " [1] -0.02875936  0.05743468  0.81906295 -0.50359958  1.06325778 -1.58867539\n",
              " [7] -1.66973032 -1.05962667  0.07695551  0.19142513\n",
              "\n",
              "[[2]]\n",
              " [1] -0.40097665  0.15318423 -0.71182349 -1.58969436 -0.75773775  0.71602479\n",
              " [7] -0.06533812 -0.70192952 -0.87812670 -2.34379691\n",
              "\n",
              "[[3]]\n",
              " [1] -0.40100222  1.50434855 -1.19425558  0.19400639 -2.94049948  0.46121697\n",
              " [7]  1.11660901 -0.06196959 -0.37489443  1.34408895\n",
              "\n",
              "[[4]]\n",
              " [1] -0.14980797 -1.24305314  2.35709856  3.06127161 -1.11910062  1.23141000\n",
              " [7]  0.41117740 -0.48835170 -0.58859683  0.07168451\n",
              "\n",
              "[[5]]\n",
              " [1]  0.19432653  1.16490826  1.93922420 -0.01481215  0.09131339 -2.58662849\n",
              " [7]  0.50672182  0.78962186 -0.58397170  0.04313322\n",
              "\n",
              "[[6]]\n",
              " [1]  0.1795396  1.1181572 -1.0004446 -0.2819392  2.7750225  0.4686446\n",
              " [7]  0.2689702  1.4074812 -1.3753444  1.3143234\n",
              "\n",
              "[[7]]\n",
              " [1] -0.786568503  0.444434513 -0.581392318 -0.695736582  0.003107445\n",
              " [6] -1.233470458  0.005844891 -0.004795238 -0.891031526 -0.076577713\n",
              "\n",
              "[[8]]\n",
              " [1] -0.45719190  1.44150689 -0.03624892 -0.21183117  0.58925937  0.90872672\n",
              " [7] -0.02127727 -1.81193665  0.69968017  1.49790667\n",
              "\n",
              "[[9]]\n",
              " [1]  0.98902086  0.62498521  0.03305428 -2.14025870  0.47200999 -0.40140890\n",
              " [7]  0.60358058 -0.48648098 -1.69374020 -0.58322539\n",
              "\n",
              "[[10]]\n",
              " [1]  0.73703567  0.37366054 -0.69020119 -0.08144004 -1.36817163  0.60675720\n",
              " [7] -1.40824997  0.38724924 -0.70964208  1.63917376\n"
            ]
          },
          "metadata": {}
        }
      ]
    },
    {
      "cell_type": "code",
      "source": [
        "rnorm(10)"
      ],
      "metadata": {
        "id": "Inp__kXJYFG6",
        "outputId": "c1877666-df67-46fc-871e-915139594c26",
        "colab": {
          "base_uri": "https://localhost:8080/",
          "height": 34
        }
      },
      "execution_count": 75,
      "outputs": [
        {
          "output_type": "display_data",
          "data": {
            "text/html": [
              "<style>\n",
              ".list-inline {list-style: none; margin:0; padding: 0}\n",
              ".list-inline>li {display: inline-block}\n",
              ".list-inline>li:not(:last-child)::after {content: \"\\00b7\"; padding: 0 .5ex}\n",
              "</style>\n",
              "<ol class=list-inline><li>1.40824819952445</li><li>-0.34568200011601</li><li>0.654139595842903</li><li>0.44763435752312</li><li>-1.49175762544863</li><li>0.141287608165102</li><li>0.528664752371389</li><li>-0.400119180699915</li><li>-0.915910018539452</li><li>-0.764990526415531</li></ol>\n"
            ],
            "text/markdown": "1. 1.40824819952445\n2. -0.34568200011601\n3. 0.654139595842903\n4. 0.44763435752312\n5. -1.49175762544863\n6. 0.141287608165102\n7. 0.528664752371389\n8. -0.400119180699915\n9. -0.915910018539452\n10. -0.764990526415531\n\n\n",
            "text/latex": "\\begin{enumerate*}\n\\item 1.40824819952445\n\\item -0.34568200011601\n\\item 0.654139595842903\n\\item 0.44763435752312\n\\item -1.49175762544863\n\\item 0.141287608165102\n\\item 0.528664752371389\n\\item -0.400119180699915\n\\item -0.915910018539452\n\\item -0.764990526415531\n\\end{enumerate*}\n",
            "text/plain": [
              " [1]  1.4082482 -0.3456820  0.6541396  0.4476344 -1.4917576  0.1412876\n",
              " [7]  0.5286648 -0.4001192 -0.9159100 -0.7649905"
            ]
          },
          "metadata": {}
        }
      ]
    },
    {
      "cell_type": "code",
      "source": [
        "df2 <- vector(mode = \"list\", length = n_len)\n",
        "for (i in 1:n_len)\n",
        "  df2[[i]] <- rnorm(10)\n",
        "df2"
      ],
      "metadata": {
        "id": "S3Ko_A-4YMdE",
        "outputId": "dd26e371-07e0-4477-85c9-7c0c0dbb824a",
        "colab": {
          "base_uri": "https://localhost:8080/",
          "height": 219
        }
      },
      "execution_count": 76,
      "outputs": [
        {
          "output_type": "display_data",
          "data": {
            "text/html": [
              "<ol>\n",
              "\t<li><style>\n",
              ".list-inline {list-style: none; margin:0; padding: 0}\n",
              ".list-inline>li {display: inline-block}\n",
              ".list-inline>li:not(:last-child)::after {content: \"\\00b7\"; padding: 0 .5ex}\n",
              "</style>\n",
              "<ol class=list-inline><li>-1.35836792029712</li><li>0.249327836864784</li><li>1.12444031132398</li><li>1.1607199476905</li><li>-1.09495383763298</li><li>1.16125994741209</li><li>-1.26211565502228</li><li>0.895271159257682</li><li>-0.706772066665713</li><li>0.279836307803746</li></ol>\n",
              "</li>\n",
              "\t<li><style>\n",
              ".list-inline {list-style: none; margin:0; padding: 0}\n",
              ".list-inline>li {display: inline-block}\n",
              ".list-inline>li:not(:last-child)::after {content: \"\\00b7\"; padding: 0 .5ex}\n",
              "</style>\n",
              "<ol class=list-inline><li>-0.17538507960151</li><li>-2.04906459117341</li><li>0.178491020078821</li><li>-2.20306654355168</li><li>1.3321862866225</li><li>0.407307175920472</li><li>-0.563375752866978</li><li>-0.159023459344055</li><li>-0.0334172169386531</li><li>0.770707936716696</li></ol>\n",
              "</li>\n",
              "\t<li><style>\n",
              ".list-inline {list-style: none; margin:0; padding: 0}\n",
              ".list-inline>li {display: inline-block}\n",
              ".list-inline>li:not(:last-child)::after {content: \"\\00b7\"; padding: 0 .5ex}\n",
              "</style>\n",
              "<ol class=list-inline><li>0.450442742650324</li><li>1.150212365671</li><li>0.34740343935198</li><li>-0.882749477899828</li><li>-0.288287521555955</li><li>-1.48420652466777</li><li>-0.0299551093354815</li><li>1.2702593025107</li><li>0.270910783478033</li><li>-0.00488829489586468</li></ol>\n",
              "</li>\n",
              "\t<li><style>\n",
              ".list-inline {list-style: none; margin:0; padding: 0}\n",
              ".list-inline>li {display: inline-block}\n",
              ".list-inline>li:not(:last-child)::after {content: \"\\00b7\"; padding: 0 .5ex}\n",
              "</style>\n",
              "<ol class=list-inline><li>-1.01115786130926</li><li>0.744987403354281</li><li>0.313785539276817</li><li>0.686415733080902</li><li>-1.61160297156246</li><li>-0.972496359689978</li><li>-0.417220346620642</li><li>0.306506280807576</li><li>-0.928213239750579</li><li>-0.560277497292299</li></ol>\n",
              "</li>\n",
              "\t<li><style>\n",
              ".list-inline {list-style: none; margin:0; padding: 0}\n",
              ".list-inline>li {display: inline-block}\n",
              ".list-inline>li:not(:last-child)::after {content: \"\\00b7\"; padding: 0 .5ex}\n",
              "</style>\n",
              "<ol class=list-inline><li>-0.345784785407223</li><li>-0.958885579335683</li><li>0.161000288500155</li><li>-0.471182883910024</li><li>0.516777175721678</li><li>-0.362879181348289</li><li>1.0488445473468</li><li>-0.111099147858487</li><li>3.37197038810621</li><li>-0.590043557532083</li></ol>\n",
              "</li>\n",
              "\t<li><style>\n",
              ".list-inline {list-style: none; margin:0; padding: 0}\n",
              ".list-inline>li {display: inline-block}\n",
              ".list-inline>li:not(:last-child)::after {content: \"\\00b7\"; padding: 0 .5ex}\n",
              "</style>\n",
              "<ol class=list-inline><li>-0.686044305047852</li><li>-1.1862069049844</li><li>-0.0788362615878935</li><li>0.0913803331852043</li><li>-0.319879971507748</li><li>2.30781214534618</li><li>0.985241876213939</li><li>0.13850140123723</li><li>1.26129286671852</li><li>-0.49840869989315</li></ol>\n",
              "</li>\n",
              "\t<li><style>\n",
              ".list-inline {list-style: none; margin:0; padding: 0}\n",
              ".list-inline>li {display: inline-block}\n",
              ".list-inline>li:not(:last-child)::after {content: \"\\00b7\"; padding: 0 .5ex}\n",
              "</style>\n",
              "<ol class=list-inline><li>0.332859692909843</li><li>0.363187267788876</li><li>0.250767898641938</li><li>0.0787772161849793</li><li>1.06798319704102</li><li>-1.10820511129645</li><li>-1.51365240324278</li><li>-0.561896033020617</li><li>-1.51173339686508</li><li>-0.137173366701804</li></ol>\n",
              "</li>\n",
              "\t<li><style>\n",
              ".list-inline {list-style: none; margin:0; padding: 0}\n",
              ".list-inline>li {display: inline-block}\n",
              ".list-inline>li:not(:last-child)::after {content: \"\\00b7\"; padding: 0 .5ex}\n",
              "</style>\n",
              "<ol class=list-inline><li>0.434728533887516</li><li>-0.562555514330845</li><li>0.590228820939828</li><li>0.519737775388181</li><li>0.000447352655553058</li><li>-0.428039658799032</li><li>-0.148964071153462</li><li>-0.760411744150502</li><li>0.231599403389491</li><li>0.548920091359541</li></ol>\n",
              "</li>\n",
              "\t<li><style>\n",
              ".list-inline {list-style: none; margin:0; padding: 0}\n",
              ".list-inline>li {display: inline-block}\n",
              ".list-inline>li:not(:last-child)::after {content: \"\\00b7\"; padding: 0 .5ex}\n",
              "</style>\n",
              "<ol class=list-inline><li>0.624262196658217</li><li>0.550672858585324</li><li>-0.912294035304979</li><li>-0.290124530952451</li><li>0.227150689168404</li><li>-0.0901707703615074</li><li>-0.852600865998195</li><li>0.0698476241720362</li><li>0.0647683787931336</li><li>0.54114508195373</li></ol>\n",
              "</li>\n",
              "\t<li><style>\n",
              ".list-inline {list-style: none; margin:0; padding: 0}\n",
              ".list-inline>li {display: inline-block}\n",
              ".list-inline>li:not(:last-child)::after {content: \"\\00b7\"; padding: 0 .5ex}\n",
              "</style>\n",
              "<ol class=list-inline><li>-0.283426723755199</li><li>0.504880031241959</li><li>-0.29063133926508</li><li>-1.31425973168792</li><li>-0.213295128465917</li><li>1.05323924434836</li><li>-0.567020104322358</li><li>0.598627322156516</li><li>-0.624760330476861</li><li>0.83570030605191</li></ol>\n",
              "</li>\n",
              "</ol>\n"
            ],
            "text/markdown": "1. 1. -1.35836792029712\n2. 0.249327836864784\n3. 1.12444031132398\n4. 1.1607199476905\n5. -1.09495383763298\n6. 1.16125994741209\n7. -1.26211565502228\n8. 0.895271159257682\n9. -0.706772066665713\n10. 0.279836307803746\n\n\n\n2. 1. -0.17538507960151\n2. -2.04906459117341\n3. 0.178491020078821\n4. -2.20306654355168\n5. 1.3321862866225\n6. 0.407307175920472\n7. -0.563375752866978\n8. -0.159023459344055\n9. -0.0334172169386531\n10. 0.770707936716696\n\n\n\n3. 1. 0.450442742650324\n2. 1.150212365671\n3. 0.34740343935198\n4. -0.882749477899828\n5. -0.288287521555955\n6. -1.48420652466777\n7. -0.0299551093354815\n8. 1.2702593025107\n9. 0.270910783478033\n10. -0.00488829489586468\n\n\n\n4. 1. -1.01115786130926\n2. 0.744987403354281\n3. 0.313785539276817\n4. 0.686415733080902\n5. -1.61160297156246\n6. -0.972496359689978\n7. -0.417220346620642\n8. 0.306506280807576\n9. -0.928213239750579\n10. -0.560277497292299\n\n\n\n5. 1. -0.345784785407223\n2. -0.958885579335683\n3. 0.161000288500155\n4. -0.471182883910024\n5. 0.516777175721678\n6. -0.362879181348289\n7. 1.0488445473468\n8. -0.111099147858487\n9. 3.37197038810621\n10. -0.590043557532083\n\n\n\n6. 1. -0.686044305047852\n2. -1.1862069049844\n3. -0.0788362615878935\n4. 0.0913803331852043\n5. -0.319879971507748\n6. 2.30781214534618\n7. 0.985241876213939\n8. 0.13850140123723\n9. 1.26129286671852\n10. -0.49840869989315\n\n\n\n7. 1. 0.332859692909843\n2. 0.363187267788876\n3. 0.250767898641938\n4. 0.0787772161849793\n5. 1.06798319704102\n6. -1.10820511129645\n7. -1.51365240324278\n8. -0.561896033020617\n9. -1.51173339686508\n10. -0.137173366701804\n\n\n\n8. 1. 0.434728533887516\n2. -0.562555514330845\n3. 0.590228820939828\n4. 0.519737775388181\n5. 0.000447352655553058\n6. -0.428039658799032\n7. -0.148964071153462\n8. -0.760411744150502\n9. 0.231599403389491\n10. 0.548920091359541\n\n\n\n9. 1. 0.624262196658217\n2. 0.550672858585324\n3. -0.912294035304979\n4. -0.290124530952451\n5. 0.227150689168404\n6. -0.0901707703615074\n7. -0.852600865998195\n8. 0.0698476241720362\n9. 0.0647683787931336\n10. 0.54114508195373\n\n\n\n10. 1. -0.283426723755199\n2. 0.504880031241959\n3. -0.29063133926508\n4. -1.31425973168792\n5. -0.213295128465917\n6. 1.05323924434836\n7. -0.567020104322358\n8. 0.598627322156516\n9. -0.624760330476861\n10. 0.83570030605191\n\n\n\n\n\n",
            "text/latex": "\\begin{enumerate}\n\\item \\begin{enumerate*}\n\\item -1.35836792029712\n\\item 0.249327836864784\n\\item 1.12444031132398\n\\item 1.1607199476905\n\\item -1.09495383763298\n\\item 1.16125994741209\n\\item -1.26211565502228\n\\item 0.895271159257682\n\\item -0.706772066665713\n\\item 0.279836307803746\n\\end{enumerate*}\n\n\\item \\begin{enumerate*}\n\\item -0.17538507960151\n\\item -2.04906459117341\n\\item 0.178491020078821\n\\item -2.20306654355168\n\\item 1.3321862866225\n\\item 0.407307175920472\n\\item -0.563375752866978\n\\item -0.159023459344055\n\\item -0.0334172169386531\n\\item 0.770707936716696\n\\end{enumerate*}\n\n\\item \\begin{enumerate*}\n\\item 0.450442742650324\n\\item 1.150212365671\n\\item 0.34740343935198\n\\item -0.882749477899828\n\\item -0.288287521555955\n\\item -1.48420652466777\n\\item -0.0299551093354815\n\\item 1.2702593025107\n\\item 0.270910783478033\n\\item -0.00488829489586468\n\\end{enumerate*}\n\n\\item \\begin{enumerate*}\n\\item -1.01115786130926\n\\item 0.744987403354281\n\\item 0.313785539276817\n\\item 0.686415733080902\n\\item -1.61160297156246\n\\item -0.972496359689978\n\\item -0.417220346620642\n\\item 0.306506280807576\n\\item -0.928213239750579\n\\item -0.560277497292299\n\\end{enumerate*}\n\n\\item \\begin{enumerate*}\n\\item -0.345784785407223\n\\item -0.958885579335683\n\\item 0.161000288500155\n\\item -0.471182883910024\n\\item 0.516777175721678\n\\item -0.362879181348289\n\\item 1.0488445473468\n\\item -0.111099147858487\n\\item 3.37197038810621\n\\item -0.590043557532083\n\\end{enumerate*}\n\n\\item \\begin{enumerate*}\n\\item -0.686044305047852\n\\item -1.1862069049844\n\\item -0.0788362615878935\n\\item 0.0913803331852043\n\\item -0.319879971507748\n\\item 2.30781214534618\n\\item 0.985241876213939\n\\item 0.13850140123723\n\\item 1.26129286671852\n\\item -0.49840869989315\n\\end{enumerate*}\n\n\\item \\begin{enumerate*}\n\\item 0.332859692909843\n\\item 0.363187267788876\n\\item 0.250767898641938\n\\item 0.0787772161849793\n\\item 1.06798319704102\n\\item -1.10820511129645\n\\item -1.51365240324278\n\\item -0.561896033020617\n\\item -1.51173339686508\n\\item -0.137173366701804\n\\end{enumerate*}\n\n\\item \\begin{enumerate*}\n\\item 0.434728533887516\n\\item -0.562555514330845\n\\item 0.590228820939828\n\\item 0.519737775388181\n\\item 0.000447352655553058\n\\item -0.428039658799032\n\\item -0.148964071153462\n\\item -0.760411744150502\n\\item 0.231599403389491\n\\item 0.548920091359541\n\\end{enumerate*}\n\n\\item \\begin{enumerate*}\n\\item 0.624262196658217\n\\item 0.550672858585324\n\\item -0.912294035304979\n\\item -0.290124530952451\n\\item 0.227150689168404\n\\item -0.0901707703615074\n\\item -0.852600865998195\n\\item 0.0698476241720362\n\\item 0.0647683787931336\n\\item 0.54114508195373\n\\end{enumerate*}\n\n\\item \\begin{enumerate*}\n\\item -0.283426723755199\n\\item 0.504880031241959\n\\item -0.29063133926508\n\\item -1.31425973168792\n\\item -0.213295128465917\n\\item 1.05323924434836\n\\item -0.567020104322358\n\\item 0.598627322156516\n\\item -0.624760330476861\n\\item 0.83570030605191\n\\end{enumerate*}\n\n\\end{enumerate}\n",
            "text/plain": [
              "[[1]]\n",
              " [1] -1.3583679  0.2493278  1.1244403  1.1607199 -1.0949538  1.1612599\n",
              " [7] -1.2621157  0.8952712 -0.7067721  0.2798363\n",
              "\n",
              "[[2]]\n",
              " [1] -0.17538508 -2.04906459  0.17849102 -2.20306654  1.33218629  0.40730718\n",
              " [7] -0.56337575 -0.15902346 -0.03341722  0.77070794\n",
              "\n",
              "[[3]]\n",
              " [1]  0.450442743  1.150212366  0.347403439 -0.882749478 -0.288287522\n",
              " [6] -1.484206525 -0.029955109  1.270259303  0.270910783 -0.004888295\n",
              "\n",
              "[[4]]\n",
              " [1] -1.0111579  0.7449874  0.3137855  0.6864157 -1.6116030 -0.9724964\n",
              " [7] -0.4172203  0.3065063 -0.9282132 -0.5602775\n",
              "\n",
              "[[5]]\n",
              " [1] -0.3457848 -0.9588856  0.1610003 -0.4711829  0.5167772 -0.3628792\n",
              " [7]  1.0488445 -0.1110991  3.3719704 -0.5900436\n",
              "\n",
              "[[6]]\n",
              " [1] -0.68604431 -1.18620690 -0.07883626  0.09138033 -0.31987997  2.30781215\n",
              " [7]  0.98524188  0.13850140  1.26129287 -0.49840870\n",
              "\n",
              "[[7]]\n",
              " [1]  0.33285969  0.36318727  0.25076790  0.07877722  1.06798320 -1.10820511\n",
              " [7] -1.51365240 -0.56189603 -1.51173340 -0.13717337\n",
              "\n",
              "[[8]]\n",
              " [1]  0.4347285339 -0.5625555143  0.5902288209  0.5197377754  0.0004473527\n",
              " [6] -0.4280396588 -0.1489640712 -0.7604117442  0.2315994034  0.5489200914\n",
              "\n",
              "[[9]]\n",
              " [1]  0.62426220  0.55067286 -0.91229404 -0.29012453  0.22715069 -0.09017077\n",
              " [7] -0.85260087  0.06984762  0.06476838  0.54114508\n",
              "\n",
              "[[10]]\n",
              " [1] -0.2834267  0.5048800 -0.2906313 -1.3142597 -0.2132951  1.0532392\n",
              " [7] -0.5670201  0.5986273 -0.6247603  0.8357003\n"
            ]
          },
          "metadata": {}
        }
      ]
    },
    {
      "cell_type": "code",
      "source": [
        "lapply(rep(10,n_len), rnorm)"
      ],
      "metadata": {
        "id": "Jxm4I9JoYQki",
        "outputId": "896b1e7b-37c0-4939-8730-1217aa129ebf",
        "colab": {
          "base_uri": "https://localhost:8080/",
          "height": 219
        }
      },
      "execution_count": 77,
      "outputs": [
        {
          "output_type": "display_data",
          "data": {
            "text/html": [
              "<ol>\n",
              "\t<li><style>\n",
              ".list-inline {list-style: none; margin:0; padding: 0}\n",
              ".list-inline>li {display: inline-block}\n",
              ".list-inline>li:not(:last-child)::after {content: \"\\00b7\"; padding: 0 .5ex}\n",
              "</style>\n",
              "<ol class=list-inline><li>-2.5372820011139</li><li>-2.17483779312942</li><li>0.0320759158967448</li><li>-2.16421535153425</li><li>0.0666830396993451</li><li>-1.76252738144536</li><li>-1.12280960145821</li><li>-0.217701150749892</li><li>1.73216126865241</li><li>0.786482371651267</li></ol>\n",
              "</li>\n",
              "\t<li><style>\n",
              ".list-inline {list-style: none; margin:0; padding: 0}\n",
              ".list-inline>li {display: inline-block}\n",
              ".list-inline>li:not(:last-child)::after {content: \"\\00b7\"; padding: 0 .5ex}\n",
              "</style>\n",
              "<ol class=list-inline><li>-2.00211060699821</li><li>-1.29641108905465</li><li>-2.0160865416713</li><li>-1.56861235733007</li><li>-1.47261410992498</li><li>-2.37158002958898</li><li>-1.2039289423684</li><li>0.481103878283552</li><li>-0.265070393373267</li><li>0.189588167278776</li></ol>\n",
              "</li>\n",
              "\t<li><style>\n",
              ".list-inline {list-style: none; margin:0; padding: 0}\n",
              ".list-inline>li {display: inline-block}\n",
              ".list-inline>li:not(:last-child)::after {content: \"\\00b7\"; padding: 0 .5ex}\n",
              "</style>\n",
              "<ol class=list-inline><li>0.762887532438687</li><li>0.673952571171681</li><li>-0.519437954675915</li><li>1.27331671607565</li><li>-1.85060301513052</li><li>-0.750686326405278</li><li>-0.676360920409329</li><li>0.763658682738508</li><li>-0.140365283810562</li><li>-0.611145250593378</li></ol>\n",
              "</li>\n",
              "\t<li><style>\n",
              ".list-inline {list-style: none; margin:0; padding: 0}\n",
              ".list-inline>li {display: inline-block}\n",
              ".list-inline>li:not(:last-child)::after {content: \"\\00b7\"; padding: 0 .5ex}\n",
              "</style>\n",
              "<ol class=list-inline><li>-0.76444009735692</li><li>0.77488158648462</li><li>-0.372852084469552</li><li>-0.438875671967383</li><li>0.604325983312183</li><li>-1.68175609194035</li><li>1.13596356674263</li><li>-0.141727863424825</li><li>-1.01208232234349</li><li>1.44457815234321</li></ol>\n",
              "</li>\n",
              "\t<li><style>\n",
              ".list-inline {list-style: none; margin:0; padding: 0}\n",
              ".list-inline>li {display: inline-block}\n",
              ".list-inline>li:not(:last-child)::after {content: \"\\00b7\"; padding: 0 .5ex}\n",
              "</style>\n",
              "<ol class=list-inline><li>-0.958900872894692</li><li>0.356125514934588</li><li>1.07539496181285</li><li>0.156014654026589</li><li>-0.650271977234732</li><li>-1.60400288759795</li><li>0.018660117036447</li><li>0.918576469346293</li><li>0.624382736668164</li><li>2.12711461268356</li></ol>\n",
              "</li>\n",
              "\t<li><style>\n",
              ".list-inline {list-style: none; margin:0; padding: 0}\n",
              ".list-inline>li {display: inline-block}\n",
              ".list-inline>li:not(:last-child)::after {content: \"\\00b7\"; padding: 0 .5ex}\n",
              "</style>\n",
              "<ol class=list-inline><li>0.199086880068516</li><li>-0.638706318947442</li><li>1.05783653406003</li><li>0.734707563016644</li><li>1.04138218889828</li><li>-0.489964193990032</li><li>0.658236952384317</li><li>0.718962027613021</li><li>0.812293635640014</li><li>-1.41150802993967</li></ol>\n",
              "</li>\n",
              "\t<li><style>\n",
              ".list-inline {list-style: none; margin:0; padding: 0}\n",
              ".list-inline>li {display: inline-block}\n",
              ".list-inline>li:not(:last-child)::after {content: \"\\00b7\"; padding: 0 .5ex}\n",
              "</style>\n",
              "<ol class=list-inline><li>0.428608356558228</li><li>0.318306970385404</li><li>-0.242781115470211</li><li>0.60735587859692</li><li>-0.237217270337528</li><li>0.741751862241599</li><li>-1.00727579529296</li><li>-1.05663035350657</li><li>2.72032967661498</li><li>0.109630257849315</li></ol>\n",
              "</li>\n",
              "\t<li><style>\n",
              ".list-inline {list-style: none; margin:0; padding: 0}\n",
              ".list-inline>li {display: inline-block}\n",
              ".list-inline>li:not(:last-child)::after {content: \"\\00b7\"; padding: 0 .5ex}\n",
              "</style>\n",
              "<ol class=list-inline><li>0.391632548779154</li><li>1.15229752668817</li><li>-0.19332181719468</li><li>-0.494848338637948</li><li>-0.0304050300462534</li><li>0.797558203995146</li><li>-0.441726668422102</li><li>-1.44864013965631</li><li>-1.04510384828079</li><li>0.363618747880066</li></ol>\n",
              "</li>\n",
              "\t<li><style>\n",
              ".list-inline {list-style: none; margin:0; padding: 0}\n",
              ".list-inline>li {display: inline-block}\n",
              ".list-inline>li:not(:last-child)::after {content: \"\\00b7\"; padding: 0 .5ex}\n",
              "</style>\n",
              "<ol class=list-inline><li>-0.576494279969607</li><li>-0.110220550431688</li><li>1.02357342593612</li><li>-0.216389823338455</li><li>1.15696269113367</li><li>-1.32770795982357</li><li>-1.41054833053942</li><li>0.477403683770983</li><li>0.684422157599533</li><li>0.350460403848617</li></ol>\n",
              "</li>\n",
              "\t<li><style>\n",
              ".list-inline {list-style: none; margin:0; padding: 0}\n",
              ".list-inline>li {display: inline-block}\n",
              ".list-inline>li:not(:last-child)::after {content: \"\\00b7\"; padding: 0 .5ex}\n",
              "</style>\n",
              "<ol class=list-inline><li>1.35731464972269</li><li>0.899328106391774</li><li>-0.394152657141461</li><li>-0.0377323810424419</li><li>-0.286195292066552</li><li>0.332129966207882</li><li>-1.25169835850883</li><li>0.456050240858446</li><li>-1.36838567643005</li><li>0.165085938602159</li></ol>\n",
              "</li>\n",
              "</ol>\n"
            ],
            "text/markdown": "1. 1. -2.5372820011139\n2. -2.17483779312942\n3. 0.0320759158967448\n4. -2.16421535153425\n5. 0.0666830396993451\n6. -1.76252738144536\n7. -1.12280960145821\n8. -0.217701150749892\n9. 1.73216126865241\n10. 0.786482371651267\n\n\n\n2. 1. -2.00211060699821\n2. -1.29641108905465\n3. -2.0160865416713\n4. -1.56861235733007\n5. -1.47261410992498\n6. -2.37158002958898\n7. -1.2039289423684\n8. 0.481103878283552\n9. -0.265070393373267\n10. 0.189588167278776\n\n\n\n3. 1. 0.762887532438687\n2. 0.673952571171681\n3. -0.519437954675915\n4. 1.27331671607565\n5. -1.85060301513052\n6. -0.750686326405278\n7. -0.676360920409329\n8. 0.763658682738508\n9. -0.140365283810562\n10. -0.611145250593378\n\n\n\n4. 1. -0.76444009735692\n2. 0.77488158648462\n3. -0.372852084469552\n4. -0.438875671967383\n5. 0.604325983312183\n6. -1.68175609194035\n7. 1.13596356674263\n8. -0.141727863424825\n9. -1.01208232234349\n10. 1.44457815234321\n\n\n\n5. 1. -0.958900872894692\n2. 0.356125514934588\n3. 1.07539496181285\n4. 0.156014654026589\n5. -0.650271977234732\n6. -1.60400288759795\n7. 0.018660117036447\n8. 0.918576469346293\n9. 0.624382736668164\n10. 2.12711461268356\n\n\n\n6. 1. 0.199086880068516\n2. -0.638706318947442\n3. 1.05783653406003\n4. 0.734707563016644\n5. 1.04138218889828\n6. -0.489964193990032\n7. 0.658236952384317\n8. 0.718962027613021\n9. 0.812293635640014\n10. -1.41150802993967\n\n\n\n7. 1. 0.428608356558228\n2. 0.318306970385404\n3. -0.242781115470211\n4. 0.60735587859692\n5. -0.237217270337528\n6. 0.741751862241599\n7. -1.00727579529296\n8. -1.05663035350657\n9. 2.72032967661498\n10. 0.109630257849315\n\n\n\n8. 1. 0.391632548779154\n2. 1.15229752668817\n3. -0.19332181719468\n4. -0.494848338637948\n5. -0.0304050300462534\n6. 0.797558203995146\n7. -0.441726668422102\n8. -1.44864013965631\n9. -1.04510384828079\n10. 0.363618747880066\n\n\n\n9. 1. -0.576494279969607\n2. -0.110220550431688\n3. 1.02357342593612\n4. -0.216389823338455\n5. 1.15696269113367\n6. -1.32770795982357\n7. -1.41054833053942\n8. 0.477403683770983\n9. 0.684422157599533\n10. 0.350460403848617\n\n\n\n10. 1. 1.35731464972269\n2. 0.899328106391774\n3. -0.394152657141461\n4. -0.0377323810424419\n5. -0.286195292066552\n6. 0.332129966207882\n7. -1.25169835850883\n8. 0.456050240858446\n9. -1.36838567643005\n10. 0.165085938602159\n\n\n\n\n\n",
            "text/latex": "\\begin{enumerate}\n\\item \\begin{enumerate*}\n\\item -2.5372820011139\n\\item -2.17483779312942\n\\item 0.0320759158967448\n\\item -2.16421535153425\n\\item 0.0666830396993451\n\\item -1.76252738144536\n\\item -1.12280960145821\n\\item -0.217701150749892\n\\item 1.73216126865241\n\\item 0.786482371651267\n\\end{enumerate*}\n\n\\item \\begin{enumerate*}\n\\item -2.00211060699821\n\\item -1.29641108905465\n\\item -2.0160865416713\n\\item -1.56861235733007\n\\item -1.47261410992498\n\\item -2.37158002958898\n\\item -1.2039289423684\n\\item 0.481103878283552\n\\item -0.265070393373267\n\\item 0.189588167278776\n\\end{enumerate*}\n\n\\item \\begin{enumerate*}\n\\item 0.762887532438687\n\\item 0.673952571171681\n\\item -0.519437954675915\n\\item 1.27331671607565\n\\item -1.85060301513052\n\\item -0.750686326405278\n\\item -0.676360920409329\n\\item 0.763658682738508\n\\item -0.140365283810562\n\\item -0.611145250593378\n\\end{enumerate*}\n\n\\item \\begin{enumerate*}\n\\item -0.76444009735692\n\\item 0.77488158648462\n\\item -0.372852084469552\n\\item -0.438875671967383\n\\item 0.604325983312183\n\\item -1.68175609194035\n\\item 1.13596356674263\n\\item -0.141727863424825\n\\item -1.01208232234349\n\\item 1.44457815234321\n\\end{enumerate*}\n\n\\item \\begin{enumerate*}\n\\item -0.958900872894692\n\\item 0.356125514934588\n\\item 1.07539496181285\n\\item 0.156014654026589\n\\item -0.650271977234732\n\\item -1.60400288759795\n\\item 0.018660117036447\n\\item 0.918576469346293\n\\item 0.624382736668164\n\\item 2.12711461268356\n\\end{enumerate*}\n\n\\item \\begin{enumerate*}\n\\item 0.199086880068516\n\\item -0.638706318947442\n\\item 1.05783653406003\n\\item 0.734707563016644\n\\item 1.04138218889828\n\\item -0.489964193990032\n\\item 0.658236952384317\n\\item 0.718962027613021\n\\item 0.812293635640014\n\\item -1.41150802993967\n\\end{enumerate*}\n\n\\item \\begin{enumerate*}\n\\item 0.428608356558228\n\\item 0.318306970385404\n\\item -0.242781115470211\n\\item 0.60735587859692\n\\item -0.237217270337528\n\\item 0.741751862241599\n\\item -1.00727579529296\n\\item -1.05663035350657\n\\item 2.72032967661498\n\\item 0.109630257849315\n\\end{enumerate*}\n\n\\item \\begin{enumerate*}\n\\item 0.391632548779154\n\\item 1.15229752668817\n\\item -0.19332181719468\n\\item -0.494848338637948\n\\item -0.0304050300462534\n\\item 0.797558203995146\n\\item -0.441726668422102\n\\item -1.44864013965631\n\\item -1.04510384828079\n\\item 0.363618747880066\n\\end{enumerate*}\n\n\\item \\begin{enumerate*}\n\\item -0.576494279969607\n\\item -0.110220550431688\n\\item 1.02357342593612\n\\item -0.216389823338455\n\\item 1.15696269113367\n\\item -1.32770795982357\n\\item -1.41054833053942\n\\item 0.477403683770983\n\\item 0.684422157599533\n\\item 0.350460403848617\n\\end{enumerate*}\n\n\\item \\begin{enumerate*}\n\\item 1.35731464972269\n\\item 0.899328106391774\n\\item -0.394152657141461\n\\item -0.0377323810424419\n\\item -0.286195292066552\n\\item 0.332129966207882\n\\item -1.25169835850883\n\\item 0.456050240858446\n\\item -1.36838567643005\n\\item 0.165085938602159\n\\end{enumerate*}\n\n\\end{enumerate}\n",
            "text/plain": [
              "[[1]]\n",
              " [1] -2.53728200 -2.17483779  0.03207592 -2.16421535  0.06668304 -1.76252738\n",
              " [7] -1.12280960 -0.21770115  1.73216127  0.78648237\n",
              "\n",
              "[[2]]\n",
              " [1] -2.0021106 -1.2964111 -2.0160865 -1.5686124 -1.4726141 -2.3715800\n",
              " [7] -1.2039289  0.4811039 -0.2650704  0.1895882\n",
              "\n",
              "[[3]]\n",
              " [1]  0.7628875  0.6739526 -0.5194380  1.2733167 -1.8506030 -0.7506863\n",
              " [7] -0.6763609  0.7636587 -0.1403653 -0.6111453\n",
              "\n",
              "[[4]]\n",
              " [1] -0.7644401  0.7748816 -0.3728521 -0.4388757  0.6043260 -1.6817561\n",
              " [7]  1.1359636 -0.1417279 -1.0120823  1.4445782\n",
              "\n",
              "[[5]]\n",
              " [1] -0.95890087  0.35612551  1.07539496  0.15601465 -0.65027198 -1.60400289\n",
              " [7]  0.01866012  0.91857647  0.62438274  2.12711461\n",
              "\n",
              "[[6]]\n",
              " [1]  0.1990869 -0.6387063  1.0578365  0.7347076  1.0413822 -0.4899642\n",
              " [7]  0.6582370  0.7189620  0.8122936 -1.4115080\n",
              "\n",
              "[[7]]\n",
              " [1]  0.4286084  0.3183070 -0.2427811  0.6073559 -0.2372173  0.7417519\n",
              " [7] -1.0072758 -1.0566304  2.7203297  0.1096303\n",
              "\n",
              "[[8]]\n",
              " [1]  0.39163255  1.15229753 -0.19332182 -0.49484834 -0.03040503  0.79755820\n",
              " [7] -0.44172667 -1.44864014 -1.04510385  0.36361875\n",
              "\n",
              "[[9]]\n",
              " [1] -0.5764943 -0.1102206  1.0235734 -0.2163898  1.1569627 -1.3277080\n",
              " [7] -1.4105483  0.4774037  0.6844222  0.3504604\n",
              "\n",
              "[[10]]\n",
              " [1]  1.35731465  0.89932811 -0.39415266 -0.03773238 -0.28619529  0.33212997\n",
              " [7] -1.25169836  0.45605024 -1.36838568  0.16508594\n"
            ]
          },
          "metadata": {}
        }
      ]
    },
    {
      "cell_type": "code",
      "source": [
        "gen1 <- function(n_len) {\n",
        "  rep(10,n_len) %>% map(rnorm)\n",
        "}\n",
        "gen2 <- function(n_len) {\n",
        "  df2 <- vector(mode = \"list\", length = n_len)\n",
        "  for (i in 1:n_len)\n",
        "    df2[[i]] <- rnorm(10)\n",
        "  df2\n",
        "}\n",
        "gen3 <- function(n_len) {\n",
        "  lapply(rep(10,n_len), rnorm )\n",
        "}"
      ],
      "metadata": {
        "id": "fsXeccePYT2w"
      },
      "execution_count": 79,
      "outputs": []
    },
    {
      "cell_type": "code",
      "source": [
        "benchmark(\"fc1\"=gen1(1000),\n",
        "          \"fc2\"=gen2(1000),\n",
        "          \"fc3\"=gen3(1000),\n",
        "          replications=100,\n",
        "          columns=c('test', 'elapsed', 'replications'))"
      ],
      "metadata": {
        "id": "mKYD3xjvYV0m",
        "outputId": "5ef2c550-47c2-4974-dba5-e8d8ccabc245",
        "colab": {
          "base_uri": "https://localhost:8080/",
          "height": 192
        }
      },
      "execution_count": 80,
      "outputs": [
        {
          "output_type": "display_data",
          "data": {
            "text/html": [
              "<table class=\"dataframe\">\n",
              "<caption>A data.frame: 3 × 3</caption>\n",
              "<thead>\n",
              "\t<tr><th></th><th scope=col>test</th><th scope=col>elapsed</th><th scope=col>replications</th></tr>\n",
              "\t<tr><th></th><th scope=col>&lt;chr&gt;</th><th scope=col>&lt;dbl&gt;</th><th scope=col>&lt;int&gt;</th></tr>\n",
              "</thead>\n",
              "<tbody>\n",
              "\t<tr><th scope=row>1</th><td>fc1</td><td>0.350</td><td>100</td></tr>\n",
              "\t<tr><th scope=row>2</th><td>fc2</td><td>0.191</td><td>100</td></tr>\n",
              "\t<tr><th scope=row>3</th><td>fc3</td><td>0.242</td><td>100</td></tr>\n",
              "</tbody>\n",
              "</table>\n"
            ],
            "text/markdown": "\nA data.frame: 3 × 3\n\n| <!--/--> | test &lt;chr&gt; | elapsed &lt;dbl&gt; | replications &lt;int&gt; |\n|---|---|---|---|\n| 1 | fc1 | 0.350 | 100 |\n| 2 | fc2 | 0.191 | 100 |\n| 3 | fc3 | 0.242 | 100 |\n\n",
            "text/latex": "A data.frame: 3 × 3\n\\begin{tabular}{r|lll}\n  & test & elapsed & replications\\\\\n  & <chr> & <dbl> & <int>\\\\\n\\hline\n\t1 & fc1 & 0.350 & 100\\\\\n\t2 & fc2 & 0.191 & 100\\\\\n\t3 & fc3 & 0.242 & 100\\\\\n\\end{tabular}\n",
            "text/plain": [
              "  test elapsed replications\n",
              "1 fc1  0.350   100         \n",
              "2 fc2  0.191   100         \n",
              "3 fc3  0.242   100         "
            ]
          },
          "metadata": {}
        }
      ]
    },
    {
      "cell_type": "markdown",
      "source": [
        "# Something useful"
      ],
      "metadata": {
        "id": "-YHr2lbYYa19"
      }
    },
    {
      "cell_type": "code",
      "source": [
        "diamonds"
      ],
      "metadata": {
        "id": "-U_gMkl4YkA2",
        "outputId": "60c2fbde-ca4f-4ad4-f41f-5902792447b7",
        "colab": {
          "base_uri": "https://localhost:8080/",
          "height": 1000
        }
      },
      "execution_count": 82,
      "outputs": [
        {
          "output_type": "display_data",
          "data": {
            "text/html": [
              "<table class=\"dataframe\">\n",
              "<caption>A tibble: 53940 × 10</caption>\n",
              "<thead>\n",
              "\t<tr><th scope=col>carat</th><th scope=col>cut</th><th scope=col>color</th><th scope=col>clarity</th><th scope=col>depth</th><th scope=col>table</th><th scope=col>price</th><th scope=col>x</th><th scope=col>y</th><th scope=col>z</th></tr>\n",
              "\t<tr><th scope=col>&lt;dbl&gt;</th><th scope=col>&lt;ord&gt;</th><th scope=col>&lt;ord&gt;</th><th scope=col>&lt;ord&gt;</th><th scope=col>&lt;dbl&gt;</th><th scope=col>&lt;dbl&gt;</th><th scope=col>&lt;int&gt;</th><th scope=col>&lt;dbl&gt;</th><th scope=col>&lt;dbl&gt;</th><th scope=col>&lt;dbl&gt;</th></tr>\n",
              "</thead>\n",
              "<tbody>\n",
              "\t<tr><td>0.23</td><td>Ideal    </td><td>E</td><td>SI2 </td><td>61.5</td><td>55</td><td>326</td><td>3.95</td><td>3.98</td><td>2.43</td></tr>\n",
              "\t<tr><td>0.21</td><td>Premium  </td><td>E</td><td>SI1 </td><td>59.8</td><td>61</td><td>326</td><td>3.89</td><td>3.84</td><td>2.31</td></tr>\n",
              "\t<tr><td>0.23</td><td>Good     </td><td>E</td><td>VS1 </td><td>56.9</td><td>65</td><td>327</td><td>4.05</td><td>4.07</td><td>2.31</td></tr>\n",
              "\t<tr><td>0.29</td><td>Premium  </td><td>I</td><td>VS2 </td><td>62.4</td><td>58</td><td>334</td><td>4.20</td><td>4.23</td><td>2.63</td></tr>\n",
              "\t<tr><td>0.31</td><td>Good     </td><td>J</td><td>SI2 </td><td>63.3</td><td>58</td><td>335</td><td>4.34</td><td>4.35</td><td>2.75</td></tr>\n",
              "\t<tr><td>0.24</td><td>Very Good</td><td>J</td><td>VVS2</td><td>62.8</td><td>57</td><td>336</td><td>3.94</td><td>3.96</td><td>2.48</td></tr>\n",
              "\t<tr><td>0.24</td><td>Very Good</td><td>I</td><td>VVS1</td><td>62.3</td><td>57</td><td>336</td><td>3.95</td><td>3.98</td><td>2.47</td></tr>\n",
              "\t<tr><td>0.26</td><td>Very Good</td><td>H</td><td>SI1 </td><td>61.9</td><td>55</td><td>337</td><td>4.07</td><td>4.11</td><td>2.53</td></tr>\n",
              "\t<tr><td>0.22</td><td>Fair     </td><td>E</td><td>VS2 </td><td>65.1</td><td>61</td><td>337</td><td>3.87</td><td>3.78</td><td>2.49</td></tr>\n",
              "\t<tr><td>0.23</td><td>Very Good</td><td>H</td><td>VS1 </td><td>59.4</td><td>61</td><td>338</td><td>4.00</td><td>4.05</td><td>2.39</td></tr>\n",
              "\t<tr><td>0.30</td><td>Good     </td><td>J</td><td>SI1 </td><td>64.0</td><td>55</td><td>339</td><td>4.25</td><td>4.28</td><td>2.73</td></tr>\n",
              "\t<tr><td>0.23</td><td>Ideal    </td><td>J</td><td>VS1 </td><td>62.8</td><td>56</td><td>340</td><td>3.93</td><td>3.90</td><td>2.46</td></tr>\n",
              "\t<tr><td>0.22</td><td>Premium  </td><td>F</td><td>SI1 </td><td>60.4</td><td>61</td><td>342</td><td>3.88</td><td>3.84</td><td>2.33</td></tr>\n",
              "\t<tr><td>0.31</td><td>Ideal    </td><td>J</td><td>SI2 </td><td>62.2</td><td>54</td><td>344</td><td>4.35</td><td>4.37</td><td>2.71</td></tr>\n",
              "\t<tr><td>0.20</td><td>Premium  </td><td>E</td><td>SI2 </td><td>60.2</td><td>62</td><td>345</td><td>3.79</td><td>3.75</td><td>2.27</td></tr>\n",
              "\t<tr><td>0.32</td><td>Premium  </td><td>E</td><td>I1  </td><td>60.9</td><td>58</td><td>345</td><td>4.38</td><td>4.42</td><td>2.68</td></tr>\n",
              "\t<tr><td>0.30</td><td>Ideal    </td><td>I</td><td>SI2 </td><td>62.0</td><td>54</td><td>348</td><td>4.31</td><td>4.34</td><td>2.68</td></tr>\n",
              "\t<tr><td>0.30</td><td>Good     </td><td>J</td><td>SI1 </td><td>63.4</td><td>54</td><td>351</td><td>4.23</td><td>4.29</td><td>2.70</td></tr>\n",
              "\t<tr><td>0.30</td><td>Good     </td><td>J</td><td>SI1 </td><td>63.8</td><td>56</td><td>351</td><td>4.23</td><td>4.26</td><td>2.71</td></tr>\n",
              "\t<tr><td>0.30</td><td>Very Good</td><td>J</td><td>SI1 </td><td>62.7</td><td>59</td><td>351</td><td>4.21</td><td>4.27</td><td>2.66</td></tr>\n",
              "\t<tr><td>0.30</td><td>Good     </td><td>I</td><td>SI2 </td><td>63.3</td><td>56</td><td>351</td><td>4.26</td><td>4.30</td><td>2.71</td></tr>\n",
              "\t<tr><td>0.23</td><td>Very Good</td><td>E</td><td>VS2 </td><td>63.8</td><td>55</td><td>352</td><td>3.85</td><td>3.92</td><td>2.48</td></tr>\n",
              "\t<tr><td>0.23</td><td>Very Good</td><td>H</td><td>VS1 </td><td>61.0</td><td>57</td><td>353</td><td>3.94</td><td>3.96</td><td>2.41</td></tr>\n",
              "\t<tr><td>0.31</td><td>Very Good</td><td>J</td><td>SI1 </td><td>59.4</td><td>62</td><td>353</td><td>4.39</td><td>4.43</td><td>2.62</td></tr>\n",
              "\t<tr><td>0.31</td><td>Very Good</td><td>J</td><td>SI1 </td><td>58.1</td><td>62</td><td>353</td><td>4.44</td><td>4.47</td><td>2.59</td></tr>\n",
              "\t<tr><td>0.23</td><td>Very Good</td><td>G</td><td>VVS2</td><td>60.4</td><td>58</td><td>354</td><td>3.97</td><td>4.01</td><td>2.41</td></tr>\n",
              "\t<tr><td>0.24</td><td>Premium  </td><td>I</td><td>VS1 </td><td>62.5</td><td>57</td><td>355</td><td>3.97</td><td>3.94</td><td>2.47</td></tr>\n",
              "\t<tr><td>0.30</td><td>Very Good</td><td>J</td><td>VS2 </td><td>62.2</td><td>57</td><td>357</td><td>4.28</td><td>4.30</td><td>2.67</td></tr>\n",
              "\t<tr><td>0.23</td><td>Very Good</td><td>D</td><td>VS2 </td><td>60.5</td><td>61</td><td>357</td><td>3.96</td><td>3.97</td><td>2.40</td></tr>\n",
              "\t<tr><td>0.23</td><td>Very Good</td><td>F</td><td>VS1 </td><td>60.9</td><td>57</td><td>357</td><td>3.96</td><td>3.99</td><td>2.42</td></tr>\n",
              "\t<tr><td>⋮</td><td>⋮</td><td>⋮</td><td>⋮</td><td>⋮</td><td>⋮</td><td>⋮</td><td>⋮</td><td>⋮</td><td>⋮</td></tr>\n",
              "\t<tr><td>0.70</td><td>Premium  </td><td>E</td><td>SI1 </td><td>60.5</td><td>58</td><td>2753</td><td>5.74</td><td>5.77</td><td>3.48</td></tr>\n",
              "\t<tr><td>0.57</td><td>Premium  </td><td>E</td><td>IF  </td><td>59.8</td><td>60</td><td>2753</td><td>5.43</td><td>5.38</td><td>3.23</td></tr>\n",
              "\t<tr><td>0.61</td><td>Premium  </td><td>F</td><td>VVS1</td><td>61.8</td><td>59</td><td>2753</td><td>5.48</td><td>5.40</td><td>3.36</td></tr>\n",
              "\t<tr><td>0.80</td><td>Good     </td><td>G</td><td>VS2 </td><td>64.2</td><td>58</td><td>2753</td><td>5.84</td><td>5.81</td><td>3.74</td></tr>\n",
              "\t<tr><td>0.84</td><td>Good     </td><td>I</td><td>VS1 </td><td>63.7</td><td>59</td><td>2753</td><td>5.94</td><td>5.90</td><td>3.77</td></tr>\n",
              "\t<tr><td>0.77</td><td>Ideal    </td><td>E</td><td>SI2 </td><td>62.1</td><td>56</td><td>2753</td><td>5.84</td><td>5.86</td><td>3.63</td></tr>\n",
              "\t<tr><td>0.74</td><td>Good     </td><td>D</td><td>SI1 </td><td>63.1</td><td>59</td><td>2753</td><td>5.71</td><td>5.74</td><td>3.61</td></tr>\n",
              "\t<tr><td>0.90</td><td>Very Good</td><td>J</td><td>SI1 </td><td>63.2</td><td>60</td><td>2753</td><td>6.12</td><td>6.09</td><td>3.86</td></tr>\n",
              "\t<tr><td>0.76</td><td>Premium  </td><td>I</td><td>VS1 </td><td>59.3</td><td>62</td><td>2753</td><td>5.93</td><td>5.85</td><td>3.49</td></tr>\n",
              "\t<tr><td>0.76</td><td>Ideal    </td><td>I</td><td>VVS1</td><td>62.2</td><td>55</td><td>2753</td><td>5.89</td><td>5.87</td><td>3.66</td></tr>\n",
              "\t<tr><td>0.70</td><td>Very Good</td><td>E</td><td>VS2 </td><td>62.4</td><td>60</td><td>2755</td><td>5.57</td><td>5.61</td><td>3.49</td></tr>\n",
              "\t<tr><td>0.70</td><td>Very Good</td><td>E</td><td>VS2 </td><td>62.8</td><td>60</td><td>2755</td><td>5.59</td><td>5.65</td><td>3.53</td></tr>\n",
              "\t<tr><td>0.70</td><td>Very Good</td><td>D</td><td>VS1 </td><td>63.1</td><td>59</td><td>2755</td><td>5.67</td><td>5.58</td><td>3.55</td></tr>\n",
              "\t<tr><td>0.73</td><td>Ideal    </td><td>I</td><td>VS2 </td><td>61.3</td><td>56</td><td>2756</td><td>5.80</td><td>5.84</td><td>3.57</td></tr>\n",
              "\t<tr><td>0.73</td><td>Ideal    </td><td>I</td><td>VS2 </td><td>61.6</td><td>55</td><td>2756</td><td>5.82</td><td>5.84</td><td>3.59</td></tr>\n",
              "\t<tr><td>0.79</td><td>Ideal    </td><td>I</td><td>SI1 </td><td>61.6</td><td>56</td><td>2756</td><td>5.95</td><td>5.97</td><td>3.67</td></tr>\n",
              "\t<tr><td>0.71</td><td>Ideal    </td><td>E</td><td>SI1 </td><td>61.9</td><td>56</td><td>2756</td><td>5.71</td><td>5.73</td><td>3.54</td></tr>\n",
              "\t<tr><td>0.79</td><td>Good     </td><td>F</td><td>SI1 </td><td>58.1</td><td>59</td><td>2756</td><td>6.06</td><td>6.13</td><td>3.54</td></tr>\n",
              "\t<tr><td>0.79</td><td>Premium  </td><td>E</td><td>SI2 </td><td>61.4</td><td>58</td><td>2756</td><td>6.03</td><td>5.96</td><td>3.68</td></tr>\n",
              "\t<tr><td>0.71</td><td>Ideal    </td><td>G</td><td>VS1 </td><td>61.4</td><td>56</td><td>2756</td><td>5.76</td><td>5.73</td><td>3.53</td></tr>\n",
              "\t<tr><td>0.71</td><td>Premium  </td><td>E</td><td>SI1 </td><td>60.5</td><td>55</td><td>2756</td><td>5.79</td><td>5.74</td><td>3.49</td></tr>\n",
              "\t<tr><td>0.71</td><td>Premium  </td><td>F</td><td>SI1 </td><td>59.8</td><td>62</td><td>2756</td><td>5.74</td><td>5.73</td><td>3.43</td></tr>\n",
              "\t<tr><td>0.70</td><td>Very Good</td><td>E</td><td>VS2 </td><td>60.5</td><td>59</td><td>2757</td><td>5.71</td><td>5.76</td><td>3.47</td></tr>\n",
              "\t<tr><td>0.70</td><td>Very Good</td><td>E</td><td>VS2 </td><td>61.2</td><td>59</td><td>2757</td><td>5.69</td><td>5.72</td><td>3.49</td></tr>\n",
              "\t<tr><td>0.72</td><td>Premium  </td><td>D</td><td>SI1 </td><td>62.7</td><td>59</td><td>2757</td><td>5.69</td><td>5.73</td><td>3.58</td></tr>\n",
              "\t<tr><td>0.72</td><td>Ideal    </td><td>D</td><td>SI1 </td><td>60.8</td><td>57</td><td>2757</td><td>5.75</td><td>5.76</td><td>3.50</td></tr>\n",
              "\t<tr><td>0.72</td><td>Good     </td><td>D</td><td>SI1 </td><td>63.1</td><td>55</td><td>2757</td><td>5.69</td><td>5.75</td><td>3.61</td></tr>\n",
              "\t<tr><td>0.70</td><td>Very Good</td><td>D</td><td>SI1 </td><td>62.8</td><td>60</td><td>2757</td><td>5.66</td><td>5.68</td><td>3.56</td></tr>\n",
              "\t<tr><td>0.86</td><td>Premium  </td><td>H</td><td>SI2 </td><td>61.0</td><td>58</td><td>2757</td><td>6.15</td><td>6.12</td><td>3.74</td></tr>\n",
              "\t<tr><td>0.75</td><td>Ideal    </td><td>D</td><td>SI2 </td><td>62.2</td><td>55</td><td>2757</td><td>5.83</td><td>5.87</td><td>3.64</td></tr>\n",
              "</tbody>\n",
              "</table>\n"
            ],
            "text/markdown": "\nA tibble: 53940 × 10\n\n| carat &lt;dbl&gt; | cut &lt;ord&gt; | color &lt;ord&gt; | clarity &lt;ord&gt; | depth &lt;dbl&gt; | table &lt;dbl&gt; | price &lt;int&gt; | x &lt;dbl&gt; | y &lt;dbl&gt; | z &lt;dbl&gt; |\n|---|---|---|---|---|---|---|---|---|---|\n| 0.23 | Ideal     | E | SI2  | 61.5 | 55 | 326 | 3.95 | 3.98 | 2.43 |\n| 0.21 | Premium   | E | SI1  | 59.8 | 61 | 326 | 3.89 | 3.84 | 2.31 |\n| 0.23 | Good      | E | VS1  | 56.9 | 65 | 327 | 4.05 | 4.07 | 2.31 |\n| 0.29 | Premium   | I | VS2  | 62.4 | 58 | 334 | 4.20 | 4.23 | 2.63 |\n| 0.31 | Good      | J | SI2  | 63.3 | 58 | 335 | 4.34 | 4.35 | 2.75 |\n| 0.24 | Very Good | J | VVS2 | 62.8 | 57 | 336 | 3.94 | 3.96 | 2.48 |\n| 0.24 | Very Good | I | VVS1 | 62.3 | 57 | 336 | 3.95 | 3.98 | 2.47 |\n| 0.26 | Very Good | H | SI1  | 61.9 | 55 | 337 | 4.07 | 4.11 | 2.53 |\n| 0.22 | Fair      | E | VS2  | 65.1 | 61 | 337 | 3.87 | 3.78 | 2.49 |\n| 0.23 | Very Good | H | VS1  | 59.4 | 61 | 338 | 4.00 | 4.05 | 2.39 |\n| 0.30 | Good      | J | SI1  | 64.0 | 55 | 339 | 4.25 | 4.28 | 2.73 |\n| 0.23 | Ideal     | J | VS1  | 62.8 | 56 | 340 | 3.93 | 3.90 | 2.46 |\n| 0.22 | Premium   | F | SI1  | 60.4 | 61 | 342 | 3.88 | 3.84 | 2.33 |\n| 0.31 | Ideal     | J | SI2  | 62.2 | 54 | 344 | 4.35 | 4.37 | 2.71 |\n| 0.20 | Premium   | E | SI2  | 60.2 | 62 | 345 | 3.79 | 3.75 | 2.27 |\n| 0.32 | Premium   | E | I1   | 60.9 | 58 | 345 | 4.38 | 4.42 | 2.68 |\n| 0.30 | Ideal     | I | SI2  | 62.0 | 54 | 348 | 4.31 | 4.34 | 2.68 |\n| 0.30 | Good      | J | SI1  | 63.4 | 54 | 351 | 4.23 | 4.29 | 2.70 |\n| 0.30 | Good      | J | SI1  | 63.8 | 56 | 351 | 4.23 | 4.26 | 2.71 |\n| 0.30 | Very Good | J | SI1  | 62.7 | 59 | 351 | 4.21 | 4.27 | 2.66 |\n| 0.30 | Good      | I | SI2  | 63.3 | 56 | 351 | 4.26 | 4.30 | 2.71 |\n| 0.23 | Very Good | E | VS2  | 63.8 | 55 | 352 | 3.85 | 3.92 | 2.48 |\n| 0.23 | Very Good | H | VS1  | 61.0 | 57 | 353 | 3.94 | 3.96 | 2.41 |\n| 0.31 | Very Good | J | SI1  | 59.4 | 62 | 353 | 4.39 | 4.43 | 2.62 |\n| 0.31 | Very Good | J | SI1  | 58.1 | 62 | 353 | 4.44 | 4.47 | 2.59 |\n| 0.23 | Very Good | G | VVS2 | 60.4 | 58 | 354 | 3.97 | 4.01 | 2.41 |\n| 0.24 | Premium   | I | VS1  | 62.5 | 57 | 355 | 3.97 | 3.94 | 2.47 |\n| 0.30 | Very Good | J | VS2  | 62.2 | 57 | 357 | 4.28 | 4.30 | 2.67 |\n| 0.23 | Very Good | D | VS2  | 60.5 | 61 | 357 | 3.96 | 3.97 | 2.40 |\n| 0.23 | Very Good | F | VS1  | 60.9 | 57 | 357 | 3.96 | 3.99 | 2.42 |\n| ⋮ | ⋮ | ⋮ | ⋮ | ⋮ | ⋮ | ⋮ | ⋮ | ⋮ | ⋮ |\n| 0.70 | Premium   | E | SI1  | 60.5 | 58 | 2753 | 5.74 | 5.77 | 3.48 |\n| 0.57 | Premium   | E | IF   | 59.8 | 60 | 2753 | 5.43 | 5.38 | 3.23 |\n| 0.61 | Premium   | F | VVS1 | 61.8 | 59 | 2753 | 5.48 | 5.40 | 3.36 |\n| 0.80 | Good      | G | VS2  | 64.2 | 58 | 2753 | 5.84 | 5.81 | 3.74 |\n| 0.84 | Good      | I | VS1  | 63.7 | 59 | 2753 | 5.94 | 5.90 | 3.77 |\n| 0.77 | Ideal     | E | SI2  | 62.1 | 56 | 2753 | 5.84 | 5.86 | 3.63 |\n| 0.74 | Good      | D | SI1  | 63.1 | 59 | 2753 | 5.71 | 5.74 | 3.61 |\n| 0.90 | Very Good | J | SI1  | 63.2 | 60 | 2753 | 6.12 | 6.09 | 3.86 |\n| 0.76 | Premium   | I | VS1  | 59.3 | 62 | 2753 | 5.93 | 5.85 | 3.49 |\n| 0.76 | Ideal     | I | VVS1 | 62.2 | 55 | 2753 | 5.89 | 5.87 | 3.66 |\n| 0.70 | Very Good | E | VS2  | 62.4 | 60 | 2755 | 5.57 | 5.61 | 3.49 |\n| 0.70 | Very Good | E | VS2  | 62.8 | 60 | 2755 | 5.59 | 5.65 | 3.53 |\n| 0.70 | Very Good | D | VS1  | 63.1 | 59 | 2755 | 5.67 | 5.58 | 3.55 |\n| 0.73 | Ideal     | I | VS2  | 61.3 | 56 | 2756 | 5.80 | 5.84 | 3.57 |\n| 0.73 | Ideal     | I | VS2  | 61.6 | 55 | 2756 | 5.82 | 5.84 | 3.59 |\n| 0.79 | Ideal     | I | SI1  | 61.6 | 56 | 2756 | 5.95 | 5.97 | 3.67 |\n| 0.71 | Ideal     | E | SI1  | 61.9 | 56 | 2756 | 5.71 | 5.73 | 3.54 |\n| 0.79 | Good      | F | SI1  | 58.1 | 59 | 2756 | 6.06 | 6.13 | 3.54 |\n| 0.79 | Premium   | E | SI2  | 61.4 | 58 | 2756 | 6.03 | 5.96 | 3.68 |\n| 0.71 | Ideal     | G | VS1  | 61.4 | 56 | 2756 | 5.76 | 5.73 | 3.53 |\n| 0.71 | Premium   | E | SI1  | 60.5 | 55 | 2756 | 5.79 | 5.74 | 3.49 |\n| 0.71 | Premium   | F | SI1  | 59.8 | 62 | 2756 | 5.74 | 5.73 | 3.43 |\n| 0.70 | Very Good | E | VS2  | 60.5 | 59 | 2757 | 5.71 | 5.76 | 3.47 |\n| 0.70 | Very Good | E | VS2  | 61.2 | 59 | 2757 | 5.69 | 5.72 | 3.49 |\n| 0.72 | Premium   | D | SI1  | 62.7 | 59 | 2757 | 5.69 | 5.73 | 3.58 |\n| 0.72 | Ideal     | D | SI1  | 60.8 | 57 | 2757 | 5.75 | 5.76 | 3.50 |\n| 0.72 | Good      | D | SI1  | 63.1 | 55 | 2757 | 5.69 | 5.75 | 3.61 |\n| 0.70 | Very Good | D | SI1  | 62.8 | 60 | 2757 | 5.66 | 5.68 | 3.56 |\n| 0.86 | Premium   | H | SI2  | 61.0 | 58 | 2757 | 6.15 | 6.12 | 3.74 |\n| 0.75 | Ideal     | D | SI2  | 62.2 | 55 | 2757 | 5.83 | 5.87 | 3.64 |\n\n",
            "text/latex": "A tibble: 53940 × 10\n\\begin{tabular}{llllllllll}\n carat & cut & color & clarity & depth & table & price & x & y & z\\\\\n <dbl> & <ord> & <ord> & <ord> & <dbl> & <dbl> & <int> & <dbl> & <dbl> & <dbl>\\\\\n\\hline\n\t 0.23 & Ideal     & E & SI2  & 61.5 & 55 & 326 & 3.95 & 3.98 & 2.43\\\\\n\t 0.21 & Premium   & E & SI1  & 59.8 & 61 & 326 & 3.89 & 3.84 & 2.31\\\\\n\t 0.23 & Good      & E & VS1  & 56.9 & 65 & 327 & 4.05 & 4.07 & 2.31\\\\\n\t 0.29 & Premium   & I & VS2  & 62.4 & 58 & 334 & 4.20 & 4.23 & 2.63\\\\\n\t 0.31 & Good      & J & SI2  & 63.3 & 58 & 335 & 4.34 & 4.35 & 2.75\\\\\n\t 0.24 & Very Good & J & VVS2 & 62.8 & 57 & 336 & 3.94 & 3.96 & 2.48\\\\\n\t 0.24 & Very Good & I & VVS1 & 62.3 & 57 & 336 & 3.95 & 3.98 & 2.47\\\\\n\t 0.26 & Very Good & H & SI1  & 61.9 & 55 & 337 & 4.07 & 4.11 & 2.53\\\\\n\t 0.22 & Fair      & E & VS2  & 65.1 & 61 & 337 & 3.87 & 3.78 & 2.49\\\\\n\t 0.23 & Very Good & H & VS1  & 59.4 & 61 & 338 & 4.00 & 4.05 & 2.39\\\\\n\t 0.30 & Good      & J & SI1  & 64.0 & 55 & 339 & 4.25 & 4.28 & 2.73\\\\\n\t 0.23 & Ideal     & J & VS1  & 62.8 & 56 & 340 & 3.93 & 3.90 & 2.46\\\\\n\t 0.22 & Premium   & F & SI1  & 60.4 & 61 & 342 & 3.88 & 3.84 & 2.33\\\\\n\t 0.31 & Ideal     & J & SI2  & 62.2 & 54 & 344 & 4.35 & 4.37 & 2.71\\\\\n\t 0.20 & Premium   & E & SI2  & 60.2 & 62 & 345 & 3.79 & 3.75 & 2.27\\\\\n\t 0.32 & Premium   & E & I1   & 60.9 & 58 & 345 & 4.38 & 4.42 & 2.68\\\\\n\t 0.30 & Ideal     & I & SI2  & 62.0 & 54 & 348 & 4.31 & 4.34 & 2.68\\\\\n\t 0.30 & Good      & J & SI1  & 63.4 & 54 & 351 & 4.23 & 4.29 & 2.70\\\\\n\t 0.30 & Good      & J & SI1  & 63.8 & 56 & 351 & 4.23 & 4.26 & 2.71\\\\\n\t 0.30 & Very Good & J & SI1  & 62.7 & 59 & 351 & 4.21 & 4.27 & 2.66\\\\\n\t 0.30 & Good      & I & SI2  & 63.3 & 56 & 351 & 4.26 & 4.30 & 2.71\\\\\n\t 0.23 & Very Good & E & VS2  & 63.8 & 55 & 352 & 3.85 & 3.92 & 2.48\\\\\n\t 0.23 & Very Good & H & VS1  & 61.0 & 57 & 353 & 3.94 & 3.96 & 2.41\\\\\n\t 0.31 & Very Good & J & SI1  & 59.4 & 62 & 353 & 4.39 & 4.43 & 2.62\\\\\n\t 0.31 & Very Good & J & SI1  & 58.1 & 62 & 353 & 4.44 & 4.47 & 2.59\\\\\n\t 0.23 & Very Good & G & VVS2 & 60.4 & 58 & 354 & 3.97 & 4.01 & 2.41\\\\\n\t 0.24 & Premium   & I & VS1  & 62.5 & 57 & 355 & 3.97 & 3.94 & 2.47\\\\\n\t 0.30 & Very Good & J & VS2  & 62.2 & 57 & 357 & 4.28 & 4.30 & 2.67\\\\\n\t 0.23 & Very Good & D & VS2  & 60.5 & 61 & 357 & 3.96 & 3.97 & 2.40\\\\\n\t 0.23 & Very Good & F & VS1  & 60.9 & 57 & 357 & 3.96 & 3.99 & 2.42\\\\\n\t ⋮ & ⋮ & ⋮ & ⋮ & ⋮ & ⋮ & ⋮ & ⋮ & ⋮ & ⋮\\\\\n\t 0.70 & Premium   & E & SI1  & 60.5 & 58 & 2753 & 5.74 & 5.77 & 3.48\\\\\n\t 0.57 & Premium   & E & IF   & 59.8 & 60 & 2753 & 5.43 & 5.38 & 3.23\\\\\n\t 0.61 & Premium   & F & VVS1 & 61.8 & 59 & 2753 & 5.48 & 5.40 & 3.36\\\\\n\t 0.80 & Good      & G & VS2  & 64.2 & 58 & 2753 & 5.84 & 5.81 & 3.74\\\\\n\t 0.84 & Good      & I & VS1  & 63.7 & 59 & 2753 & 5.94 & 5.90 & 3.77\\\\\n\t 0.77 & Ideal     & E & SI2  & 62.1 & 56 & 2753 & 5.84 & 5.86 & 3.63\\\\\n\t 0.74 & Good      & D & SI1  & 63.1 & 59 & 2753 & 5.71 & 5.74 & 3.61\\\\\n\t 0.90 & Very Good & J & SI1  & 63.2 & 60 & 2753 & 6.12 & 6.09 & 3.86\\\\\n\t 0.76 & Premium   & I & VS1  & 59.3 & 62 & 2753 & 5.93 & 5.85 & 3.49\\\\\n\t 0.76 & Ideal     & I & VVS1 & 62.2 & 55 & 2753 & 5.89 & 5.87 & 3.66\\\\\n\t 0.70 & Very Good & E & VS2  & 62.4 & 60 & 2755 & 5.57 & 5.61 & 3.49\\\\\n\t 0.70 & Very Good & E & VS2  & 62.8 & 60 & 2755 & 5.59 & 5.65 & 3.53\\\\\n\t 0.70 & Very Good & D & VS1  & 63.1 & 59 & 2755 & 5.67 & 5.58 & 3.55\\\\\n\t 0.73 & Ideal     & I & VS2  & 61.3 & 56 & 2756 & 5.80 & 5.84 & 3.57\\\\\n\t 0.73 & Ideal     & I & VS2  & 61.6 & 55 & 2756 & 5.82 & 5.84 & 3.59\\\\\n\t 0.79 & Ideal     & I & SI1  & 61.6 & 56 & 2756 & 5.95 & 5.97 & 3.67\\\\\n\t 0.71 & Ideal     & E & SI1  & 61.9 & 56 & 2756 & 5.71 & 5.73 & 3.54\\\\\n\t 0.79 & Good      & F & SI1  & 58.1 & 59 & 2756 & 6.06 & 6.13 & 3.54\\\\\n\t 0.79 & Premium   & E & SI2  & 61.4 & 58 & 2756 & 6.03 & 5.96 & 3.68\\\\\n\t 0.71 & Ideal     & G & VS1  & 61.4 & 56 & 2756 & 5.76 & 5.73 & 3.53\\\\\n\t 0.71 & Premium   & E & SI1  & 60.5 & 55 & 2756 & 5.79 & 5.74 & 3.49\\\\\n\t 0.71 & Premium   & F & SI1  & 59.8 & 62 & 2756 & 5.74 & 5.73 & 3.43\\\\\n\t 0.70 & Very Good & E & VS2  & 60.5 & 59 & 2757 & 5.71 & 5.76 & 3.47\\\\\n\t 0.70 & Very Good & E & VS2  & 61.2 & 59 & 2757 & 5.69 & 5.72 & 3.49\\\\\n\t 0.72 & Premium   & D & SI1  & 62.7 & 59 & 2757 & 5.69 & 5.73 & 3.58\\\\\n\t 0.72 & Ideal     & D & SI1  & 60.8 & 57 & 2757 & 5.75 & 5.76 & 3.50\\\\\n\t 0.72 & Good      & D & SI1  & 63.1 & 55 & 2757 & 5.69 & 5.75 & 3.61\\\\\n\t 0.70 & Very Good & D & SI1  & 62.8 & 60 & 2757 & 5.66 & 5.68 & 3.56\\\\\n\t 0.86 & Premium   & H & SI2  & 61.0 & 58 & 2757 & 6.15 & 6.12 & 3.74\\\\\n\t 0.75 & Ideal     & D & SI2  & 62.2 & 55 & 2757 & 5.83 & 5.87 & 3.64\\\\\n\\end{tabular}\n",
            "text/plain": [
              "      carat cut       color clarity depth table price x    y    z   \n",
              "1     0.23  Ideal     E     SI2     61.5  55    326   3.95 3.98 2.43\n",
              "2     0.21  Premium   E     SI1     59.8  61    326   3.89 3.84 2.31\n",
              "3     0.23  Good      E     VS1     56.9  65    327   4.05 4.07 2.31\n",
              "4     0.29  Premium   I     VS2     62.4  58    334   4.20 4.23 2.63\n",
              "5     0.31  Good      J     SI2     63.3  58    335   4.34 4.35 2.75\n",
              "6     0.24  Very Good J     VVS2    62.8  57    336   3.94 3.96 2.48\n",
              "7     0.24  Very Good I     VVS1    62.3  57    336   3.95 3.98 2.47\n",
              "8     0.26  Very Good H     SI1     61.9  55    337   4.07 4.11 2.53\n",
              "9     0.22  Fair      E     VS2     65.1  61    337   3.87 3.78 2.49\n",
              "10    0.23  Very Good H     VS1     59.4  61    338   4.00 4.05 2.39\n",
              "11    0.30  Good      J     SI1     64.0  55    339   4.25 4.28 2.73\n",
              "12    0.23  Ideal     J     VS1     62.8  56    340   3.93 3.90 2.46\n",
              "13    0.22  Premium   F     SI1     60.4  61    342   3.88 3.84 2.33\n",
              "14    0.31  Ideal     J     SI2     62.2  54    344   4.35 4.37 2.71\n",
              "15    0.20  Premium   E     SI2     60.2  62    345   3.79 3.75 2.27\n",
              "16    0.32  Premium   E     I1      60.9  58    345   4.38 4.42 2.68\n",
              "17    0.30  Ideal     I     SI2     62.0  54    348   4.31 4.34 2.68\n",
              "18    0.30  Good      J     SI1     63.4  54    351   4.23 4.29 2.70\n",
              "19    0.30  Good      J     SI1     63.8  56    351   4.23 4.26 2.71\n",
              "20    0.30  Very Good J     SI1     62.7  59    351   4.21 4.27 2.66\n",
              "21    0.30  Good      I     SI2     63.3  56    351   4.26 4.30 2.71\n",
              "22    0.23  Very Good E     VS2     63.8  55    352   3.85 3.92 2.48\n",
              "23    0.23  Very Good H     VS1     61.0  57    353   3.94 3.96 2.41\n",
              "24    0.31  Very Good J     SI1     59.4  62    353   4.39 4.43 2.62\n",
              "25    0.31  Very Good J     SI1     58.1  62    353   4.44 4.47 2.59\n",
              "26    0.23  Very Good G     VVS2    60.4  58    354   3.97 4.01 2.41\n",
              "27    0.24  Premium   I     VS1     62.5  57    355   3.97 3.94 2.47\n",
              "28    0.30  Very Good J     VS2     62.2  57    357   4.28 4.30 2.67\n",
              "29    0.23  Very Good D     VS2     60.5  61    357   3.96 3.97 2.40\n",
              "30    0.23  Very Good F     VS1     60.9  57    357   3.96 3.99 2.42\n",
              "⋮     ⋮     ⋮         ⋮     ⋮       ⋮     ⋮     ⋮     ⋮    ⋮    ⋮   \n",
              "53911 0.70  Premium   E     SI1     60.5  58    2753  5.74 5.77 3.48\n",
              "53912 0.57  Premium   E     IF      59.8  60    2753  5.43 5.38 3.23\n",
              "53913 0.61  Premium   F     VVS1    61.8  59    2753  5.48 5.40 3.36\n",
              "53914 0.80  Good      G     VS2     64.2  58    2753  5.84 5.81 3.74\n",
              "53915 0.84  Good      I     VS1     63.7  59    2753  5.94 5.90 3.77\n",
              "53916 0.77  Ideal     E     SI2     62.1  56    2753  5.84 5.86 3.63\n",
              "53917 0.74  Good      D     SI1     63.1  59    2753  5.71 5.74 3.61\n",
              "53918 0.90  Very Good J     SI1     63.2  60    2753  6.12 6.09 3.86\n",
              "53919 0.76  Premium   I     VS1     59.3  62    2753  5.93 5.85 3.49\n",
              "53920 0.76  Ideal     I     VVS1    62.2  55    2753  5.89 5.87 3.66\n",
              "53921 0.70  Very Good E     VS2     62.4  60    2755  5.57 5.61 3.49\n",
              "53922 0.70  Very Good E     VS2     62.8  60    2755  5.59 5.65 3.53\n",
              "53923 0.70  Very Good D     VS1     63.1  59    2755  5.67 5.58 3.55\n",
              "53924 0.73  Ideal     I     VS2     61.3  56    2756  5.80 5.84 3.57\n",
              "53925 0.73  Ideal     I     VS2     61.6  55    2756  5.82 5.84 3.59\n",
              "53926 0.79  Ideal     I     SI1     61.6  56    2756  5.95 5.97 3.67\n",
              "53927 0.71  Ideal     E     SI1     61.9  56    2756  5.71 5.73 3.54\n",
              "53928 0.79  Good      F     SI1     58.1  59    2756  6.06 6.13 3.54\n",
              "53929 0.79  Premium   E     SI2     61.4  58    2756  6.03 5.96 3.68\n",
              "53930 0.71  Ideal     G     VS1     61.4  56    2756  5.76 5.73 3.53\n",
              "53931 0.71  Premium   E     SI1     60.5  55    2756  5.79 5.74 3.49\n",
              "53932 0.71  Premium   F     SI1     59.8  62    2756  5.74 5.73 3.43\n",
              "53933 0.70  Very Good E     VS2     60.5  59    2757  5.71 5.76 3.47\n",
              "53934 0.70  Very Good E     VS2     61.2  59    2757  5.69 5.72 3.49\n",
              "53935 0.72  Premium   D     SI1     62.7  59    2757  5.69 5.73 3.58\n",
              "53936 0.72  Ideal     D     SI1     60.8  57    2757  5.75 5.76 3.50\n",
              "53937 0.72  Good      D     SI1     63.1  55    2757  5.69 5.75 3.61\n",
              "53938 0.70  Very Good D     SI1     62.8  60    2757  5.66 5.68 3.56\n",
              "53939 0.86  Premium   H     SI2     61.0  58    2757  6.15 6.12 3.74\n",
              "53940 0.75  Ideal     D     SI2     62.2  55    2757  5.83 5.87 3.64"
            ]
          },
          "metadata": {}
        }
      ]
    },
    {
      "cell_type": "code",
      "source": [
        "diamonds %>% ggplot(aes(cut, price)) + geom_boxplot()"
      ],
      "metadata": {
        "id": "WA7nk-KUYmL3",
        "outputId": "1f692d2f-49f5-451a-ae09-c53e6a276fc5",
        "colab": {
          "base_uri": "https://localhost:8080/",
          "height": 437
        }
      },
      "execution_count": 83,
      "outputs": [
        {
          "output_type": "display_data",
          "data": {
            "text/plain": [
              "plot without title"
            ],
            "image/png": "[encoded data removed]"
          },
          "metadata": {
            "image/png": {
              "width": 420,
              "height": 420
            }
          }
        }
      ]
    },
    {
      "cell_type": "code",
      "source": [
        "diamonds %>% ggplot(aes(cut, price)) + geom_violin()"
      ],
      "metadata": {
        "id": "8TuHLSfpYoIi",
        "outputId": "cd5e772f-e798-42b4-f002-e6d1ae2ca3d7",
        "colab": {
          "base_uri": "https://localhost:8080/",
          "height": 437
        }
      },
      "execution_count": 84,
      "outputs": [
        {
          "output_type": "display_data",
          "data": {
            "text/plain": [
              "plot without title"
            ],
            "image/png": "[encoded data removed]"
          },
          "metadata": {
            "image/png": {
              "width": 420,
              "height": 420
            }
          }
        }
      ]
    },
    {
      "cell_type": "code",
      "source": [
        "diamonds %>% ggplot(aes(cut, price)) + geom_violin() + geom_boxplot(width=0.1, color=\"grey\", alpha=0.2)"
      ],
      "metadata": {
        "id": "z31fFjSeYq3p",
        "outputId": "6ef760f2-10ff-4711-f920-3ae0814e132a",
        "colab": {
          "base_uri": "https://localhost:8080/",
          "height": 437
        }
      },
      "execution_count": 85,
      "outputs": [
        {
          "output_type": "display_data",
          "data": {
            "text/plain": [
              "plot without title"
            ],
            "image/png": "[encoded data removed]"
          },
          "metadata": {
            "image/png": {
              "width": 420,
              "height": 420
            }
          }
        }
      ]
    },
    {
      "cell_type": "code",
      "source": [],
      "metadata": {
        "id": "ecHK6SYhYtX8"
      },
      "execution_count": null,
      "outputs": []
    }
  ]
}