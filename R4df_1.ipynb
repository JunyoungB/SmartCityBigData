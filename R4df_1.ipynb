{
  "nbformat": 4,
  "nbformat_minor": 0,
  "metadata": {
    "colab": {
      "provenance": [],
      "authorship_tag": "ABX9TyPgQ2DHvO0sa21qEAyqQASD",
      "include_colab_link": true
    },
    "kernelspec": {
      "name": "ir",
      "display_name": "R"
    },
    "language_info": {
      "name": "R"
    }
  },
  "cells": [
    {
      "cell_type": "markdown",
      "metadata": {
        "id": "view-in-github",
        "colab_type": "text"
      },
      "source": [
        "<a href=\"https://colab.research.google.com/github/JunyoungB/SmartCityBigData/blob/main/R4df_1.ipynb\" target=\"_parent\"><img src=\"https://colab.research.google.com/assets/colab-badge.svg\" alt=\"Open In Colab\"/></a>"
      ]
    },
    {
      "cell_type": "markdown",
      "source": [
        "## R for Data Science 실습\n",
        "\n",
        "Colab 에서 R 사용: Runtime - Change Runtime type 에서 R로 변경\n"
      ],
      "metadata": {
        "id": "3u-Qf1gt6iH6"
      }
    },
    {
      "cell_type": "code",
      "source": [
        "library(tidyverse)"
      ],
      "metadata": {
        "colab": {
          "base_uri": "https://localhost:8080/"
        },
        "id": "UkbKgXQt6ibb",
        "outputId": "bc487838-c621-4410-d677-52fe82865608"
      },
      "execution_count": 2,
      "outputs": [
        {
          "output_type": "stream",
          "name": "stderr",
          "text": [
            "── \u001b[1mAttaching core tidyverse packages\u001b[22m ──────────────────────── tidyverse 2.0.0 ──\n",
            "\u001b[32m✔\u001b[39m \u001b[34mdplyr    \u001b[39m 1.1.4     \u001b[32m✔\u001b[39m \u001b[34mreadr    \u001b[39m 2.1.5\n",
            "\u001b[32m✔\u001b[39m \u001b[34mforcats  \u001b[39m 1.0.0     \u001b[32m✔\u001b[39m \u001b[34mstringr  \u001b[39m 1.5.1\n",
            "\u001b[32m✔\u001b[39m \u001b[34mggplot2  \u001b[39m 3.5.2     \u001b[32m✔\u001b[39m \u001b[34mtibble   \u001b[39m 3.3.0\n",
            "\u001b[32m✔\u001b[39m \u001b[34mlubridate\u001b[39m 1.9.4     \u001b[32m✔\u001b[39m \u001b[34mtidyr    \u001b[39m 1.3.1\n",
            "\u001b[32m✔\u001b[39m \u001b[34mpurrr    \u001b[39m 1.1.0     \n",
            "── \u001b[1mConflicts\u001b[22m ────────────────────────────────────────── tidyverse_conflicts() ──\n",
            "\u001b[31m✖\u001b[39m \u001b[34mdplyr\u001b[39m::\u001b[32mfilter()\u001b[39m masks \u001b[34mstats\u001b[39m::filter()\n",
            "\u001b[31m✖\u001b[39m \u001b[34mdplyr\u001b[39m::\u001b[32mlag()\u001b[39m    masks \u001b[34mstats\u001b[39m::lag()\n",
            "\u001b[36mℹ\u001b[39m Use the conflicted package (\u001b[3m\u001b[34m<http://conflicted.r-lib.org/>\u001b[39m\u001b[23m) to force all conflicts to become errors\n"
          ]
        }
      ]
    },
    {
      "cell_type": "markdown",
      "source": [
        "## Pipes\n"
      ],
      "metadata": {
        "id": "NPGlXZkr6mda"
      }
    },
    {
      "cell_type": "code",
      "source": [
        "summary(cars)"
      ],
      "metadata": {
        "colab": {
          "base_uri": "https://localhost:8080/",
          "height": 142
        },
        "id": "V_Vte-w86jq0",
        "outputId": "66e5f7af-db16-418c-ffee-7fa3846e27ae"
      },
      "execution_count": 3,
      "outputs": [
        {
          "output_type": "display_data",
          "data": {
            "text/plain": [
              "     speed           dist       \n",
              " Min.   : 4.0   Min.   :  2.00  \n",
              " 1st Qu.:12.0   1st Qu.: 26.00  \n",
              " Median :15.0   Median : 36.00  \n",
              " Mean   :15.4   Mean   : 42.98  \n",
              " 3rd Qu.:19.0   3rd Qu.: 56.00  \n",
              " Max.   :25.0   Max.   :120.00  "
            ]
          },
          "metadata": {}
        }
      ]
    },
    {
      "cell_type": "code",
      "source": [
        "cars %>% summary()"
      ],
      "metadata": {
        "colab": {
          "base_uri": "https://localhost:8080/",
          "height": 142
        },
        "id": "7n5RuWsp6q6u",
        "outputId": "5074d2af-f423-42c5-d54b-47e19dc71a9a"
      },
      "execution_count": 4,
      "outputs": [
        {
          "output_type": "display_data",
          "data": {
            "text/plain": [
              "     speed           dist       \n",
              " Min.   : 4.0   Min.   :  2.00  \n",
              " 1st Qu.:12.0   1st Qu.: 26.00  \n",
              " Median :15.0   Median : 36.00  \n",
              " Mean   :15.4   Mean   : 42.98  \n",
              " 3rd Qu.:19.0   3rd Qu.: 56.00  \n",
              " Max.   :25.0   Max.   :120.00  "
            ]
          },
          "metadata": {}
        }
      ]
    },
    {
      "cell_type": "code",
      "source": [
        "head(cars, 3)"
      ],
      "metadata": {
        "colab": {
          "base_uri": "https://localhost:8080/",
          "height": 192
        },
        "id": "zqK8Mro86sYd",
        "outputId": "f1b0e885-c27c-4a0f-d8e8-984a127691b5"
      },
      "execution_count": 5,
      "outputs": [
        {
          "output_type": "display_data",
          "data": {
            "text/html": [
              "<table class=\"dataframe\">\n",
              "<caption>A data.frame: 3 × 2</caption>\n",
              "<thead>\n",
              "\t<tr><th></th><th scope=col>speed</th><th scope=col>dist</th></tr>\n",
              "\t<tr><th></th><th scope=col>&lt;dbl&gt;</th><th scope=col>&lt;dbl&gt;</th></tr>\n",
              "</thead>\n",
              "<tbody>\n",
              "\t<tr><th scope=row>1</th><td>4</td><td> 2</td></tr>\n",
              "\t<tr><th scope=row>2</th><td>4</td><td>10</td></tr>\n",
              "\t<tr><th scope=row>3</th><td>7</td><td> 4</td></tr>\n",
              "</tbody>\n",
              "</table>\n"
            ],
            "text/markdown": "\nA data.frame: 3 × 2\n\n| <!--/--> | speed &lt;dbl&gt; | dist &lt;dbl&gt; |\n|---|---|---|\n| 1 | 4 |  2 |\n| 2 | 4 | 10 |\n| 3 | 7 |  4 |\n\n",
            "text/latex": "A data.frame: 3 × 2\n\\begin{tabular}{r|ll}\n  & speed & dist\\\\\n  & <dbl> & <dbl>\\\\\n\\hline\n\t1 & 4 &  2\\\\\n\t2 & 4 & 10\\\\\n\t3 & 7 &  4\\\\\n\\end{tabular}\n",
            "text/plain": [
              "  speed dist\n",
              "1 4      2  \n",
              "2 4     10  \n",
              "3 7      4  "
            ]
          },
          "metadata": {}
        }
      ]
    },
    {
      "cell_type": "code",
      "source": [
        "cars %>% head(3)"
      ],
      "metadata": {
        "colab": {
          "base_uri": "https://localhost:8080/",
          "height": 192
        },
        "id": "nptH3li76tt_",
        "outputId": "7962b5a1-763d-4052-bb4b-f3afcbf55093"
      },
      "execution_count": 6,
      "outputs": [
        {
          "output_type": "display_data",
          "data": {
            "text/html": [
              "<table class=\"dataframe\">\n",
              "<caption>A data.frame: 3 × 2</caption>\n",
              "<thead>\n",
              "\t<tr><th></th><th scope=col>speed</th><th scope=col>dist</th></tr>\n",
              "\t<tr><th></th><th scope=col>&lt;dbl&gt;</th><th scope=col>&lt;dbl&gt;</th></tr>\n",
              "</thead>\n",
              "<tbody>\n",
              "\t<tr><th scope=row>1</th><td>4</td><td> 2</td></tr>\n",
              "\t<tr><th scope=row>2</th><td>4</td><td>10</td></tr>\n",
              "\t<tr><th scope=row>3</th><td>7</td><td> 4</td></tr>\n",
              "</tbody>\n",
              "</table>\n"
            ],
            "text/markdown": "\nA data.frame: 3 × 2\n\n| <!--/--> | speed &lt;dbl&gt; | dist &lt;dbl&gt; |\n|---|---|---|\n| 1 | 4 |  2 |\n| 2 | 4 | 10 |\n| 3 | 7 |  4 |\n\n",
            "text/latex": "A data.frame: 3 × 2\n\\begin{tabular}{r|ll}\n  & speed & dist\\\\\n  & <dbl> & <dbl>\\\\\n\\hline\n\t1 & 4 &  2\\\\\n\t2 & 4 & 10\\\\\n\t3 & 7 &  4\\\\\n\\end{tabular}\n",
            "text/plain": [
              "  speed dist\n",
              "1 4      2  \n",
              "2 4     10  \n",
              "3 7      4  "
            ]
          },
          "metadata": {}
        }
      ]
    },
    {
      "cell_type": "code",
      "source": [],
      "metadata": {
        "id": "CUtIlgw96u5B"
      },
      "execution_count": null,
      "outputs": []
    }
  ]
}